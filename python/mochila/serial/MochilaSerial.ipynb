{
 "cells": [
  {
   "attachments": {},
   "cell_type": "markdown",
   "id": "39dad09d",
   "metadata": {
    "id": "39dad09d"
   },
   "source": [
    "# Ambiente:\n",
    "\n",
    "\n",
    "* Jupyter (VSCode, Anaconda, Atom, PyCharm);\n",
    "* Python 3.11;\n",
    "* MPI4Py;\n",
    "\n",
    "# Passo a Passo:\n",
    "\n",
    "* Executar o código Serial;\n",
    "* Fazer as alterações para MPI (Criando código para Sistemas Distribuídos);\n",
    "* Execução do código distribuído;\n",
    "\n",
    "# Problema da Mochila:\n",
    "\n",
    "O problema da mochila (em inglês, Knapsack problem) é um problema de optimização combinatória. O nome dá-se devido ao modelo de uma situação em que é necessário preencher uma mochila com objetos de diferentes pesos e valores. O objetivo é que se preencha a mochila com o maior valor possível, não ultrapassando o peso máximo.\n",
    "\n",
    "\n",
    "O problema da mochila é um dos 21 problemas NP-completos de Richard Karp, exposto em 1972. A formulação do problema é extremamente simples, porém sua solução é mais complexa. Este problema é a base do primeiro algoritmo de chave pública (chaves assimétricas).\n",
    "\n",
    "\n",
    "Normalmente este problema é resolvido com programação dinâmica, obtendo então a resolução exata do problema, mas também sendo possível usar PSE (procedimento de separação e evolução). Existem também outras técnicas, como usar algoritmo guloso, meta-heurística (algoritmos genéticos) para soluções aproximadas.\n"
   ]
  },
  {
   "attachments": {},
   "cell_type": "markdown",
   "metadata": {
    "collapsed": false
   },
   "source": [
    "# Problema da Mochila - Quantidade limitada de Produtos\n",
    "## Implementação Serial"
   ]
  },
  {
   "cell_type": "code",
   "execution_count": 1,
   "metadata": {
    "ExecuteTime": {
     "end_time": "2023-05-06T16:14:48.336083900Z",
     "start_time": "2023-05-06T16:14:46.574438400Z"
    },
    "collapsed": false
   },
   "outputs": [],
   "source": [
    "import time as t\n",
    "import matplotlib.pyplot as plt\n",
    "import numpy as np\n",
    "from scipy.stats import norm"
   ]
  },
  {
   "cell_type": "code",
   "execution_count": 2,
   "id": "c1aff8d5",
   "metadata": {
    "ExecuteTime": {
     "end_time": "2023-05-06T16:18:35.800169300Z",
     "start_time": "2023-05-06T16:18:35.778070600Z"
    },
    "colab": {
     "base_uri": "https://localhost:8080/"
    },
    "id": "c1aff8d5",
    "outputId": "85544579-d0ad-436b-baf8-3dbb59f1f2b3"
   },
   "outputs": [
    {
     "name": "stdout",
     "output_type": "stream",
     "text": [
      "Overwriting ./mochila_serial.py\n"
     ]
    }
   ],
   "source": [
    "%%writefile ./mochila_serial.py\n",
    "# Importando as bibliotecas\n",
    "import random\n",
    "import sys\n",
    "import numpy as np\n",
    "\n",
    "random.seed(1)\n",
    "\n",
    "# Definições\n",
    "TAM_LOJA     = int(sys.argv[1])       # 7\n",
    "QTD_MAX_PROD = int(sys.argv[2])       # 9\n",
    "VAL_MAX_PROD = int(sys.argv[3])       # 20\n",
    "VOL_MAX_PROD = int(sys.argv[4])       # 10\n",
    "CAP_MOCHILA  = int(sys.argv[5])       # 30\n",
    "\n",
    "#Busca combinação pelo indice\n",
    "def int_comb(valor, base):\n",
    "    comb = []\n",
    "    quo = valor\n",
    "    base.reverse()\n",
    "    for b in base:\n",
    "        res = quo % (b+1)\n",
    "        quo = quo // (b+1)\n",
    "        comb.insert(0, res)\n",
    "    base.reverse()\n",
    "    return comb\n",
    "\n",
    "#função para retornar um intervalo de valores com os melhores lucros\n",
    "def int_combs(inicio, fim, loja):\n",
    "    combs = []\n",
    "    base = loja['Quantidade']\n",
    "    for v in range (inicio, fim+1):\n",
    "        comb = v, int_comb(v, base)\n",
    "        comb = valor_comb(comb, loja)\n",
    "        if comb[0] == inicio: # Primeiro valor precisa ser registrado\n",
    "            combs.append(comb)\n",
    "        elif comb[2] > combs[-1][2]:\n",
    "            combs = []\n",
    "            combs.append(comb)\n",
    "        elif comb[2] == combs[-1][2] and comb[2]> -1:\n",
    "            combs.append(comb)\n",
    "    return combs\n",
    "\n",
    "\n",
    "#função para retornar o valor da combinação\n",
    "def valor_comb(comb, loja):\n",
    "    valores = loja['Valor']\n",
    "    valor = 0\n",
    "    volumes = loja['Volume']\n",
    "    vol = 0\n",
    "    for i in range(len(valores)):\n",
    "        valor += comb[1][i] * valores[i]\n",
    "        vol += comb[1][i] * volumes[i]\n",
    "\n",
    "    if vol > CAP_MOCHILA:\n",
    "        valor = -1\n",
    "\n",
    "    return comb[0], comb[1], valor\n",
    "\n",
    "#Gerando a loja\n",
    "def gera_loja(tam_loja, max_preco, max_vol, qtde_max_prod):\n",
    "    random.seed(12)\n",
    "    loja = {\n",
    "        'Produto': [i for i in range(tam_loja)],\n",
    "        'Valor': [random.randint(1, max_preco) for i in range(tam_loja)],\n",
    "        'Volume': [random.randint(1, max_vol) for i in range(tam_loja)],\n",
    "        'Quantidade': [random.randint(1, qtde_max_prod) for i in range(tam_loja)]\n",
    "    }\n",
    "    return loja\n",
    "\n",
    "# Cálculo do custo e volume da combinação\n",
    "def custo_vol(loja, comb):\n",
    "    valores = loja['Valor']\n",
    "    volumes = loja['Volume']\n",
    "    custo = 0\n",
    "    vol = 0\n",
    "    for i in range(len(valores)):\n",
    "        custo += valores[i] * comb[i]\n",
    "        vol += volumes[i] * comb[i]\n",
    "    return (custo, vol)\n",
    "\n",
    "#gerando a loja\n",
    "loja = gera_loja(TAM_LOJA, VAL_MAX_PROD, VOL_MAX_PROD, QTD_MAX_PROD)\n",
    "\n",
    "array_quantidade = [value + 1 for value in loja['Quantidade']]\n",
    "intervalo = np.prod(np.array(array_quantidade))\n",
    "\n",
    "print('Tamanho Intervalo: ', intervalo)\n",
    "\n",
    "comb = int_combs(0, intervalo, loja)\n",
    "\n",
    "max = (0, 0)\n",
    "max_comb = []\n",
    "for teste in comb:\n",
    "    resp = custo_vol(loja, teste[1])\n",
    "    if resp[0] >= max[0] and resp[1] <= CAP_MOCHILA:\n",
    "        max = resp\n",
    "        max_comb = teste[1]\n",
    "\n",
    "print()\n",
    "print('Loja:')\n",
    "print('Produtos:    ', loja['Produto'])\n",
    "print('Valores:     ', loja['Valor'])\n",
    "print('Volumes:     ', loja['Volume'])\n",
    "print('Quantidades: ', loja['Quantidade'])\n",
    "print()\n",
    "print('Combinação máxima:')\n",
    "print(max_comb)\n",
    "print()\n",
    "print('Valores Finais (Custo, Volume):')\n",
    "print(max)\n"
   ]
  },
  {
   "attachments": {},
   "cell_type": "markdown",
   "id": "8e632d34",
   "metadata": {
    "id": "8e632d34"
   },
   "source": [
    "## Teste do código serial com passagem de parâmetros"
   ]
  },
  {
   "cell_type": "code",
   "execution_count": 3,
   "id": "f11e99d5",
   "metadata": {
    "ExecuteTime": {
     "end_time": "2023-05-06T16:19:12.885083500Z",
     "start_time": "2023-05-06T16:19:12.834470Z"
    },
    "colab": {
     "base_uri": "https://localhost:8080/"
    },
    "id": "f11e99d5",
    "outputId": "f7c02d42-93ba-439c-fcf4-1b9423813d91",
    "scrolled": false
   },
   "outputs": [
    {
     "name": "stdout",
     "output_type": "stream",
     "text": [
      "Tamanho Intervalo:  17418240\n",
      "\n",
      "Loja:\n",
      "Produtos:     [0, 1, 2, 3, 4, 5, 6, 7, 8, 9, 10, 11]\n",
      "Valores:      [4, 3, 6, 5, 6, 3, 2, 4, 1, 3, 4, 3]\n",
      "Volumes:      [6, 7, 4, 6, 7, 5, 2, 5, 1, 6, 5, 2]\n",
      "Quantidades:  [4, 3, 2, 3, 2, 1, 5, 7, 2, 1, 5, 6]\n",
      "\n",
      "Combinação máxima:\n",
      "[0, 0, 2, 2, 0, 0, 5, 0, 1, 0, 0, 6]\n",
      "\n",
      "Valores Finais (Custo, Volume):\n",
      "(51, 43)\n"
     ]
    }
   ],
   "source": [
    "# Teste CAP_MOC, TAM_LOJA, QTD_MAX_PROD, MAX_PRECO, MAX_VOL\n",
    "!python mochila_serial.py 12 7 7 7 43"
   ]
  },
  {
   "attachments": {},
   "cell_type": "markdown",
   "id": "82a4192a",
   "metadata": {
    "id": "82a4192a"
   },
   "source": [
    "## Definição de constantes"
   ]
  },
  {
   "cell_type": "code",
   "execution_count": 4,
   "id": "8bc23242",
   "metadata": {
    "id": "8bc23242"
   },
   "outputs": [],
   "source": [
    "TAM_LOJA     = 12\n",
    "QTD_MAX_PROD = 7\n",
    "VAL_MAX_PROD = 7\n",
    "VOL_MAX_PROD = 7\n",
    "CAP_MOCHILA  = 43"
   ]
  },
  {
   "attachments": {},
   "cell_type": "markdown",
   "id": "003e5699",
   "metadata": {
    "id": "003e5699"
   },
   "source": [
    "## Fazendo testes de complexidade \n",
    "### <font color='Red'>(Execução Demorada!)</font>"
   ]
  },
  {
   "cell_type": "code",
   "execution_count": 5,
   "id": "73ec4fc5",
   "metadata": {
    "id": "73ec4fc5"
   },
   "outputs": [],
   "source": [
    "# Teste de estresse\n",
    "tempo_exec=[]\n",
    "tempo_teorico=[]\n",
    "for i in range(5, TAM_LOJA+1):\n",
    "    tempo_atual = t.time()\n",
    "    # Teste CAP_MOC, TAM_LOJA, QTD_MAX_PROD, MAX_PRECO, MAX_VOL\n",
    "    string = 'python mochila_serial.py '+str(i)+' '+str(QTD_MAX_PROD)+' '+str(VAL_MAX_PROD)+' '+\\\n",
    "                str(VOL_MAX_PROD)+' '+str(CAP_MOCHILA)+' > NUL' #Jogando a saida para null para não poluir o terminal\n",
    "    !$string\n",
    "    tempo_final = t.time()\n",
    "    tempo_final -= tempo_atual\n",
    "    tempo_exec.append((i,tempo_final))\n",
    "    #Comparando os resultados com os valores de f(i) = 2*f(i-1)\n",
    "    tempo_teorico.append((i+1, tempo_final*QTD_MAX_PROD))\n",
    "#print(tempo_exec) \n",
    "#print(tempo_teorico)"
   ]
  },
  {
   "attachments": {},
   "cell_type": "markdown",
   "id": "61739565",
   "metadata": {
    "id": "61739565"
   },
   "source": [
    "## Gráfico de complexidade X Tamanho da Loja"
   ]
  },
  {
   "cell_type": "code",
   "execution_count": 6,
   "id": "6d2b0bd6",
   "metadata": {
    "id": "6d2b0bd6",
    "outputId": "046c4fd8-68da-4e26-e5da-ab3a41be4b45"
   },
   "outputs": [
    {
     "data": {
      "image/png": "[encoded data removed]",
      "text/plain": [
       "<Figure size 1000x700 with 1 Axes>"
      ]
     },
     "metadata": {},
     "output_type": "display_data"
    }
   ],
   "source": [
    "plt.figure(figsize=(10,7))\n",
    "plt.plot([tempo_exec[i][0] for i in range(len(tempo_exec))], [tempo_exec[i][1] for i in range(len(tempo_exec))], label='Alg.Serial')\n",
    "plt.plot([tempo_teorico[i][0] for i in range(len(tempo_teorico)-1)], [tempo_teorico[i][1] for i in range(len(tempo_teorico)-1)], label='Previsto')\n",
    "plt.title('Tempo de execução')\n",
    "plt.xlabel('Tamanho da Lista')\n",
    "plt.ylabel('Segundos')\n",
    "plt.legend()\n",
    "plt.grid()\n",
    "plt.show()"
   ]
  },
  {
   "attachments": {},
   "cell_type": "markdown",
   "id": "d7fd2cf7",
   "metadata": {
    "id": "d7fd2cf7"
   },
   "source": [
    "## Fazendo testes com constantes definidas (1000 testes) \n",
    "### <font color='Red'>(Execução Demorada!)</font>\n",
    "### Novas constantes para os testes"
   ]
  },
  {
   "cell_type": "code",
   "execution_count": 7,
   "id": "f6bb23e2",
   "metadata": {
    "id": "f6bb23e2"
   },
   "outputs": [],
   "source": [
    "TAM_LOJA     = 12\n",
    "QTD_MAX_PROD = 7\n",
    "VAL_MAX_PROD = 7\n",
    "VOL_MAX_PROD = 7\n",
    "CAP_MOCHILA  = 43"
   ]
  },
  {
   "cell_type": "code",
   "execution_count": 8,
   "id": "c5e66ce0",
   "metadata": {
    "id": "c5e66ce0"
   },
   "outputs": [],
   "source": [
    "TAM_POP   = 1000  # Tamanho da População"
   ]
  },
  {
   "cell_type": "code",
   "execution_count": 9,
   "id": "744f820e",
   "metadata": {
    "id": "744f820e",
    "outputId": "dbb274fc-a74a-43ea-af8a-b160a83d03b3",
    "scrolled": true
   },
   "outputs": [
    {
     "name": "stdout",
     "output_type": "stream",
     "text": [
      "Execução: 0 - Tempo: 38.5704 seg.\n",
      "Execução: 1 - Tempo: 38.7274 seg.\n",
      "Execução: 2 - Tempo: 38.3518 seg.\n",
      "Execução: 3 - Tempo: 38.3799 seg.\n",
      "Execução: 4 - Tempo: 38.4135 seg.\n",
      "Execução: 5 - Tempo: 38.5820 seg.\n",
      "Execução: 6 - Tempo: 38.6309 seg.\n",
      "Execução: 7 - Tempo: 38.3921 seg.\n",
      "Execução: 8 - Tempo: 41.6425 seg.\n",
      "Execução: 9 - Tempo: 38.9678 seg.\n",
      "Execução: 10 - Tempo: 38.5639 seg.\n",
      "Execução: 11 - Tempo: 38.4467 seg.\n",
      "Execução: 12 - Tempo: 38.4349 seg.\n",
      "Execução: 13 - Tempo: 38.4578 seg.\n",
      "Execução: 14 - Tempo: 38.5573 seg.\n",
      "Execução: 15 - Tempo: 38.8245 seg.\n",
      "Execução: 16 - Tempo: 38.8596 seg.\n",
      "Execução: 17 - Tempo: 38.5846 seg.\n",
      "Execução: 18 - Tempo: 38.4098 seg.\n",
      "Execução: 19 - Tempo: 38.6332 seg.\n",
      "Execução: 20 - Tempo: 38.3741 seg.\n",
      "Execução: 21 - Tempo: 38.6413 seg.\n",
      "Execução: 22 - Tempo: 38.5095 seg.\n",
      "Execução: 23 - Tempo: 38.4660 seg.\n",
      "Execução: 24 - Tempo: 38.3882 seg.\n",
      "Execução: 25 - Tempo: 38.6560 seg.\n",
      "Execução: 26 - Tempo: 38.9880 seg.\n",
      "Execução: 27 - Tempo: 38.3602 seg.\n",
      "Execução: 28 - Tempo: 39.1908 seg.\n",
      "Execução: 29 - Tempo: 39.0427 seg.\n",
      "Execução: 30 - Tempo: 38.4763 seg.\n",
      "Execução: 31 - Tempo: 38.7164 seg.\n",
      "Execução: 32 - Tempo: 38.5877 seg.\n",
      "Execução: 33 - Tempo: 39.0610 seg.\n",
      "Execução: 34 - Tempo: 39.2281 seg.\n",
      "Execução: 35 - Tempo: 38.6707 seg.\n",
      "Execução: 36 - Tempo: 38.4555 seg.\n",
      "Execução: 37 - Tempo: 38.7228 seg.\n",
      "Execução: 38 - Tempo: 38.3346 seg.\n",
      "Execução: 39 - Tempo: 38.4044 seg.\n",
      "Execução: 40 - Tempo: 38.5715 seg.\n",
      "Execução: 41 - Tempo: 38.5934 seg.\n",
      "Execução: 42 - Tempo: 38.7979 seg.\n",
      "Execução: 43 - Tempo: 38.4642 seg.\n",
      "Execução: 44 - Tempo: 39.3662 seg.\n",
      "Execução: 45 - Tempo: 38.8359 seg.\n",
      "Execução: 46 - Tempo: 38.4984 seg.\n",
      "Execução: 47 - Tempo: 38.8352 seg.\n",
      "Execução: 48 - Tempo: 38.4497 seg.\n",
      "Execução: 49 - Tempo: 38.4935 seg.\n",
      "Execução: 50 - Tempo: 38.9674 seg.\n",
      "Execução: 51 - Tempo: 38.3965 seg.\n",
      "Execução: 52 - Tempo: 38.6509 seg.\n",
      "Execução: 53 - Tempo: 38.9623 seg.\n",
      "Execução: 54 - Tempo: 38.5270 seg.\n",
      "Execução: 55 - Tempo: 38.5618 seg.\n",
      "Execução: 56 - Tempo: 38.4461 seg.\n",
      "Execução: 57 - Tempo: 38.4564 seg.\n",
      "Execução: 58 - Tempo: 38.9693 seg.\n",
      "Execução: 59 - Tempo: 38.6003 seg.\n",
      "Execução: 60 - Tempo: 38.7494 seg.\n",
      "Execução: 61 - Tempo: 38.4683 seg.\n",
      "Execução: 62 - Tempo: 38.6153 seg.\n",
      "Execução: 63 - Tempo: 38.4998 seg.\n",
      "Execução: 64 - Tempo: 38.5255 seg.\n",
      "Execução: 65 - Tempo: 38.4732 seg.\n",
      "Execução: 66 - Tempo: 42.9521 seg.\n",
      "Execução: 67 - Tempo: 38.9239 seg.\n",
      "Execução: 68 - Tempo: 38.6042 seg.\n",
      "Execução: 69 - Tempo: 38.5623 seg.\n",
      "Execução: 70 - Tempo: 38.1316 seg.\n",
      "Execução: 71 - Tempo: 38.6490 seg.\n",
      "Execução: 72 - Tempo: 39.4516 seg.\n",
      "Execução: 73 - Tempo: 38.4334 seg.\n",
      "Execução: 74 - Tempo: 38.4819 seg.\n",
      "Execução: 75 - Tempo: 38.3976 seg.\n",
      "Execução: 76 - Tempo: 38.5771 seg.\n",
      "Execução: 77 - Tempo: 42.1557 seg.\n",
      "Execução: 78 - Tempo: 38.6849 seg.\n",
      "Execução: 79 - Tempo: 39.1096 seg.\n",
      "Execução: 80 - Tempo: 39.5055 seg.\n",
      "Execução: 81 - Tempo: 38.8381 seg.\n",
      "Execução: 82 - Tempo: 38.5717 seg.\n",
      "Execução: 83 - Tempo: 38.5770 seg.\n",
      "Execução: 84 - Tempo: 39.6732 seg.\n",
      "Execução: 85 - Tempo: 38.4886 seg.\n",
      "Execução: 86 - Tempo: 39.5735 seg.\n",
      "Execução: 87 - Tempo: 38.7405 seg.\n",
      "Execução: 88 - Tempo: 38.3864 seg.\n",
      "Execução: 89 - Tempo: 38.6638 seg.\n",
      "Execução: 90 - Tempo: 38.7873 seg.\n",
      "Execução: 91 - Tempo: 38.6367 seg.\n",
      "Execução: 92 - Tempo: 38.6471 seg.\n",
      "Execução: 93 - Tempo: 38.5588 seg.\n",
      "Execução: 94 - Tempo: 38.6102 seg.\n",
      "Execução: 95 - Tempo: 38.5380 seg.\n",
      "Execução: 96 - Tempo: 39.0438 seg.\n",
      "Execução: 97 - Tempo: 38.3978 seg.\n",
      "Execução: 98 - Tempo: 38.4202 seg.\n",
      "Execução: 99 - Tempo: 39.2141 seg.\n",
      "Execução: 100 - Tempo: 38.6459 seg.\n",
      "Execução: 101 - Tempo: 38.5720 seg.\n",
      "Execução: 102 - Tempo: 38.7120 seg.\n",
      "Execução: 103 - Tempo: 38.5728 seg.\n",
      "Execução: 104 - Tempo: 38.5131 seg.\n",
      "Execução: 105 - Tempo: 38.8439 seg.\n",
      "Execução: 106 - Tempo: 38.9584 seg.\n",
      "Execução: 107 - Tempo: 38.3782 seg.\n",
      "Execução: 108 - Tempo: 38.6846 seg.\n",
      "Execução: 109 - Tempo: 38.5034 seg.\n",
      "Execução: 110 - Tempo: 38.6630 seg.\n",
      "Execução: 111 - Tempo: 38.6334 seg.\n",
      "Execução: 112 - Tempo: 38.4585 seg.\n",
      "Execução: 113 - Tempo: 38.8784 seg.\n",
      "Execução: 114 - Tempo: 38.2186 seg.\n",
      "Execução: 115 - Tempo: 38.4865 seg.\n",
      "Execução: 116 - Tempo: 38.4820 seg.\n",
      "Execução: 117 - Tempo: 38.5439 seg.\n",
      "Execução: 118 - Tempo: 38.5572 seg.\n",
      "Execução: 119 - Tempo: 39.2336 seg.\n",
      "Execução: 120 - Tempo: 39.0625 seg.\n",
      "Execução: 121 - Tempo: 39.1220 seg.\n",
      "Execução: 122 - Tempo: 38.8948 seg.\n",
      "Execução: 123 - Tempo: 38.5431 seg.\n",
      "Execução: 124 - Tempo: 38.7035 seg.\n",
      "Execução: 125 - Tempo: 38.3727 seg.\n",
      "Execução: 126 - Tempo: 38.4434 seg.\n",
      "Execução: 127 - Tempo: 38.4887 seg.\n",
      "Execução: 128 - Tempo: 38.6137 seg.\n",
      "Execução: 129 - Tempo: 38.4668 seg.\n",
      "Execução: 130 - Tempo: 38.7655 seg.\n",
      "Execução: 131 - Tempo: 38.5510 seg.\n",
      "Execução: 132 - Tempo: 38.4836 seg.\n",
      "Execução: 133 - Tempo: 38.5506 seg.\n",
      "Execução: 134 - Tempo: 38.3975 seg.\n",
      "Execução: 135 - Tempo: 38.5436 seg.\n",
      "Execução: 136 - Tempo: 38.5034 seg.\n",
      "Execução: 137 - Tempo: 38.5557 seg.\n",
      "Execução: 138 - Tempo: 38.3781 seg.\n",
      "Execução: 139 - Tempo: 38.7366 seg.\n",
      "Execução: 140 - Tempo: 38.9637 seg.\n",
      "Execução: 141 - Tempo: 38.4907 seg.\n",
      "Execução: 142 - Tempo: 38.5602 seg.\n",
      "Execução: 143 - Tempo: 38.4409 seg.\n",
      "Execução: 144 - Tempo: 38.4254 seg.\n",
      "Execução: 145 - Tempo: 38.3444 seg.\n",
      "Execução: 146 - Tempo: 38.6069 seg.\n",
      "Execução: 147 - Tempo: 38.8679 seg.\n",
      "Execução: 148 - Tempo: 38.5965 seg.\n",
      "Execução: 149 - Tempo: 39.0318 seg.\n",
      "Execução: 150 - Tempo: 38.8694 seg.\n",
      "Execução: 151 - Tempo: 38.9960 seg.\n",
      "Execução: 152 - Tempo: 38.3852 seg.\n",
      "Execução: 153 - Tempo: 38.3961 seg.\n",
      "Execução: 154 - Tempo: 39.7424 seg.\n",
      "Execução: 155 - Tempo: 39.1844 seg.\n",
      "Execução: 156 - Tempo: 38.6120 seg.\n",
      "Execução: 157 - Tempo: 38.4445 seg.\n",
      "Execução: 158 - Tempo: 38.7500 seg.\n",
      "Execução: 159 - Tempo: 38.6464 seg.\n",
      "Execução: 160 - Tempo: 38.4502 seg.\n",
      "Execução: 161 - Tempo: 38.6559 seg.\n",
      "Execução: 162 - Tempo: 38.5302 seg.\n",
      "Execução: 163 - Tempo: 38.6444 seg.\n",
      "Execução: 164 - Tempo: 38.5406 seg.\n",
      "Execução: 165 - Tempo: 39.1938 seg.\n",
      "Execução: 166 - Tempo: 38.9316 seg.\n",
      "Execução: 167 - Tempo: 39.5163 seg.\n",
      "Execução: 168 - Tempo: 38.3822 seg.\n",
      "Execução: 169 - Tempo: 41.7394 seg.\n",
      "Execução: 170 - Tempo: 38.7499 seg.\n",
      "Execução: 171 - Tempo: 38.4164 seg.\n",
      "Execução: 172 - Tempo: 38.5258 seg.\n",
      "Execução: 173 - Tempo: 38.5820 seg.\n",
      "Execução: 174 - Tempo: 38.4693 seg.\n",
      "Execução: 175 - Tempo: 38.8189 seg.\n",
      "Execução: 176 - Tempo: 38.6442 seg.\n",
      "Execução: 177 - Tempo: 38.6277 seg.\n",
      "Execução: 178 - Tempo: 39.4196 seg.\n",
      "Execução: 179 - Tempo: 38.4392 seg.\n",
      "Execução: 180 - Tempo: 38.5086 seg.\n",
      "Execução: 181 - Tempo: 38.4448 seg.\n",
      "Execução: 182 - Tempo: 38.4422 seg.\n",
      "Execução: 183 - Tempo: 38.5697 seg.\n",
      "Execução: 184 - Tempo: 38.4324 seg.\n",
      "Execução: 185 - Tempo: 38.4460 seg.\n",
      "Execução: 186 - Tempo: 40.9905 seg.\n",
      "Execução: 187 - Tempo: 38.8475 seg.\n",
      "Execução: 188 - Tempo: 38.9135 seg.\n",
      "Execução: 189 - Tempo: 38.8680 seg.\n",
      "Execução: 190 - Tempo: 38.5265 seg.\n",
      "Execução: 191 - Tempo: 38.4345 seg.\n",
      "Execução: 192 - Tempo: 38.7337 seg.\n",
      "Execução: 193 - Tempo: 38.7157 seg.\n",
      "Execução: 194 - Tempo: 38.4670 seg.\n",
      "Execução: 195 - Tempo: 38.4520 seg.\n",
      "Execução: 196 - Tempo: 38.5707 seg.\n",
      "Execução: 197 - Tempo: 38.9629 seg.\n",
      "Execução: 198 - Tempo: 38.4715 seg.\n",
      "Execução: 199 - Tempo: 38.6544 seg.\n",
      "Execução: 200 - Tempo: 38.5441 seg.\n",
      "Execução: 201 - Tempo: 38.8229 seg.\n",
      "Execução: 202 - Tempo: 38.6306 seg.\n",
      "Execução: 203 - Tempo: 38.8500 seg.\n",
      "Execução: 204 - Tempo: 38.4473 seg.\n",
      "Execução: 205 - Tempo: 39.0641 seg.\n",
      "Execução: 206 - Tempo: 38.5928 seg.\n",
      "Execução: 207 - Tempo: 41.0926 seg.\n",
      "Execução: 208 - Tempo: 38.9239 seg.\n",
      "Execução: 209 - Tempo: 39.1131 seg.\n",
      "Execução: 210 - Tempo: 39.0092 seg.\n",
      "Execução: 211 - Tempo: 38.4777 seg.\n",
      "Execução: 212 - Tempo: 38.3263 seg.\n",
      "Execução: 213 - Tempo: 38.6355 seg.\n",
      "Execução: 214 - Tempo: 39.6425 seg.\n",
      "Execução: 215 - Tempo: 38.5073 seg.\n",
      "Execução: 216 - Tempo: 38.4180 seg.\n",
      "Execução: 217 - Tempo: 38.5380 seg.\n",
      "Execução: 218 - Tempo: 38.2917 seg.\n",
      "Execução: 219 - Tempo: 53.9411 seg.\n",
      "Execução: 220 - Tempo: 38.6508 seg.\n",
      "Execução: 221 - Tempo: 38.5151 seg.\n",
      "Execução: 222 - Tempo: 38.5972 seg.\n",
      "Execução: 223 - Tempo: 38.8975 seg.\n",
      "Execução: 224 - Tempo: 38.5626 seg.\n",
      "Execução: 225 - Tempo: 39.1058 seg.\n",
      "Execução: 226 - Tempo: 39.1298 seg.\n",
      "Execução: 227 - Tempo: 38.7756 seg.\n",
      "Execução: 228 - Tempo: 38.5862 seg.\n",
      "Execução: 229 - Tempo: 38.5391 seg.\n",
      "Execução: 230 - Tempo: 38.5006 seg.\n",
      "Execução: 231 - Tempo: 39.2444 seg.\n",
      "Execução: 232 - Tempo: 38.6115 seg.\n",
      "Execução: 233 - Tempo: 38.6167 seg.\n",
      "Execução: 234 - Tempo: 38.8461 seg.\n",
      "Execução: 235 - Tempo: 38.4788 seg.\n",
      "Execução: 236 - Tempo: 38.8393 seg.\n",
      "Execução: 237 - Tempo: 38.7765 seg.\n",
      "Execução: 238 - Tempo: 38.4696 seg.\n",
      "Execução: 239 - Tempo: 38.8246 seg.\n",
      "Execução: 240 - Tempo: 38.3392 seg.\n",
      "Execução: 241 - Tempo: 38.4360 seg.\n",
      "Execução: 242 - Tempo: 38.6216 seg.\n",
      "Execução: 243 - Tempo: 38.4841 seg.\n",
      "Execução: 244 - Tempo: 38.7885 seg.\n",
      "Execução: 245 - Tempo: 38.4296 seg.\n",
      "Execução: 246 - Tempo: 38.4987 seg.\n",
      "Execução: 247 - Tempo: 38.3878 seg.\n",
      "Execução: 248 - Tempo: 38.9567 seg.\n",
      "Execução: 249 - Tempo: 42.3923 seg.\n",
      "Execução: 250 - Tempo: 38.5569 seg.\n",
      "Execução: 251 - Tempo: 39.2644 seg.\n",
      "Execução: 252 - Tempo: 38.9717 seg.\n",
      "Execução: 253 - Tempo: 38.4402 seg.\n",
      "Execução: 254 - Tempo: 38.7449 seg.\n",
      "Execução: 255 - Tempo: 38.7207 seg.\n",
      "Execução: 256 - Tempo: 38.5860 seg.\n",
      "Execução: 257 - Tempo: 38.4399 seg.\n",
      "Execução: 258 - Tempo: 38.4914 seg.\n",
      "Execução: 259 - Tempo: 38.9883 seg.\n",
      "Execução: 260 - Tempo: 38.5215 seg.\n",
      "Execução: 261 - Tempo: 38.7910 seg.\n",
      "Execução: 262 - Tempo: 38.5699 seg.\n",
      "Execução: 263 - Tempo: 38.3631 seg.\n",
      "Execução: 264 - Tempo: 39.6571 seg.\n",
      "Execução: 265 - Tempo: 38.9309 seg.\n",
      "Execução: 266 - Tempo: 38.8015 seg.\n",
      "Execução: 267 - Tempo: 38.5955 seg.\n",
      "Execução: 268 - Tempo: 38.5776 seg.\n",
      "Execução: 269 - Tempo: 38.4599 seg.\n",
      "Execução: 270 - Tempo: 38.6049 seg.\n",
      "Execução: 271 - Tempo: 38.4258 seg.\n",
      "Execução: 272 - Tempo: 38.6884 seg.\n",
      "Execução: 273 - Tempo: 38.4795 seg.\n",
      "Execução: 274 - Tempo: 38.9245 seg.\n",
      "Execução: 275 - Tempo: 38.5714 seg.\n",
      "Execução: 276 - Tempo: 38.7727 seg.\n",
      "Execução: 277 - Tempo: 38.3826 seg.\n",
      "Execução: 278 - Tempo: 40.0175 seg.\n",
      "Execução: 279 - Tempo: 38.4121 seg.\n",
      "Execução: 280 - Tempo: 38.5147 seg.\n",
      "Execução: 281 - Tempo: 38.6782 seg.\n",
      "Execução: 282 - Tempo: 38.6005 seg.\n",
      "Execução: 283 - Tempo: 38.4243 seg.\n",
      "Execução: 284 - Tempo: 38.5895 seg.\n",
      "Execução: 285 - Tempo: 38.3610 seg.\n",
      "Execução: 286 - Tempo: 38.4820 seg.\n",
      "Execução: 287 - Tempo: 38.5444 seg.\n",
      "Execução: 288 - Tempo: 40.5314 seg.\n",
      "Execução: 289 - Tempo: 38.6697 seg.\n",
      "Execução: 290 - Tempo: 38.5053 seg.\n",
      "Execução: 291 - Tempo: 38.5430 seg.\n",
      "Execução: 292 - Tempo: 38.6302 seg.\n",
      "Execução: 293 - Tempo: 38.4620 seg.\n",
      "Execução: 294 - Tempo: 38.4584 seg.\n",
      "Execução: 295 - Tempo: 38.4427 seg.\n",
      "Execução: 296 - Tempo: 38.4876 seg.\n",
      "Execução: 297 - Tempo: 38.8234 seg.\n",
      "Execução: 298 - Tempo: 38.8577 seg.\n",
      "Execução: 299 - Tempo: 38.5137 seg.\n",
      "Execução: 300 - Tempo: 38.6004 seg.\n",
      "Execução: 301 - Tempo: 39.6251 seg.\n",
      "Execução: 302 - Tempo: 38.5015 seg.\n",
      "Execução: 303 - Tempo: 38.7688 seg.\n",
      "Execução: 304 - Tempo: 38.7634 seg.\n",
      "Execução: 305 - Tempo: 39.8527 seg.\n",
      "Execução: 306 - Tempo: 38.4153 seg.\n",
      "Execução: 307 - Tempo: 38.5707 seg.\n",
      "Execução: 308 - Tempo: 38.5464 seg.\n",
      "Execução: 309 - Tempo: 38.7984 seg.\n",
      "Execução: 310 - Tempo: 42.2235 seg.\n",
      "Execução: 311 - Tempo: 39.4140 seg.\n",
      "Execução: 312 - Tempo: 38.6119 seg.\n",
      "Execução: 313 - Tempo: 39.0361 seg.\n",
      "Execução: 314 - Tempo: 38.5455 seg.\n",
      "Execução: 315 - Tempo: 38.6873 seg.\n",
      "Execução: 316 - Tempo: 38.5138 seg.\n",
      "Execução: 317 - Tempo: 38.4816 seg.\n",
      "Execução: 318 - Tempo: 38.8765 seg.\n",
      "Execução: 319 - Tempo: 38.4626 seg.\n",
      "Execução: 320 - Tempo: 38.3230 seg.\n",
      "Execução: 321 - Tempo: 38.4316 seg.\n",
      "Execução: 322 - Tempo: 38.5253 seg.\n",
      "Execução: 323 - Tempo: 38.5422 seg.\n",
      "Execução: 324 - Tempo: 38.6595 seg.\n",
      "Execução: 325 - Tempo: 38.8728 seg.\n",
      "Execução: 326 - Tempo: 38.5854 seg.\n",
      "Execução: 327 - Tempo: 38.4864 seg.\n",
      "Execução: 328 - Tempo: 38.5719 seg.\n",
      "Execução: 329 - Tempo: 38.5185 seg.\n",
      "Execução: 330 - Tempo: 38.4489 seg.\n",
      "Execução: 331 - Tempo: 66.0268 seg.\n",
      "Execução: 332 - Tempo: 38.4320 seg.\n",
      "Execução: 333 - Tempo: 40.4353 seg.\n",
      "Execução: 334 - Tempo: 38.6805 seg.\n",
      "Execução: 335 - Tempo: 38.4200 seg.\n",
      "Execução: 336 - Tempo: 38.5281 seg.\n",
      "Execução: 337 - Tempo: 38.4941 seg.\n",
      "Execução: 338 - Tempo: 38.6362 seg.\n",
      "Execução: 339 - Tempo: 38.5491 seg.\n",
      "Execução: 340 - Tempo: 38.2768 seg.\n",
      "Execução: 341 - Tempo: 38.7455 seg.\n",
      "Execução: 342 - Tempo: 38.3873 seg.\n",
      "Execução: 343 - Tempo: 38.3111 seg.\n",
      "Execução: 344 - Tempo: 38.6099 seg.\n",
      "Execução: 345 - Tempo: 38.5493 seg.\n",
      "Execução: 346 - Tempo: 38.9698 seg.\n",
      "Execução: 347 - Tempo: 49.3006 seg.\n",
      "Execução: 348 - Tempo: 38.4070 seg.\n",
      "Execução: 349 - Tempo: 38.7593 seg.\n",
      "Execução: 350 - Tempo: 38.5803 seg.\n",
      "Execução: 351 - Tempo: 38.5109 seg.\n",
      "Execução: 352 - Tempo: 38.5439 seg.\n",
      "Execução: 353 - Tempo: 39.3299 seg.\n",
      "Execução: 354 - Tempo: 39.1745 seg.\n",
      "Execução: 355 - Tempo: 38.5223 seg.\n",
      "Execução: 356 - Tempo: 38.8617 seg.\n",
      "Execução: 357 - Tempo: 38.4545 seg.\n",
      "Execução: 358 - Tempo: 38.3476 seg.\n",
      "Execução: 359 - Tempo: 38.5157 seg.\n",
      "Execução: 360 - Tempo: 38.3633 seg.\n",
      "Execução: 361 - Tempo: 38.6124 seg.\n",
      "Execução: 362 - Tempo: 38.4538 seg.\n",
      "Execução: 363 - Tempo: 38.3714 seg.\n",
      "Execução: 364 - Tempo: 38.4816 seg.\n",
      "Execução: 365 - Tempo: 38.9234 seg.\n",
      "Execução: 366 - Tempo: 38.4391 seg.\n",
      "Execução: 367 - Tempo: 38.4234 seg.\n",
      "Execução: 368 - Tempo: 38.9583 seg.\n",
      "Execução: 369 - Tempo: 38.4388 seg.\n",
      "Execução: 370 - Tempo: 38.4148 seg.\n",
      "Execução: 371 - Tempo: 38.6261 seg.\n",
      "Execução: 372 - Tempo: 38.6640 seg.\n",
      "Execução: 373 - Tempo: 38.4920 seg.\n",
      "Execução: 374 - Tempo: 39.3348 seg.\n",
      "Execução: 375 - Tempo: 39.8754 seg.\n",
      "Execução: 376 - Tempo: 38.8520 seg.\n",
      "Execução: 377 - Tempo: 39.9249 seg.\n",
      "Execução: 378 - Tempo: 38.5408 seg.\n",
      "Execução: 379 - Tempo: 39.1261 seg.\n",
      "Execução: 380 - Tempo: 39.1684 seg.\n",
      "Execução: 381 - Tempo: 38.6958 seg.\n",
      "Execução: 382 - Tempo: 38.7713 seg.\n",
      "Execução: 383 - Tempo: 38.6854 seg.\n",
      "Execução: 384 - Tempo: 38.5376 seg.\n",
      "Execução: 385 - Tempo: 38.5081 seg.\n",
      "Execução: 386 - Tempo: 38.6228 seg.\n",
      "Execução: 387 - Tempo: 38.8500 seg.\n",
      "Execução: 388 - Tempo: 38.6468 seg.\n",
      "Execução: 389 - Tempo: 38.7644 seg.\n",
      "Execução: 390 - Tempo: 39.1358 seg.\n",
      "Execução: 391 - Tempo: 38.4860 seg.\n",
      "Execução: 392 - Tempo: 38.7131 seg.\n",
      "Execução: 393 - Tempo: 38.4994 seg.\n",
      "Execução: 394 - Tempo: 38.8470 seg.\n",
      "Execução: 395 - Tempo: 38.4490 seg.\n",
      "Execução: 396 - Tempo: 38.4823 seg.\n",
      "Execução: 397 - Tempo: 38.5208 seg.\n",
      "Execução: 398 - Tempo: 38.6118 seg.\n",
      "Execução: 399 - Tempo: 38.3936 seg.\n",
      "Execução: 400 - Tempo: 38.5709 seg.\n",
      "Execução: 401 - Tempo: 38.5676 seg.\n",
      "Execução: 402 - Tempo: 38.7595 seg.\n",
      "Execução: 403 - Tempo: 38.8351 seg.\n",
      "Execução: 404 - Tempo: 40.8070 seg.\n",
      "Execução: 405 - Tempo: 38.5579 seg.\n",
      "Execução: 406 - Tempo: 38.4300 seg.\n",
      "Execução: 407 - Tempo: 38.5404 seg.\n",
      "Execução: 408 - Tempo: 38.9539 seg.\n",
      "Execução: 409 - Tempo: 38.7433 seg.\n",
      "Execução: 410 - Tempo: 39.5971 seg.\n",
      "Execução: 411 - Tempo: 38.3408 seg.\n",
      "Execução: 412 - Tempo: 38.4916 seg.\n",
      "Execução: 413 - Tempo: 39.0245 seg.\n",
      "Execução: 414 - Tempo: 38.9927 seg.\n",
      "Execução: 415 - Tempo: 38.6006 seg.\n",
      "Execução: 416 - Tempo: 38.3875 seg.\n",
      "Execução: 417 - Tempo: 39.5203 seg.\n",
      "Execução: 418 - Tempo: 38.5119 seg.\n",
      "Execução: 419 - Tempo: 38.3717 seg.\n",
      "Execução: 420 - Tempo: 38.5461 seg.\n",
      "Execução: 421 - Tempo: 38.5219 seg.\n",
      "Execução: 422 - Tempo: 38.5391 seg.\n",
      "Execução: 423 - Tempo: 38.8141 seg.\n",
      "Execução: 424 - Tempo: 38.4060 seg.\n",
      "Execução: 425 - Tempo: 38.6172 seg.\n",
      "Execução: 426 - Tempo: 38.7670 seg.\n",
      "Execução: 427 - Tempo: 38.6574 seg.\n",
      "Execução: 428 - Tempo: 38.7848 seg.\n",
      "Execução: 429 - Tempo: 38.4832 seg.\n",
      "Execução: 430 - Tempo: 38.9281 seg.\n",
      "Execução: 431 - Tempo: 38.3962 seg.\n",
      "Execução: 432 - Tempo: 38.6446 seg.\n",
      "Execução: 433 - Tempo: 40.6791 seg.\n",
      "Execução: 434 - Tempo: 38.3583 seg.\n",
      "Execução: 435 - Tempo: 38.5162 seg.\n",
      "Execução: 436 - Tempo: 38.5131 seg.\n",
      "Execução: 437 - Tempo: 39.1265 seg.\n",
      "Execução: 438 - Tempo: 38.4139 seg.\n",
      "Execução: 439 - Tempo: 38.4534 seg.\n",
      "Execução: 440 - Tempo: 38.5754 seg.\n",
      "Execução: 441 - Tempo: 38.4331 seg.\n",
      "Execução: 442 - Tempo: 38.6546 seg.\n",
      "Execução: 443 - Tempo: 38.5196 seg.\n",
      "Execução: 444 - Tempo: 38.6614 seg.\n",
      "Execução: 445 - Tempo: 38.5798 seg.\n",
      "Execução: 446 - Tempo: 38.7164 seg.\n",
      "Execução: 447 - Tempo: 38.8332 seg.\n",
      "Execução: 448 - Tempo: 39.0565 seg.\n",
      "Execução: 449 - Tempo: 38.5744 seg.\n",
      "Execução: 450 - Tempo: 38.5701 seg.\n",
      "Execução: 451 - Tempo: 38.5479 seg.\n",
      "Execução: 452 - Tempo: 38.6900 seg.\n",
      "Execução: 453 - Tempo: 38.8838 seg.\n",
      "Execução: 454 - Tempo: 38.9273 seg.\n",
      "Execução: 455 - Tempo: 38.6092 seg.\n",
      "Execução: 456 - Tempo: 38.8114 seg.\n",
      "Execução: 457 - Tempo: 38.4120 seg.\n",
      "Execução: 458 - Tempo: 39.1615 seg.\n",
      "Execução: 459 - Tempo: 38.4925 seg.\n",
      "Execução: 460 - Tempo: 38.4058 seg.\n",
      "Execução: 461 - Tempo: 38.5588 seg.\n",
      "Execução: 462 - Tempo: 38.5705 seg.\n",
      "Execução: 463 - Tempo: 38.4735 seg.\n",
      "Execução: 464 - Tempo: 38.3536 seg.\n",
      "Execução: 465 - Tempo: 38.6067 seg.\n",
      "Execução: 466 - Tempo: 39.0080 seg.\n",
      "Execução: 467 - Tempo: 38.6019 seg.\n",
      "Execução: 468 - Tempo: 38.8613 seg.\n",
      "Execução: 469 - Tempo: 38.6818 seg.\n",
      "Execução: 470 - Tempo: 38.5936 seg.\n",
      "Execução: 471 - Tempo: 39.1653 seg.\n",
      "Execução: 472 - Tempo: 38.7366 seg.\n",
      "Execução: 473 - Tempo: 38.8549 seg.\n",
      "Execução: 474 - Tempo: 38.7414 seg.\n",
      "Execução: 475 - Tempo: 38.5474 seg.\n",
      "Execução: 476 - Tempo: 38.7581 seg.\n",
      "Execução: 477 - Tempo: 38.4405 seg.\n",
      "Execução: 478 - Tempo: 39.3213 seg.\n",
      "Execução: 479 - Tempo: 38.8027 seg.\n",
      "Execução: 480 - Tempo: 38.5059 seg.\n",
      "Execução: 481 - Tempo: 38.3708 seg.\n",
      "Execução: 482 - Tempo: 38.3840 seg.\n",
      "Execução: 483 - Tempo: 39.1978 seg.\n",
      "Execução: 484 - Tempo: 38.4935 seg.\n",
      "Execução: 485 - Tempo: 39.0093 seg.\n",
      "Execução: 486 - Tempo: 38.3970 seg.\n",
      "Execução: 487 - Tempo: 38.5499 seg.\n",
      "Execução: 488 - Tempo: 39.0579 seg.\n",
      "Execução: 489 - Tempo: 38.6273 seg.\n",
      "Execução: 490 - Tempo: 38.4764 seg.\n",
      "Execução: 491 - Tempo: 39.0035 seg.\n",
      "Execução: 492 - Tempo: 38.8831 seg.\n",
      "Execução: 493 - Tempo: 38.5949 seg.\n",
      "Execução: 494 - Tempo: 38.8190 seg.\n",
      "Execução: 495 - Tempo: 38.4907 seg.\n",
      "Execução: 496 - Tempo: 38.6972 seg.\n",
      "Execução: 497 - Tempo: 43.4494 seg.\n",
      "Execução: 498 - Tempo: 39.2761 seg.\n",
      "Execução: 499 - Tempo: 38.5144 seg.\n",
      "Execução: 500 - Tempo: 38.5569 seg.\n",
      "Execução: 501 - Tempo: 38.5535 seg.\n",
      "Execução: 502 - Tempo: 38.4778 seg.\n",
      "Execução: 503 - Tempo: 38.8905 seg.\n",
      "Execução: 504 - Tempo: 38.6458 seg.\n",
      "Execução: 505 - Tempo: 38.3980 seg.\n",
      "Execução: 506 - Tempo: 39.3830 seg.\n",
      "Execução: 507 - Tempo: 38.4685 seg.\n",
      "Execução: 508 - Tempo: 38.5677 seg.\n",
      "Execução: 509 - Tempo: 38.7706 seg.\n",
      "Execução: 510 - Tempo: 38.3658 seg.\n",
      "Execução: 511 - Tempo: 38.5370 seg.\n",
      "Execução: 512 - Tempo: 38.4634 seg.\n",
      "Execução: 513 - Tempo: 38.3574 seg.\n",
      "Execução: 514 - Tempo: 38.5134 seg.\n",
      "Execução: 515 - Tempo: 38.5037 seg.\n",
      "Execução: 516 - Tempo: 39.9205 seg.\n",
      "Execução: 517 - Tempo: 38.9074 seg.\n",
      "Execução: 518 - Tempo: 38.4703 seg.\n",
      "Execução: 519 - Tempo: 38.3690 seg.\n",
      "Execução: 520 - Tempo: 38.6565 seg.\n",
      "Execução: 521 - Tempo: 38.6158 seg.\n",
      "Execução: 522 - Tempo: 38.4766 seg.\n",
      "Execução: 523 - Tempo: 38.5885 seg.\n",
      "Execução: 524 - Tempo: 38.3876 seg.\n",
      "Execução: 525 - Tempo: 38.6656 seg.\n",
      "Execução: 526 - Tempo: 38.5682 seg.\n",
      "Execução: 527 - Tempo: 38.3918 seg.\n",
      "Execução: 528 - Tempo: 38.4313 seg.\n",
      "Execução: 529 - Tempo: 39.4186 seg.\n",
      "Execução: 530 - Tempo: 38.5213 seg.\n",
      "Execução: 531 - Tempo: 38.5162 seg.\n",
      "Execução: 532 - Tempo: 65.4120 seg.\n",
      "Execução: 533 - Tempo: 38.7239 seg.\n",
      "Execução: 534 - Tempo: 38.4770 seg.\n",
      "Execução: 535 - Tempo: 38.4810 seg.\n",
      "Execução: 536 - Tempo: 38.3821 seg.\n",
      "Execução: 537 - Tempo: 38.5093 seg.\n",
      "Execução: 538 - Tempo: 38.5299 seg.\n",
      "Execução: 539 - Tempo: 39.0569 seg.\n",
      "Execução: 540 - Tempo: 41.3367 seg.\n",
      "Execução: 541 - Tempo: 38.4230 seg.\n",
      "Execução: 542 - Tempo: 38.6873 seg.\n",
      "Execução: 543 - Tempo: 38.7545 seg.\n",
      "Execução: 544 - Tempo: 38.6361 seg.\n",
      "Execução: 545 - Tempo: 38.5303 seg.\n",
      "Execução: 546 - Tempo: 38.4847 seg.\n",
      "Execução: 547 - Tempo: 38.3033 seg.\n",
      "Execução: 548 - Tempo: 38.6011 seg.\n",
      "Execução: 549 - Tempo: 38.6073 seg.\n",
      "Execução: 550 - Tempo: 38.4254 seg.\n",
      "Execução: 551 - Tempo: 38.7094 seg.\n",
      "Execução: 552 - Tempo: 38.4872 seg.\n",
      "Execução: 553 - Tempo: 38.6388 seg.\n",
      "Execução: 554 - Tempo: 38.6715 seg.\n",
      "Execução: 555 - Tempo: 38.8584 seg.\n",
      "Execução: 556 - Tempo: 38.6418 seg.\n",
      "Execução: 557 - Tempo: 38.3906 seg.\n",
      "Execução: 558 - Tempo: 38.4614 seg.\n",
      "Execução: 559 - Tempo: 38.8091 seg.\n",
      "Execução: 560 - Tempo: 39.2781 seg.\n",
      "Execução: 561 - Tempo: 40.7147 seg.\n",
      "Execução: 562 - Tempo: 38.4395 seg.\n",
      "Execução: 563 - Tempo: 39.1152 seg.\n",
      "Execução: 564 - Tempo: 38.4547 seg.\n",
      "Execução: 565 - Tempo: 38.5927 seg.\n",
      "Execução: 566 - Tempo: 38.5409 seg.\n",
      "Execução: 567 - Tempo: 38.8390 seg.\n",
      "Execução: 568 - Tempo: 38.8569 seg.\n",
      "Execução: 569 - Tempo: 38.5987 seg.\n",
      "Execução: 570 - Tempo: 38.4947 seg.\n",
      "Execução: 571 - Tempo: 38.4742 seg.\n",
      "Execução: 572 - Tempo: 38.5569 seg.\n",
      "Execução: 573 - Tempo: 38.7274 seg.\n",
      "Execução: 574 - Tempo: 39.2760 seg.\n",
      "Execução: 575 - Tempo: 38.3954 seg.\n",
      "Execução: 576 - Tempo: 38.4569 seg.\n",
      "Execução: 577 - Tempo: 38.9471 seg.\n",
      "Execução: 578 - Tempo: 38.3349 seg.\n",
      "Execução: 579 - Tempo: 41.0013 seg.\n",
      "Execução: 580 - Tempo: 39.0630 seg.\n",
      "Execução: 581 - Tempo: 38.5692 seg.\n",
      "Execução: 582 - Tempo: 38.8394 seg.\n",
      "Execução: 583 - Tempo: 45.0449 seg.\n",
      "Execução: 584 - Tempo: 38.5366 seg.\n",
      "Execução: 585 - Tempo: 38.6956 seg.\n",
      "Execução: 586 - Tempo: 38.6110 seg.\n",
      "Execução: 587 - Tempo: 39.0260 seg.\n",
      "Execução: 588 - Tempo: 39.0668 seg.\n",
      "Execução: 589 - Tempo: 38.5590 seg.\n",
      "Execução: 590 - Tempo: 38.8847 seg.\n",
      "Execução: 591 - Tempo: 38.3933 seg.\n",
      "Execução: 592 - Tempo: 38.4199 seg.\n",
      "Execução: 593 - Tempo: 38.3725 seg.\n",
      "Execução: 594 - Tempo: 39.2571 seg.\n",
      "Execução: 595 - Tempo: 38.6224 seg.\n",
      "Execução: 596 - Tempo: 39.6678 seg.\n",
      "Execução: 597 - Tempo: 38.7902 seg.\n",
      "Execução: 598 - Tempo: 38.6023 seg.\n",
      "Execução: 599 - Tempo: 186.4000 seg.\n",
      "Execução: 600 - Tempo: 39.5245 seg.\n",
      "Execução: 601 - Tempo: 39.0633 seg.\n",
      "Execução: 602 - Tempo: 38.2692 seg.\n",
      "Execução: 603 - Tempo: 38.7488 seg.\n",
      "Execução: 604 - Tempo: 38.7737 seg.\n",
      "Execução: 605 - Tempo: 38.3689 seg.\n",
      "Execução: 606 - Tempo: 38.7884 seg.\n",
      "Execução: 607 - Tempo: 43.5225 seg.\n",
      "Execução: 608 - Tempo: 39.1075 seg.\n",
      "Execução: 609 - Tempo: 38.6516 seg.\n",
      "Execução: 610 - Tempo: 39.3229 seg.\n",
      "Execução: 611 - Tempo: 38.5629 seg.\n",
      "Execução: 612 - Tempo: 38.3874 seg.\n",
      "Execução: 613 - Tempo: 38.6679 seg.\n",
      "Execução: 614 - Tempo: 40.2010 seg.\n",
      "Execução: 615 - Tempo: 38.4030 seg.\n",
      "Execução: 616 - Tempo: 38.7276 seg.\n",
      "Execução: 617 - Tempo: 38.4261 seg.\n",
      "Execução: 618 - Tempo: 38.4747 seg.\n",
      "Execução: 619 - Tempo: 38.3644 seg.\n",
      "Execução: 620 - Tempo: 38.8861 seg.\n",
      "Execução: 621 - Tempo: 38.8628 seg.\n",
      "Execução: 622 - Tempo: 39.0550 seg.\n",
      "Execução: 623 - Tempo: 39.0238 seg.\n",
      "Execução: 624 - Tempo: 38.2861 seg.\n",
      "Execução: 625 - Tempo: 38.7571 seg.\n",
      "Execução: 626 - Tempo: 38.6006 seg.\n",
      "Execução: 627 - Tempo: 38.7220 seg.\n",
      "Execução: 628 - Tempo: 38.5485 seg.\n",
      "Execução: 629 - Tempo: 38.4679 seg.\n",
      "Execução: 630 - Tempo: 39.5961 seg.\n",
      "Execução: 631 - Tempo: 38.3227 seg.\n",
      "Execução: 632 - Tempo: 38.4663 seg.\n",
      "Execução: 633 - Tempo: 38.5668 seg.\n",
      "Execução: 634 - Tempo: 38.4460 seg.\n",
      "Execução: 635 - Tempo: 38.5372 seg.\n",
      "Execução: 636 - Tempo: 38.2723 seg.\n",
      "Execução: 637 - Tempo: 38.3650 seg.\n",
      "Execução: 638 - Tempo: 38.5697 seg.\n",
      "Execução: 639 - Tempo: 39.4588 seg.\n",
      "Execução: 640 - Tempo: 39.1043 seg.\n",
      "Execução: 641 - Tempo: 38.6662 seg.\n",
      "Execução: 642 - Tempo: 38.4573 seg.\n",
      "Execução: 643 - Tempo: 38.4646 seg.\n",
      "Execução: 644 - Tempo: 39.0163 seg.\n",
      "Execução: 645 - Tempo: 38.7149 seg.\n",
      "Execução: 646 - Tempo: 38.6321 seg.\n",
      "Execução: 647 - Tempo: 38.6307 seg.\n",
      "Execução: 648 - Tempo: 38.3447 seg.\n",
      "Execução: 649 - Tempo: 38.3193 seg.\n",
      "Execução: 650 - Tempo: 38.3944 seg.\n",
      "Execução: 651 - Tempo: 38.5170 seg.\n",
      "Execução: 652 - Tempo: 39.1650 seg.\n",
      "Execução: 653 - Tempo: 38.5974 seg.\n",
      "Execução: 654 - Tempo: 38.5834 seg.\n",
      "Execução: 655 - Tempo: 38.4409 seg.\n",
      "Execução: 656 - Tempo: 38.6391 seg.\n",
      "Execução: 657 - Tempo: 38.5312 seg.\n",
      "Execução: 658 - Tempo: 38.4712 seg.\n",
      "Execução: 659 - Tempo: 38.3922 seg.\n",
      "Execução: 660 - Tempo: 38.4085 seg.\n",
      "Execução: 661 - Tempo: 38.3033 seg.\n",
      "Execução: 662 - Tempo: 38.5548 seg.\n",
      "Execução: 663 - Tempo: 39.3786 seg.\n",
      "Execução: 664 - Tempo: 38.9995 seg.\n",
      "Execução: 665 - Tempo: 38.3867 seg.\n",
      "Execução: 666 - Tempo: 38.6592 seg.\n",
      "Execução: 667 - Tempo: 38.5660 seg.\n",
      "Execução: 668 - Tempo: 38.5038 seg.\n",
      "Execução: 669 - Tempo: 38.6588 seg.\n",
      "Execução: 670 - Tempo: 38.7268 seg.\n",
      "Execução: 671 - Tempo: 38.3987 seg.\n",
      "Execução: 672 - Tempo: 38.9044 seg.\n",
      "Execução: 673 - Tempo: 38.3857 seg.\n",
      "Execução: 674 - Tempo: 38.8376 seg.\n",
      "Execução: 675 - Tempo: 40.5061 seg.\n",
      "Execução: 676 - Tempo: 39.0440 seg.\n",
      "Execução: 677 - Tempo: 38.4333 seg.\n",
      "Execução: 678 - Tempo: 38.6340 seg.\n",
      "Execução: 679 - Tempo: 38.6688 seg.\n",
      "Execução: 680 - Tempo: 38.4973 seg.\n",
      "Execução: 681 - Tempo: 67.4007 seg.\n",
      "Execução: 682 - Tempo: 42.3777 seg.\n",
      "Execução: 683 - Tempo: 38.4431 seg.\n",
      "Execução: 684 - Tempo: 38.6437 seg.\n",
      "Execução: 685 - Tempo: 38.3154 seg.\n",
      "Execução: 686 - Tempo: 38.8724 seg.\n",
      "Execução: 687 - Tempo: 38.8464 seg.\n",
      "Execução: 688 - Tempo: 38.3512 seg.\n",
      "Execução: 689 - Tempo: 38.3667 seg.\n",
      "Execução: 690 - Tempo: 38.6437 seg.\n",
      "Execução: 691 - Tempo: 38.6753 seg.\n",
      "Execução: 692 - Tempo: 39.0778 seg.\n",
      "Execução: 693 - Tempo: 39.3222 seg.\n",
      "Execução: 694 - Tempo: 38.7070 seg.\n",
      "Execução: 695 - Tempo: 38.5365 seg.\n",
      "Execução: 696 - Tempo: 38.5290 seg.\n",
      "Execução: 697 - Tempo: 38.3352 seg.\n",
      "Execução: 698 - Tempo: 38.7014 seg.\n",
      "Execução: 699 - Tempo: 38.4122 seg.\n",
      "Execução: 700 - Tempo: 38.5890 seg.\n",
      "Execução: 701 - Tempo: 38.8677 seg.\n",
      "Execução: 702 - Tempo: 38.8973 seg.\n",
      "Execução: 703 - Tempo: 39.0640 seg.\n",
      "Execução: 704 - Tempo: 38.5386 seg.\n",
      "Execução: 705 - Tempo: 38.3798 seg.\n",
      "Execução: 706 - Tempo: 38.4313 seg.\n",
      "Execução: 707 - Tempo: 38.5956 seg.\n",
      "Execução: 708 - Tempo: 38.4330 seg.\n",
      "Execução: 709 - Tempo: 38.4574 seg.\n",
      "Execução: 710 - Tempo: 38.9995 seg.\n",
      "Execução: 711 - Tempo: 38.8446 seg.\n",
      "Execução: 712 - Tempo: 38.5531 seg.\n",
      "Execução: 713 - Tempo: 38.2947 seg.\n",
      "Execução: 714 - Tempo: 38.5713 seg.\n",
      "Execução: 715 - Tempo: 38.3707 seg.\n",
      "Execução: 716 - Tempo: 38.4281 seg.\n",
      "Execução: 717 - Tempo: 38.7271 seg.\n",
      "Execução: 718 - Tempo: 38.5632 seg.\n",
      "Execução: 719 - Tempo: 38.8139 seg.\n",
      "Execução: 720 - Tempo: 38.3392 seg.\n",
      "Execução: 721 - Tempo: 38.4264 seg.\n",
      "Execução: 722 - Tempo: 38.6043 seg.\n",
      "Execução: 723 - Tempo: 38.5245 seg.\n",
      "Execução: 724 - Tempo: 38.4884 seg.\n",
      "Execução: 725 - Tempo: 38.4765 seg.\n",
      "Execução: 726 - Tempo: 38.4002 seg.\n",
      "Execução: 727 - Tempo: 38.5239 seg.\n",
      "Execução: 728 - Tempo: 38.3111 seg.\n",
      "Execução: 729 - Tempo: 38.6424 seg.\n",
      "Execução: 730 - Tempo: 38.4545 seg.\n",
      "Execução: 731 - Tempo: 38.6431 seg.\n",
      "Execução: 732 - Tempo: 38.4579 seg.\n",
      "Execução: 733 - Tempo: 38.6037 seg.\n",
      "Execução: 734 - Tempo: 38.4809 seg.\n",
      "Execução: 735 - Tempo: 38.6075 seg.\n",
      "Execução: 736 - Tempo: 39.0439 seg.\n",
      "Execução: 737 - Tempo: 38.4911 seg.\n",
      "Execução: 738 - Tempo: 39.0579 seg.\n",
      "Execução: 739 - Tempo: 38.4014 seg.\n",
      "Execução: 740 - Tempo: 38.9413 seg.\n",
      "Execução: 741 - Tempo: 38.4317 seg.\n",
      "Execução: 742 - Tempo: 38.7677 seg.\n",
      "Execução: 743 - Tempo: 38.3249 seg.\n",
      "Execução: 744 - Tempo: 38.3943 seg.\n",
      "Execução: 745 - Tempo: 38.4854 seg.\n",
      "Execução: 746 - Tempo: 38.9039 seg.\n",
      "Execução: 747 - Tempo: 39.3203 seg.\n",
      "Execução: 748 - Tempo: 38.2739 seg.\n",
      "Execução: 749 - Tempo: 38.8755 seg.\n",
      "Execução: 750 - Tempo: 39.3750 seg.\n",
      "Execução: 751 - Tempo: 38.6610 seg.\n",
      "Execução: 752 - Tempo: 38.5436 seg.\n",
      "Execução: 753 - Tempo: 38.3719 seg.\n",
      "Execução: 754 - Tempo: 38.8364 seg.\n",
      "Execução: 755 - Tempo: 39.0692 seg.\n",
      "Execução: 756 - Tempo: 38.7126 seg.\n",
      "Execução: 757 - Tempo: 39.2545 seg.\n",
      "Execução: 758 - Tempo: 38.5131 seg.\n",
      "Execução: 759 - Tempo: 38.4272 seg.\n",
      "Execução: 760 - Tempo: 38.7206 seg.\n",
      "Execução: 761 - Tempo: 39.5741 seg.\n",
      "Execução: 762 - Tempo: 38.7489 seg.\n",
      "Execução: 763 - Tempo: 38.3990 seg.\n",
      "Execução: 764 - Tempo: 38.4276 seg.\n",
      "Execução: 765 - Tempo: 43.1711 seg.\n",
      "Execução: 766 - Tempo: 44.3058 seg.\n",
      "Execução: 767 - Tempo: 39.0052 seg.\n",
      "Execução: 768 - Tempo: 38.4006 seg.\n",
      "Execução: 769 - Tempo: 38.5582 seg.\n",
      "Execução: 770 - Tempo: 38.5920 seg.\n",
      "Execução: 771 - Tempo: 38.3832 seg.\n",
      "Execução: 772 - Tempo: 38.4542 seg.\n",
      "Execução: 773 - Tempo: 38.5763 seg.\n",
      "Execução: 774 - Tempo: 38.4248 seg.\n",
      "Execução: 775 - Tempo: 38.4130 seg.\n",
      "Execução: 776 - Tempo: 38.4672 seg.\n",
      "Execução: 777 - Tempo: 38.8674 seg.\n",
      "Execução: 778 - Tempo: 38.5565 seg.\n",
      "Execução: 779 - Tempo: 38.9373 seg.\n",
      "Execução: 780 - Tempo: 38.4288 seg.\n",
      "Execução: 781 - Tempo: 38.4568 seg.\n",
      "Execução: 782 - Tempo: 38.4133 seg.\n",
      "Execução: 783 - Tempo: 38.4593 seg.\n",
      "Execução: 784 - Tempo: 38.6874 seg.\n",
      "Execução: 785 - Tempo: 38.5345 seg.\n",
      "Execução: 786 - Tempo: 38.3723 seg.\n",
      "Execução: 787 - Tempo: 38.5651 seg.\n",
      "Execução: 788 - Tempo: 39.3359 seg.\n",
      "Execução: 789 - Tempo: 38.6841 seg.\n",
      "Execução: 790 - Tempo: 39.2680 seg.\n",
      "Execução: 791 - Tempo: 38.3387 seg.\n",
      "Execução: 792 - Tempo: 38.4801 seg.\n",
      "Execução: 793 - Tempo: 38.3872 seg.\n",
      "Execução: 794 - Tempo: 38.8277 seg.\n",
      "Execução: 795 - Tempo: 38.4949 seg.\n",
      "Execução: 796 - Tempo: 38.4375 seg.\n",
      "Execução: 797 - Tempo: 38.5096 seg.\n",
      "Execução: 798 - Tempo: 38.6365 seg.\n",
      "Execução: 799 - Tempo: 38.8430 seg.\n",
      "Execução: 800 - Tempo: 38.4759 seg.\n",
      "Execução: 801 - Tempo: 39.2733 seg.\n",
      "Execução: 802 - Tempo: 38.6556 seg.\n",
      "Execução: 803 - Tempo: 38.5158 seg.\n",
      "Execução: 804 - Tempo: 38.5481 seg.\n",
      "Execução: 805 - Tempo: 38.9035 seg.\n",
      "Execução: 806 - Tempo: 38.3940 seg.\n",
      "Execução: 807 - Tempo: 38.5025 seg.\n",
      "Execução: 808 - Tempo: 39.4279 seg.\n",
      "Execução: 809 - Tempo: 38.7638 seg.\n",
      "Execução: 810 - Tempo: 38.9360 seg.\n",
      "Execução: 811 - Tempo: 38.8526 seg.\n",
      "Execução: 812 - Tempo: 38.5690 seg.\n",
      "Execução: 813 - Tempo: 38.4471 seg.\n",
      "Execução: 814 - Tempo: 39.7950 seg.\n",
      "Execução: 815 - Tempo: 38.7708 seg.\n",
      "Execução: 816 - Tempo: 40.4867 seg.\n",
      "Execução: 817 - Tempo: 38.4731 seg.\n",
      "Execução: 818 - Tempo: 38.4520 seg.\n",
      "Execução: 819 - Tempo: 38.7218 seg.\n",
      "Execução: 820 - Tempo: 38.4454 seg.\n",
      "Execução: 821 - Tempo: 38.4519 seg.\n",
      "Execução: 822 - Tempo: 38.4359 seg.\n",
      "Execução: 823 - Tempo: 38.5973 seg.\n",
      "Execução: 824 - Tempo: 38.7400 seg.\n",
      "Execução: 825 - Tempo: 38.5050 seg.\n",
      "Execução: 826 - Tempo: 38.3646 seg.\n",
      "Execução: 827 - Tempo: 38.3968 seg.\n",
      "Execução: 828 - Tempo: 38.7725 seg.\n",
      "Execução: 829 - Tempo: 38.3936 seg.\n",
      "Execução: 830 - Tempo: 39.9423 seg.\n",
      "Execução: 831 - Tempo: 38.4777 seg.\n",
      "Execução: 832 - Tempo: 38.4107 seg.\n",
      "Execução: 833 - Tempo: 38.4347 seg.\n",
      "Execução: 834 - Tempo: 38.5353 seg.\n",
      "Execução: 835 - Tempo: 38.5608 seg.\n",
      "Execução: 836 - Tempo: 38.4904 seg.\n",
      "Execução: 837 - Tempo: 38.6847 seg.\n",
      "Execução: 838 - Tempo: 38.5292 seg.\n",
      "Execução: 839 - Tempo: 38.3201 seg.\n",
      "Execução: 840 - Tempo: 39.0215 seg.\n",
      "Execução: 841 - Tempo: 38.4074 seg.\n",
      "Execução: 842 - Tempo: 38.8027 seg.\n",
      "Execução: 843 - Tempo: 38.6125 seg.\n",
      "Execução: 844 - Tempo: 38.4848 seg.\n",
      "Execução: 845 - Tempo: 38.5353 seg.\n",
      "Execução: 846 - Tempo: 43.0613 seg.\n",
      "Execução: 847 - Tempo: 39.1112 seg.\n",
      "Execução: 848 - Tempo: 38.6596 seg.\n",
      "Execução: 849 - Tempo: 39.0730 seg.\n",
      "Execução: 850 - Tempo: 38.4521 seg.\n",
      "Execução: 851 - Tempo: 38.4701 seg.\n",
      "Execução: 852 - Tempo: 38.9680 seg.\n",
      "Execução: 853 - Tempo: 38.4215 seg.\n",
      "Execução: 854 - Tempo: 39.1507 seg.\n",
      "Execução: 855 - Tempo: 38.4572 seg.\n",
      "Execução: 856 - Tempo: 38.6070 seg.\n",
      "Execução: 857 - Tempo: 38.8182 seg.\n",
      "Execução: 858 - Tempo: 38.6338 seg.\n",
      "Execução: 859 - Tempo: 38.4519 seg.\n",
      "Execução: 860 - Tempo: 38.5264 seg.\n",
      "Execução: 861 - Tempo: 38.4731 seg.\n",
      "Execução: 862 - Tempo: 38.4435 seg.\n",
      "Execução: 863 - Tempo: 38.6700 seg.\n",
      "Execução: 864 - Tempo: 39.0116 seg.\n",
      "Execução: 865 - Tempo: 38.3849 seg.\n",
      "Execução: 866 - Tempo: 38.5430 seg.\n",
      "Execução: 867 - Tempo: 38.2974 seg.\n",
      "Execução: 868 - Tempo: 43.0482 seg.\n",
      "Execução: 869 - Tempo: 38.5851 seg.\n",
      "Execução: 870 - Tempo: 38.5288 seg.\n",
      "Execução: 871 - Tempo: 38.3300 seg.\n",
      "Execução: 872 - Tempo: 38.9611 seg.\n",
      "Execução: 873 - Tempo: 38.3641 seg.\n",
      "Execução: 874 - Tempo: 38.8256 seg.\n",
      "Execução: 875 - Tempo: 38.6210 seg.\n",
      "Execução: 876 - Tempo: 38.4156 seg.\n",
      "Execução: 877 - Tempo: 38.8316 seg.\n",
      "Execução: 878 - Tempo: 38.5815 seg.\n",
      "Execução: 879 - Tempo: 38.5189 seg.\n",
      "Execução: 880 - Tempo: 38.5791 seg.\n",
      "Execução: 881 - Tempo: 38.5166 seg.\n",
      "Execução: 882 - Tempo: 38.6996 seg.\n",
      "Execução: 883 - Tempo: 38.9359 seg.\n",
      "Execução: 884 - Tempo: 38.7462 seg.\n",
      "Execução: 885 - Tempo: 38.4405 seg.\n",
      "Execução: 886 - Tempo: 38.6356 seg.\n",
      "Execução: 887 - Tempo: 38.6051 seg.\n",
      "Execução: 888 - Tempo: 38.4443 seg.\n",
      "Execução: 889 - Tempo: 38.7031 seg.\n",
      "Execução: 890 - Tempo: 38.3964 seg.\n",
      "Execução: 891 - Tempo: 38.4685 seg.\n",
      "Execução: 892 - Tempo: 38.6412 seg.\n",
      "Execução: 893 - Tempo: 38.5637 seg.\n",
      "Execução: 894 - Tempo: 38.5571 seg.\n",
      "Execução: 895 - Tempo: 38.5260 seg.\n",
      "Execução: 896 - Tempo: 38.5135 seg.\n",
      "Execução: 897 - Tempo: 38.5054 seg.\n",
      "Execução: 898 - Tempo: 38.6395 seg.\n",
      "Execução: 899 - Tempo: 38.6863 seg.\n",
      "Execução: 900 - Tempo: 38.4159 seg.\n",
      "Execução: 901 - Tempo: 38.4723 seg.\n",
      "Execução: 902 - Tempo: 39.4724 seg.\n",
      "Execução: 903 - Tempo: 38.9347 seg.\n",
      "Execução: 904 - Tempo: 38.5817 seg.\n",
      "Execução: 905 - Tempo: 38.4546 seg.\n",
      "Execução: 906 - Tempo: 38.5929 seg.\n",
      "Execução: 907 - Tempo: 43.4618 seg.\n",
      "Execução: 908 - Tempo: 38.5319 seg.\n",
      "Execução: 909 - Tempo: 38.4645 seg.\n",
      "Execução: 910 - Tempo: 38.6775 seg.\n",
      "Execução: 911 - Tempo: 38.6161 seg.\n",
      "Execução: 912 - Tempo: 38.6179 seg.\n",
      "Execução: 913 - Tempo: 38.6948 seg.\n",
      "Execução: 914 - Tempo: 38.4778 seg.\n",
      "Execução: 915 - Tempo: 39.1774 seg.\n",
      "Execução: 916 - Tempo: 38.8538 seg.\n",
      "Execução: 917 - Tempo: 38.4941 seg.\n",
      "Execução: 918 - Tempo: 38.7461 seg.\n",
      "Execução: 919 - Tempo: 40.4937 seg.\n",
      "Execução: 920 - Tempo: 38.5511 seg.\n",
      "Execução: 921 - Tempo: 38.6111 seg.\n",
      "Execução: 922 - Tempo: 38.4675 seg.\n",
      "Execução: 923 - Tempo: 38.9958 seg.\n",
      "Execução: 924 - Tempo: 38.5446 seg.\n",
      "Execução: 925 - Tempo: 38.8746 seg.\n",
      "Execução: 926 - Tempo: 38.7033 seg.\n",
      "Execução: 927 - Tempo: 38.4437 seg.\n",
      "Execução: 928 - Tempo: 38.6431 seg.\n",
      "Execução: 929 - Tempo: 38.5265 seg.\n",
      "Execução: 930 - Tempo: 38.4496 seg.\n",
      "Execução: 931 - Tempo: 38.3756 seg.\n",
      "Execução: 932 - Tempo: 38.4785 seg.\n",
      "Execução: 933 - Tempo: 38.4736 seg.\n",
      "Execução: 934 - Tempo: 38.7249 seg.\n",
      "Execução: 935 - Tempo: 38.5091 seg.\n",
      "Execução: 936 - Tempo: 39.1685 seg.\n",
      "Execução: 937 - Tempo: 38.5086 seg.\n",
      "Execução: 938 - Tempo: 38.9611 seg.\n",
      "Execução: 939 - Tempo: 38.5838 seg.\n",
      "Execução: 940 - Tempo: 38.5070 seg.\n",
      "Execução: 941 - Tempo: 38.4895 seg.\n",
      "Execução: 942 - Tempo: 38.4641 seg.\n",
      "Execução: 943 - Tempo: 38.4480 seg.\n",
      "Execução: 944 - Tempo: 38.5263 seg.\n",
      "Execução: 945 - Tempo: 39.5847 seg.\n",
      "Execução: 946 - Tempo: 39.0016 seg.\n",
      "Execução: 947 - Tempo: 38.5263 seg.\n",
      "Execução: 948 - Tempo: 38.7136 seg.\n",
      "Execução: 949 - Tempo: 38.4676 seg.\n",
      "Execução: 950 - Tempo: 38.5755 seg.\n",
      "Execução: 951 - Tempo: 38.4864 seg.\n",
      "Execução: 952 - Tempo: 38.7542 seg.\n",
      "Execução: 953 - Tempo: 42.3937 seg.\n",
      "Execução: 954 - Tempo: 38.6847 seg.\n",
      "Execução: 955 - Tempo: 39.1539 seg.\n",
      "Execução: 956 - Tempo: 38.9122 seg.\n",
      "Execução: 957 - Tempo: 38.3493 seg.\n",
      "Execução: 958 - Tempo: 39.7679 seg.\n",
      "Execução: 959 - Tempo: 39.2175 seg.\n",
      "Execução: 960 - Tempo: 39.1926 seg.\n",
      "Execução: 961 - Tempo: 38.6953 seg.\n",
      "Execução: 962 - Tempo: 38.5273 seg.\n",
      "Execução: 963 - Tempo: 38.6105 seg.\n",
      "Execução: 964 - Tempo: 38.6144 seg.\n",
      "Execução: 965 - Tempo: 39.1197 seg.\n",
      "Execução: 966 - Tempo: 38.7120 seg.\n",
      "Execução: 967 - Tempo: 38.9013 seg.\n",
      "Execução: 968 - Tempo: 40.1541 seg.\n",
      "Execução: 969 - Tempo: 38.5908 seg.\n",
      "Execução: 970 - Tempo: 38.6081 seg.\n",
      "Execução: 971 - Tempo: 38.5681 seg.\n",
      "Execução: 972 - Tempo: 39.0596 seg.\n",
      "Execução: 973 - Tempo: 38.5641 seg.\n",
      "Execução: 974 - Tempo: 38.8590 seg.\n",
      "Execução: 975 - Tempo: 38.5618 seg.\n",
      "Execução: 976 - Tempo: 39.1859 seg.\n",
      "Execução: 977 - Tempo: 38.6388 seg.\n",
      "Execução: 978 - Tempo: 38.6769 seg.\n",
      "Execução: 979 - Tempo: 38.5772 seg.\n",
      "Execução: 980 - Tempo: 38.4589 seg.\n",
      "Execução: 981 - Tempo: 39.3812 seg.\n",
      "Execução: 982 - Tempo: 39.0487 seg.\n",
      "Execução: 983 - Tempo: 38.4836 seg.\n",
      "Execução: 984 - Tempo: 38.6495 seg.\n",
      "Execução: 985 - Tempo: 38.7543 seg.\n",
      "Execução: 986 - Tempo: 39.5874 seg.\n",
      "Execução: 987 - Tempo: 38.5454 seg.\n",
      "Execução: 988 - Tempo: 39.0710 seg.\n",
      "Execução: 989 - Tempo: 38.3568 seg.\n",
      "Execução: 990 - Tempo: 38.6266 seg.\n",
      "Execução: 991 - Tempo: 38.4353 seg.\n",
      "Execução: 992 - Tempo: 38.4611 seg.\n",
      "Execução: 993 - Tempo: 39.2647 seg.\n",
      "Execução: 994 - Tempo: 38.5523 seg.\n",
      "Execução: 995 - Tempo: 38.6407 seg.\n",
      "Execução: 996 - Tempo: 38.5131 seg.\n",
      "Execução: 997 - Tempo: 38.7760 seg.\n",
      "Execução: 998 - Tempo: 38.5312 seg.\n",
      "Execução: 999 - Tempo: 38.9055 seg.\n"
     ]
    }
   ],
   "source": [
    "# Teste de estresse 2\n",
    "tempo_exec2=[]\n",
    "for i in range(TAM_POP):\n",
    "    tempo_atual = t.time()\n",
    "    # Teste CAP_MOC, TAM_LOJA, QTD_MAX_PROD, MAX_PRECO, MAX_VOL\n",
    "    string = 'python mochila_serial.py '+str(TAM_LOJA)+' '+str(QTD_MAX_PROD)+' '+str(VAL_MAX_PROD)+' '+\\\n",
    "                str(VOL_MAX_PROD)+' '+str(CAP_MOCHILA)+' > NUL' #Jogando a saida para null para não poluir o terminal\n",
    "    !$string\n",
    "    tempo_final = t.time()\n",
    "    tempo_final -= tempo_atual\n",
    "    tempo_exec2.append((i,tempo_final))\n",
    "    print('Execução: %d - Tempo: %.4f seg.' %(i, tempo_final))\n",
    "#print(tempo_exec2) "
   ]
  },
  {
   "attachments": {},
   "cell_type": "markdown",
   "id": "5cf849e8",
   "metadata": {
    "id": "5cf849e8"
   },
   "source": [
    "## Transfomando dados para 'numpy' para uso estatístico\n",
    "<H3><font color='Red'>Só rodar se a célula anterior for executada</font></H3>"
   ]
  },
  {
   "cell_type": "code",
   "execution_count": 10,
   "id": "27ee2c42",
   "metadata": {
    "id": "27ee2c42"
   },
   "outputs": [],
   "source": [
    "tempo_exec2 = np.array(tempo_exec2)\n",
    "np.savetxt('dataset_single_core.txt', tempo_exec2, fmt='%f')\n",
    "#tempo_exec2"
   ]
  },
  {
   "attachments": {},
   "cell_type": "markdown",
   "id": "31926de0",
   "metadata": {
    "id": "31926de0"
   },
   "source": [
    "# Análise Estatística"
   ]
  },
  {
   "attachments": {},
   "cell_type": "markdown",
   "id": "21c6d555",
   "metadata": {
    "id": "21c6d555"
   },
   "source": [
    "## Leitura do Dataset"
   ]
  },
  {
   "cell_type": "code",
   "execution_count": 11,
   "id": "11eacd01",
   "metadata": {
    "id": "11eacd01"
   },
   "outputs": [],
   "source": [
    "# Lendo o dataset armazenado\n",
    "tempo_exec2 = np.loadtxt('dataset_single_core.txt', dtype = float)"
   ]
  },
  {
   "attachments": {},
   "cell_type": "markdown",
   "id": "56986b80",
   "metadata": {
    "id": "56986b80"
   },
   "source": [
    "## Gráfico de disperção no tempo de execução"
   ]
  },
  {
   "cell_type": "code",
   "execution_count": 12,
   "id": "4acbad92",
   "metadata": {
    "id": "4acbad92",
    "outputId": "48264590-021c-469f-a748-fd6d2276b96b",
    "scrolled": false
   },
   "outputs": [
    {
     "data": {
      "image/png": "[encoded data removed]",
      "text/plain": [
       "<Figure size 1000x700 with 1 Axes>"
      ]
     },
     "metadata": {},
     "output_type": "display_data"
    }
   ],
   "source": [
    "plt.figure(figsize=(10,7))\n",
    "plt.scatter(tempo_exec2[:,0], tempo_exec2[:,1], label='Alg.Serial')\n",
    "plt.title('Tempo de execução')\n",
    "plt.xlabel('Tamanho da Lista')\n",
    "plt.ylabel('Segundos')\n",
    "plt.legend()\n",
    "plt.grid()\n",
    "plt.show()"
   ]
  },
  {
   "attachments": {},
   "cell_type": "markdown",
   "id": "ec97e55f",
   "metadata": {
    "id": "ec97e55f"
   },
   "source": [
    "## Cálculo de valores centrais:\n",
    "### (Média, Mediana, Moda)"
   ]
  },
  {
   "cell_type": "code",
   "execution_count": 13,
   "id": "f4aa3e09",
   "metadata": {
    "id": "f4aa3e09",
    "outputId": "539e6bf2-c1b1-4a67-a248-047040c33b09"
   },
   "outputs": [
    {
     "name": "stdout",
     "output_type": "stream",
     "text": [
      "Tempo médio de execução 39.0185\n"
     ]
    }
   ],
   "source": [
    "# Média\n",
    "tempo_exec2_media = tempo_exec2[:,1].mean()\n",
    "print('Tempo médio de execução %.4f' %tempo_exec2_media)"
   ]
  },
  {
   "cell_type": "code",
   "execution_count": 14,
   "id": "f4dfb71d",
   "metadata": {
    "id": "f4dfb71d",
    "outputId": "c8a3b610-4b68-4944-826f-8ff5ecac85ec"
   },
   "outputs": [
    {
     "name": "stdout",
     "output_type": "stream",
     "text": [
      "Desvio padrão 4.9780\n"
     ]
    }
   ],
   "source": [
    "# Desvio Padrão\n",
    "tempo_exec2_std = tempo_exec2[:,1].std()\n",
    "print('Desvio padrão %.4f' %tempo_exec2_std)"
   ]
  },
  {
   "cell_type": "code",
   "execution_count": 15,
   "id": "61d1f0d2",
   "metadata": {
    "id": "61d1f0d2",
    "outputId": "1baa1b84-0a82-4248-fed8-8af24094133f"
   },
   "outputs": [
    {
     "name": "stdout",
     "output_type": "stream",
     "text": [
      "Tempo mediano de execuçao 38.5853\n"
     ]
    }
   ],
   "source": [
    "# Médiana\n",
    "tempo_exec2_mediana = np.median(tempo_exec2[:,1])\n",
    "print('Tempo mediano de execuçao %.4f' %tempo_exec2_mediana)"
   ]
  },
  {
   "attachments": {},
   "cell_type": "markdown",
   "id": "d3118d96",
   "metadata": {
    "id": "d3118d96"
   },
   "source": [
    "## Análise Frequências"
   ]
  },
  {
   "attachments": {},
   "cell_type": "markdown",
   "id": "7ad8a0ae",
   "metadata": {
    "id": "7ad8a0ae"
   },
   "source": [
    "Não é possivel calcular a moda de uma população de valores numéricos contínuos. Neste caso podemos aplicar a **Regra de Sturges** para calcular a frequência da distribuição da amostra.\n",
    "$$k = 1 + \\frac {10}{3}\\log_{10}n$$"
   ]
  },
  {
   "cell_type": "code",
   "execution_count": 16,
   "id": "4a45960d",
   "metadata": {
    "id": "4a45960d",
    "outputId": "119f5579-5fde-4f25-c340-0d7847a2bd10"
   },
   "outputs": [
    {
     "name": "stdout",
     "output_type": "stream",
     "text": [
      "Tamanho da Amostra: 11\n"
     ]
    }
   ],
   "source": [
    "# Cálculo do intervalo de freqûencia: n = Tamanho da Amostra\n",
    "n = tempo_exec2.shape[0]\n",
    "k = 1 + (10/3)*np.log10(n)\n",
    "k = int(k.round(0))\n",
    "print(f'Tamanho da Amostra: {k}')"
   ]
  },
  {
   "cell_type": "code",
   "execution_count": 17,
   "id": "030b4e11",
   "metadata": {
    "id": "030b4e11",
    "outputId": "970630a1-a7cb-4c76-8985-2855530a83a7"
   },
   "outputs": [
    {
     "name": "stdout",
     "output_type": "stream",
     "text": [
      "(array([995,   1,   3,   0,   0,   0,   0,   0,   0,   0,   1], dtype=int64), array([ 38.131598  ,  51.61054509,  65.08949218,  78.56843927,\n",
      "        92.04738636, 105.52633345, 119.00528055, 132.48422764,\n",
      "       145.96317473, 159.44212182, 172.92106891, 186.400016  ]))\n"
     ]
    }
   ],
   "source": [
    "# Coletando a frequência\n",
    "tempo_exec2_freq = np.histogram(tempo_exec2[:,1], bins= k)\n",
    "print(tempo_exec2_freq)"
   ]
  },
  {
   "cell_type": "code",
   "execution_count": 18,
   "id": "32b34e73",
   "metadata": {
    "id": "32b34e73",
    "outputId": "9b1511f6-42e5-4757-be63-437e831cf577"
   },
   "outputs": [
    {
     "name": "stderr",
     "output_type": "stream",
     "text": [
      "No artists with labels found to put in legend.  Note that artists whose label start with an underscore are ignored when legend() is called with no argument.\n"
     ]
    },
    {
     "data": {
      "image/png": "[encoded data removed]",
      "text/plain": [
       "<Figure size 1000x700 with 1 Axes>"
      ]
     },
     "metadata": {},
     "output_type": "display_data"
    }
   ],
   "source": [
    "plt.figure(figsize=(10,7))\n",
    "plt.hist(tempo_exec2[:,1], bins = k)\n",
    "plt.title('Histograma do Tempo de Execução')\n",
    "plt.ylabel('Frequência')\n",
    "plt.xlabel('Segundos')\n",
    "plt.legend()\n",
    "plt.grid()\n",
    "plt.show()"
   ]
  },
  {
   "attachments": {},
   "cell_type": "markdown",
   "id": "a042632d",
   "metadata": {
    "id": "a042632d"
   },
   "source": [
    "### **Verificando a possbilidade de dados OUTLIERS**\n",
    "**Medidas Separatrizes**: Quartis"
   ]
  },
  {
   "cell_type": "code",
   "execution_count": 19,
   "id": "967fb3b4",
   "metadata": {
    "id": "967fb3b4",
    "outputId": "a4844b00-e20c-436d-b032-53e6358ff8ea"
   },
   "outputs": [
    {
     "name": "stderr",
     "output_type": "stream",
     "text": [
      "No artists with labels found to put in legend.  Note that artists whose label start with an underscore are ignored when legend() is called with no argument.\n"
     ]
    },
    {
     "data": {
      "image/png": "[encoded data removed]",
      "text/plain": [
       "<Figure size 1000x700 with 1 Axes>"
      ]
     },
     "metadata": {},
     "output_type": "display_data"
    }
   ],
   "source": [
    "# Gráfico BoxPlot\n",
    "plt.figure(figsize=(10,7))\n",
    "plt.boxplot(tempo_exec2[:,1], vert = False)\n",
    "plt.title('Quartis do Tempo de Execução')\n",
    "plt.ylabel('Frequência')\n",
    "plt.xlabel('Segundos')\n",
    "plt.legend()\n",
    "plt.grid()\n",
    "plt.show()"
   ]
  },
  {
   "attachments": {},
   "cell_type": "markdown",
   "id": "e8b90a1e",
   "metadata": {
    "id": "e8b90a1e"
   },
   "source": [
    "### **Removendo dados \"extremos\" - Outliers**\n",
    "#### <font color='Red'> Ajustar os valores antes de executar </font>"
   ]
  },
  {
   "cell_type": "code",
   "execution_count": 20,
   "id": "5bf0fd52",
   "metadata": {
    "id": "5bf0fd52",
    "outputId": "cc23863a-0df5-4815-ef88-9d2dc948a6be",
    "scrolled": true
   },
   "outputs": [
    {
     "name": "stdout",
     "output_type": "stream",
     "text": [
      "Nº de registros originais: 1000\n",
      "Qtd. de registros removidos: 6\n",
      "Registros removidos: [219, 331, 347, 532, 599, 681]\n",
      "Nº de registros corrigidos: 994\n",
      "[[ 0.       38.570399]\n",
      " [ 1.       38.727356]\n",
      " [ 2.       38.351767]\n",
      " [ 3.       38.379916]\n",
      " [ 4.       38.413536]\n",
      " [ 5.       38.581963]\n",
      " [ 6.       38.630922]\n",
      " [ 7.       38.392092]\n",
      " [ 8.       41.642542]\n",
      " [ 9.       38.967819]\n",
      " [10.       38.563879]\n",
      " [11.       38.446738]\n",
      " [12.       38.434933]\n",
      " [13.       38.45781 ]\n",
      " [14.       38.557279]]\n"
     ]
    }
   ],
   "source": [
    "# Remover valores da lista\n",
    "int_sup = tempo_exec2_media + (2 * tempo_exec2_std)\n",
    "int_inf = tempo_exec2_media - (2 * tempo_exec2_std)\n",
    "print(f'Nº de registros originais: {tempo_exec2.shape[0]}')\n",
    "registros = []\n",
    "for i in range(tempo_exec2.shape[0]):\n",
    "        if int_inf > tempo_exec2[i, 1] or tempo_exec2[i, 1] > int_sup:\n",
    "            registros.append(i)\n",
    "print(f'Qtd. de registros removidos: {len(registros)}')\n",
    "print(f'Registros removidos: {registros}')\n",
    "tempo_exec2 = np.delete(tempo_exec2, registros, 0)\n",
    "print(f'Nº de registros corrigidos: {tempo_exec2.shape[0]}')\n",
    "print(tempo_exec2[0:15])"
   ]
  },
  {
   "attachments": {},
   "cell_type": "markdown",
   "id": "c07cfd4f",
   "metadata": {
    "id": "c07cfd4f"
   },
   "source": [
    "### Salvando os registros corrigidos"
   ]
  },
  {
   "cell_type": "code",
   "execution_count": 21,
   "id": "b84892f2",
   "metadata": {
    "id": "b84892f2"
   },
   "outputs": [],
   "source": [
    "np.savetxt('dataset_single_core_corrigido.txt', tempo_exec2, fmt='%f')"
   ]
  },
  {
   "cell_type": "code",
   "execution_count": 22,
   "id": "6b69d13a",
   "metadata": {
    "id": "6b69d13a",
    "outputId": "c5a75713-92e2-45e4-d0d3-6a8bb8f62d06"
   },
   "outputs": [
    {
     "name": "stdout",
     "output_type": "stream",
     "text": [
      "Tempo médio de execução 38.762617\n"
     ]
    }
   ],
   "source": [
    "# Média\n",
    "tempo_exec2_media = tempo_exec2[:,1].mean()\n",
    "print('Tempo médio de execução %f' %tempo_exec2_media)"
   ]
  },
  {
   "cell_type": "code",
   "execution_count": 23,
   "id": "9be0ccae",
   "metadata": {
    "id": "9be0ccae",
    "outputId": "df0d77b4-e47f-4245-fbc5-7202fe584704"
   },
   "outputs": [
    {
     "name": "stdout",
     "output_type": "stream",
     "text": [
      "Desvio padrão 0.6608\n"
     ]
    }
   ],
   "source": [
    "# Desvio Padrão\n",
    "tempo_exec2_std = tempo_exec2[:,1].std()\n",
    "print('Desvio padrão %.4f' %tempo_exec2_std)"
   ]
  },
  {
   "cell_type": "code",
   "execution_count": 24,
   "id": "c9c86821",
   "metadata": {
    "id": "c9c86821",
    "outputId": "d0a56a4e-6543-4d2e-d998-b31f70f39991"
   },
   "outputs": [
    {
     "name": "stdout",
     "output_type": "stream",
     "text": [
      "Tempo mediano de execuçao 38.5836\n"
     ]
    }
   ],
   "source": [
    "# Médiana\n",
    "tempo_exec2_mediana = np.median(tempo_exec2[:,1])\n",
    "print('Tempo mediano de execuçao %.4f' %tempo_exec2_mediana)"
   ]
  },
  {
   "attachments": {},
   "cell_type": "markdown",
   "id": "5a6abe11",
   "metadata": {
    "id": "5a6abe11"
   },
   "source": [
    "## Estatística - DISTRIBUIÇÕES DE PROBABILIDADE\n",
    "\n",
    "### Distribuição Normal\n",
    "\n",
    "#### Amostra (Média da População)"
   ]
  },
  {
   "cell_type": "code",
   "execution_count": 25,
   "id": "299c92e2",
   "metadata": {
    "id": "299c92e2"
   },
   "outputs": [],
   "source": [
    "# Parâmetros para uma media de amostragens\n",
    "tam_amost = 50\n",
    "qtd_amost = 1000"
   ]
  },
  {
   "cell_type": "code",
   "execution_count": 26,
   "id": "1afa0264",
   "metadata": {
    "id": "1afa0264"
   },
   "outputs": [],
   "source": [
    "# Obtendo a media de amostragens\n",
    "amostra = []\n",
    "for i in range(qtd_amost):\n",
    "    amostra.append(np.random.choice(tempo_exec2[:,1], tam_amost).mean())\n",
    "amostra = np.array(amostra)"
   ]
  },
  {
   "cell_type": "code",
   "execution_count": 27,
   "id": "43f58fb4",
   "metadata": {
    "id": "43f58fb4",
    "outputId": "9ad16ecb-8a81-43a9-d4ab-f04ee6fffd0e"
   },
   "outputs": [
    {
     "name": "stdout",
     "output_type": "stream",
     "text": [
      "** Valores Centrais da Amostra **\n",
      "Média da amostra:       38.7679\n",
      "Desv.Padrão da amostra: 0.0957\n",
      "Mediana da amostra:     38.7608\n"
     ]
    }
   ],
   "source": [
    "# Valores Centrais da amostragem\n",
    "amostra_media   = amostra.mean()\n",
    "amostra_std     = amostra.std()\n",
    "amostra_mediana = np.median(amostra)\n",
    "print('** Valores Centrais da Amostra **')\n",
    "print('Média da amostra:       %.4f' %amostra_media)\n",
    "print('Desv.Padrão da amostra: %.4f' %amostra_std)\n",
    "print('Mediana da amostra:     %.4f' %amostra_mediana)"
   ]
  },
  {
   "cell_type": "code",
   "execution_count": 28,
   "id": "a0bf1d89",
   "metadata": {
    "id": "a0bf1d89",
    "outputId": "81f4d6f6-8ef1-42f4-9f3a-54ff5e458aee"
   },
   "outputs": [
    {
     "data": {
      "text/plain": [
       "0.0935"
      ]
     },
     "execution_count": 28,
     "metadata": {},
     "output_type": "execute_result"
    }
   ],
   "source": [
    "# Desvio Padrão de inferência calculado\n",
    "round(tempo_exec2_std / np.sqrt(tam_amost),4)"
   ]
  },
  {
   "cell_type": "code",
   "execution_count": 29,
   "id": "b2fe497f",
   "metadata": {
    "id": "b2fe497f",
    "outputId": "49cce5e5-d7d3-4d80-da46-49c4a3f4ae5b"
   },
   "outputs": [
    {
     "name": "stderr",
     "output_type": "stream",
     "text": [
      "No artists with labels found to put in legend.  Note that artists whose label start with an underscore are ignored when legend() is called with no argument.\n"
     ]
    },
    {
     "data": {
      "image/png": "[encoded data removed]",
      "text/plain": [
       "<Figure size 1000x700 with 1 Axes>"
      ]
     },
     "metadata": {},
     "output_type": "display_data"
    }
   ],
   "source": [
    "# Visualizando a amostra:\n",
    "plt.figure(figsize=(10,7))\n",
    "plt.hist(amostra, bins = k)\n",
    "plt.title('Histograma do Tempo de Execução')\n",
    "plt.ylabel('Frequência')\n",
    "plt.xlabel('Segundos')\n",
    "plt.legend()\n",
    "plt.grid()\n",
    "plt.show()"
   ]
  },
  {
   "cell_type": "code",
   "execution_count": 30,
   "id": "fe3e10b2",
   "metadata": {
    "id": "fe3e10b2"
   },
   "outputs": [
    {
     "name": "stderr",
     "output_type": "stream",
     "text": [
      "C:\\Users\\Thiago\\AppData\\Local\\Temp\\ipykernel_24864\\3257524375.py:2: DeprecationWarning: Use of keyword argument 'alpha' for method 'interval' is deprecated and wil be removed in SciPy 1.11.0. Use first positional argument or keyword argument 'confidence' instead.\n",
      "  intervalo = norm.interval(alpha = 0.99, loc = amostra_media, scale = amostra_std)\n"
     ]
    }
   ],
   "source": [
    "# Considerando a confiança de 99%\n",
    "intervalo = norm.interval(alpha = 0.99, loc = amostra_media, scale = amostra_std)"
   ]
  },
  {
   "cell_type": "code",
   "execution_count": 31,
   "id": "5c8a9c79",
   "metadata": {
    "id": "5c8a9c79",
    "outputId": "55d7aad7-21c3-4835-aee2-77c005c96851"
   },
   "outputs": [
    {
     "name": "stdout",
     "output_type": "stream",
     "text": [
      "Afirma-se que o computador irá executar o Problema da Mochila com os seguintes parâmetros: \n",
      "        CAP_MOC   = 30    # Capacidade da Mochila \n",
      "        TAM_LOJA  = 10    # Tamanho da Loja (Variedade de Produtos) \n",
      "        QTD_MAX_PROD  = 3     # Quantidade limitada de cada produto \n",
      "        MAX_PRECO = 20    # Maior preço possível \n",
      "        MAX_VOL   = 10    # Maior volume possível\n",
      "Com uma média de execução 38.7679 segundos, oscilando entre 38.5214 e 39.0143 segundos, com a certeza de 99%\n"
     ]
    }
   ],
   "source": [
    "print('Afirma-se que o computador irá executar o Problema da Mochila com os seguintes parâmetros: \\n\\\n",
    "        CAP_MOC   = 30    # Capacidade da Mochila \\n\\\n",
    "        TAM_LOJA  = 10    # Tamanho da Loja (Variedade de Produtos) \\n\\\n",
    "        QTD_MAX_PROD  = 3     # Quantidade limitada de cada produto \\n\\\n",
    "        MAX_PRECO = 20    # Maior preço possível \\n\\\n",
    "        MAX_VOL   = 10    # Maior volume possível')\n",
    "print('Com uma média de execução %.4f segundos, oscilando entre %.4f e %.4f segundos, com a certeza de 99%c'\\\n",
    "        % (amostra_media, intervalo[0], intervalo[1], '%'))"
   ]
  },
  {
   "cell_type": "code",
   "execution_count": 32,
   "id": "b4536ba9",
   "metadata": {
    "id": "b4536ba9",
    "outputId": "0e071b2c-f044-4dfa-c9b3-a48f0e881fcf"
   },
   "outputs": [
    {
     "name": "stderr",
     "output_type": "stream",
     "text": [
      "No artists with labels found to put in legend.  Note that artists whose label start with an underscore are ignored when legend() is called with no argument.\n"
     ]
    },
    {
     "data": {
      "image/png": "[encoded data removed]",
      "text/plain": [
       "<Figure size 1000x700 with 1 Axes>"
      ]
     },
     "metadata": {},
     "output_type": "display_data"
    }
   ],
   "source": [
    "# Visualizando a disperção de Pontos da Amostra\n",
    "plt.figure(figsize=(10,7))\n",
    "plt.scatter([i for i in range(qtd_amost)], amostra, marker='.')\n",
    "plt.hlines(y=intervalo[0], xmin=0, xmax=qtd_amost, color='red', linestyles='dashed')\n",
    "plt.hlines(y=intervalo[1], xmin=0, xmax=qtd_amost, color='red', linestyles='dashed')\n",
    "plt.hlines(y=amostra_media, xmin=0, xmax=qtd_amost, color='black', linestyles='dashed')\n",
    "plt.title('Gráfico de Disperção de pontos da amostra')\n",
    "plt.legend()\n",
    "plt.grid()\n",
    "plt.show()"
   ]
  },
  {
   "cell_type": "code",
   "execution_count": null,
   "id": "cbd78dc5",
   "metadata": {
    "id": "cbd78dc5"
   },
   "outputs": [],
   "source": []
  }
 ],
 "metadata": {
  "colab": {
   "provenance": []
  },
  "kernelspec": {
   "display_name": "Python 3 (ipykernel)",
   "language": "python",
   "name": "python3"
  },
  "language_info": {
   "codemirror_mode": {
    "name": "ipython",
    "version": 3
   },
   "file_extension": ".py",
   "mimetype": "text/x-python",
   "name": "python",
   "nbconvert_exporter": "python",
   "pygments_lexer": "ipython3",
   "version": "3.11.3"
  }
 },
 "nbformat": 4,
 "nbformat_minor": 5
}
