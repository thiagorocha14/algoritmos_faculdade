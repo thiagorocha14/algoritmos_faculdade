{
 "cells": [
  {
   "attachments": {},
   "cell_type": "markdown",
   "metadata": {
    "collapsed": false
   },
   "source": [
    "# Problema da Caixeiro Viajante\n",
    "## Implementação Serial"
   ]
  },
  {
   "cell_type": "code",
   "execution_count": 1,
   "metadata": {
    "ExecuteTime": {
     "end_time": "2023-05-06T16:14:48.336083900Z",
     "start_time": "2023-05-06T16:14:46.574438400Z"
    },
    "collapsed": false
   },
   "outputs": [],
   "source": [
    "import time as t\n",
    "import matplotlib.pyplot as plt\n",
    "import numpy as np\n",
    "from scipy.stats import norm"
   ]
  },
  {
   "cell_type": "code",
   "execution_count": 2,
   "id": "c1aff8d5",
   "metadata": {
    "ExecuteTime": {
     "end_time": "2023-05-06T16:18:35.800169300Z",
     "start_time": "2023-05-06T16:18:35.778070600Z"
    },
    "colab": {
     "base_uri": "https://localhost:8080/"
    },
    "id": "c1aff8d5",
    "outputId": "85544579-d0ad-436b-baf8-3dbb59f1f2b3"
   },
   "outputs": [
    {
     "name": "stdout",
     "output_type": "stream",
     "text": [
      "Overwriting caixeiro_serial_unificado.py\n"
     ]
    }
   ],
   "source": [
    "%%writefile caixeiro_serial_unificado.py\n",
    "# Importação das bibliotecas\n",
    "import random\n",
    "import sys\n",
    "\n",
    "# CONSTANTES DEFINIDAS NA EXECUÇÃO\n",
    "QTD_CIDADES   = int(sys.argv[1])\n",
    "DIST_MIN      = int(sys.argv[2])\n",
    "DIST_MAX      = int(sys.argv[3])\n",
    "\n",
    "\n",
    "def gerar_combinacoes(qtd_cidades, matriz):\n",
    "    lista_inicial = list(range(1, qtd_cidades))\n",
    "    combinacoes = permutacoes_calculada(lista_inicial, qtd_cidades, matriz)\n",
    "    # combinacoes = permutacoes(lista_inicial)\n",
    "    return combinacoes\n",
    "\n",
    "def permutacoes(lista):\n",
    "    if (len(lista) == 0):\n",
    "      return[[]]\n",
    "    combinacoes = []\n",
    "    for i in range(len(lista)):\n",
    "      valor_atual = lista[i]\n",
    "      lista_pendente = lista[:i]+lista[i+1:]\n",
    "      lista_permutacoes = permutacoes(lista_pendente)\n",
    "      for permutacao in lista_permutacoes:\n",
    "        combinacoes.append([valor_atual]+permutacao)\n",
    "    return combinacoes\n",
    "\n",
    "def permutacoes_calculada(lista, qtd_cidades, matriz):\n",
    "    if (len(lista) == 0):\n",
    "      return[[]]\n",
    "    combinacoes = []\n",
    "    melhor_comb = []\n",
    "    melhor_custo = 0\n",
    "    for i in range(len(lista)):\n",
    "      valor_atual = lista[i]\n",
    "      lista_pendente = lista[:i]+lista[i+1:]\n",
    "      lista_permutacoes = permutacoes(lista_pendente)\n",
    "      for permutacao in lista_permutacoes:\n",
    "        combinacao = [valor_atual]+permutacao\n",
    "        if (len(combinacao) == qtd_cidades-1):\n",
    "          custo = calcular_custo(combinacao, matriz)\n",
    "          if (custo < melhor_custo or melhor_custo == 0):\n",
    "            melhor_custo = custo\n",
    "            combinacoes = []\n",
    "            combinacoes.append([combinacao, custo])\n",
    "        else:\n",
    "          combinacoes.append(combinacao)\n",
    "    return combinacoes\n",
    "\n",
    "def calcular_custo(comb, custo):\n",
    "    valor = 0\n",
    "    cidade_atual = 0\n",
    "    comb.append(0)\n",
    "    for cidade in comb:\n",
    "      valor += custo[cidade_atual][cidade]\n",
    "      cidade_atual = cidade\n",
    "    comb.insert(0, 0)\n",
    "    return valor\n",
    "\n",
    "# Função geradora do custo (Matriz de Custo)\n",
    "def gerar_matriz_distancia(qtd_cidades, dist_min, dist_max):\n",
    "    random.seed(12)\n",
    "    matriz_distancia = [[0 for x in range(qtd_cidades)] for y in range(qtd_cidades)]\n",
    "    for cid_origem in range(qtd_cidades):\n",
    "        for cid_destino in range(qtd_cidades):\n",
    "            if cid_origem < cid_destino:\n",
    "                valor = random.randint(dist_min, dist_max)\n",
    "                matriz_distancia[cid_origem][cid_destino] = (valor)\n",
    "                matriz_distancia[cid_destino][cid_origem] = (valor)\n",
    "            else:\n",
    "                matriz_distancia[cid_origem][cid_origem] = 0\n",
    "    return matriz_distancia\n",
    "\n",
    "\n",
    "def main():\n",
    "    # Gerando a Matriz de distancia\n",
    "    print('----------MATRIZ----------')\n",
    "    matriz = gerar_matriz_distancia(QTD_CIDADES, DIST_MIN, DIST_MAX)\n",
    "    print(\" \", end = \"  \")\n",
    "    for x in range(0, QTD_CIDADES):\n",
    "        print(x, end = \"  \")\n",
    "\n",
    "    print()\n",
    "    for index, valores in enumerate(matriz):\n",
    "      print(index, valores)\n",
    "\n",
    "    #print('----------COMBINACOES----------')\n",
    "    combinacoes = gerar_combinacoes(QTD_CIDADES, matriz)\n",
    "\n",
    "    print()\n",
    "    print('----------MELHOR COMBINACAO----------')\n",
    "    for combinacao in combinacoes:\n",
    "      print('Combinação:', combinacao[0], 'Valor:', combinacao[1])\n",
    "\n",
    "if __name__ == '__main__':\n",
    "    main()"
   ]
  },
  {
   "attachments": {},
   "cell_type": "markdown",
   "id": "8e632d34",
   "metadata": {
    "id": "8e632d34"
   },
   "source": [
    "## Teste do código serial com passagem de parâmetros"
   ]
  },
  {
   "cell_type": "code",
   "execution_count": 2,
   "id": "f11e99d5",
   "metadata": {
    "ExecuteTime": {
     "end_time": "2023-05-06T16:19:12.885083500Z",
     "start_time": "2023-05-06T16:19:12.834470Z"
    },
    "colab": {
     "base_uri": "https://localhost:8080/"
    },
    "id": "f11e99d5",
    "outputId": "f7c02d42-93ba-439c-fcf4-1b9423813d91",
    "scrolled": false
   },
   "outputs": [
    {
     "name": "stdout",
     "output_type": "stream",
     "text": [
      "----------MATRIZ----------\n",
      "   0  1  2  3  4  5  \n",
      "0 [0, 9, 6, 7, 4, 8]\n",
      "1 [9, 0, 2, 7, 9, 6]\n",
      "2 [6, 2, 0, 9, 5, 2]\n",
      "3 [7, 7, 9, 0, 4, 9]\n",
      "4 [4, 9, 5, 4, 0, 7]\n",
      "5 [8, 6, 2, 9, 7, 0]\n",
      "\n",
      "----------MELHOR COMBINACAO----------\n",
      "Combinação: [0, 4, 3, 1, 2, 5, 0] Valor: 27\n"
     ]
    }
   ],
   "source": [
    "# Teste QTD_CIDADES, DIST_MIN, DIST_MAX\n",
    "!python caixeiro_serial_unificado.py 6 2 9"
   ]
  },
  {
   "attachments": {},
   "cell_type": "markdown",
   "id": "82a4192a",
   "metadata": {
    "id": "82a4192a"
   },
   "source": [
    "## Definição de constantes"
   ]
  },
  {
   "cell_type": "code",
   "execution_count": 4,
   "id": "8bc23242",
   "metadata": {
    "id": "8bc23242"
   },
   "outputs": [],
   "source": [
    "QTD_CIDADES   = 8\n",
    "DIST_MIN      = 2\n",
    "DIST_MAX      = 9"
   ]
  },
  {
   "attachments": {},
   "cell_type": "markdown",
   "id": "003e5699",
   "metadata": {
    "id": "003e5699"
   },
   "source": [
    "## Fazendo testes de complexidade \n",
    "### <font color='Red'>(Execução Demorada!)</font>"
   ]
  },
  {
   "cell_type": "code",
   "execution_count": 5,
   "id": "73ec4fc5",
   "metadata": {
    "id": "73ec4fc5"
   },
   "outputs": [
    {
     "name": "stdout",
     "output_type": "stream",
     "text": [
      "[(5, 0.0911111831665039), (6, 0.07757210731506348), (7, 0.07737874984741211), (8, 0.07715368270874023)]\n",
      "[(6, 0.8200006484985352), (7, 0.6981489658355713), (8, 0.696408748626709), (9, 0.6943831443786621)]\n"
     ]
    }
   ],
   "source": [
    "# Teste de estresse\n",
    "tempo_exec=[]\n",
    "tempo_teorico=[]\n",
    "for i in range(5, QTD_CIDADES+1):\n",
    "    tempo_atual = t.time()\n",
    "    # Teste QTD_CIDADES, DIST_MIN, DIST_MAX\n",
    "    string = 'python caixeiro_serial_unificado.py '+str(QTD_CIDADES)+' '+str(DIST_MIN)+' '+\\\n",
    "                str(DIST_MAX)+' > NUL' #Jogando a saida para null para não poluir o terminal\n",
    "    !$string\n",
    "    tempo_final = t.time()\n",
    "    tempo_final -= tempo_atual\n",
    "    tempo_exec.append((i,tempo_final))\n",
    "    #Comparando os resultados com os valores de f(i) = 2*f(i-1)\n",
    "    tempo_teorico.append((i+1, tempo_final*DIST_MAX))\n",
    "print(tempo_exec)\n",
    "print(tempo_teorico)"
   ]
  },
  {
   "attachments": {},
   "cell_type": "markdown",
   "id": "61739565",
   "metadata": {
    "id": "61739565"
   },
   "source": [
    "## Gráfico de complexidade X Tamanho da Loja"
   ]
  },
  {
   "cell_type": "code",
   "execution_count": 6,
   "id": "6d2b0bd6",
   "metadata": {
    "id": "6d2b0bd6",
    "outputId": "046c4fd8-68da-4e26-e5da-ab3a41be4b45"
   },
   "outputs": [
    {
     "data": {
      "image/png": "[encoded data removed]",
      "text/plain": [
       "<Figure size 1000x700 with 1 Axes>"
      ]
     },
     "metadata": {},
     "output_type": "display_data"
    }
   ],
   "source": [
    "plt.figure(figsize=(10,7))\n",
    "plt.plot([tempo_exec[i][0] for i in range(len(tempo_exec))], [tempo_exec[i][1] for i in range(len(tempo_exec))], label='Alg.Serial')\n",
    "plt.plot([tempo_teorico[i][0] for i in range(len(tempo_teorico)-1)], [tempo_teorico[i][1] for i in range(len(tempo_teorico)-1)], label='Previsto')\n",
    "plt.title('Tempo de execução')\n",
    "plt.xlabel('Tamanho da Lista')\n",
    "plt.ylabel('Segundos')\n",
    "plt.legend()\n",
    "plt.grid()\n",
    "plt.show()"
   ]
  },
  {
   "attachments": {},
   "cell_type": "markdown",
   "id": "d7fd2cf7",
   "metadata": {
    "id": "d7fd2cf7"
   },
   "source": [
    "## Fazendo testes com constantes definidas (1000 testes) \n",
    "### <font color='Red'>(Execução Demorada!)</font>\n",
    "### Novas constantes para os testes"
   ]
  },
  {
   "cell_type": "code",
   "execution_count": 7,
   "id": "f6bb23e2",
   "metadata": {
    "id": "f6bb23e2"
   },
   "outputs": [],
   "source": [
    "QTD_CIDADES   = 11\n",
    "DIST_MIN      = 2\n",
    "DIST_MAX      = 9"
   ]
  },
  {
   "cell_type": "code",
   "execution_count": 8,
   "id": "c5e66ce0",
   "metadata": {
    "id": "c5e66ce0"
   },
   "outputs": [],
   "source": [
    "TAM_POP   = 200  # Tamanho da População"
   ]
  },
  {
   "cell_type": "code",
   "execution_count": 9,
   "id": "744f820e",
   "metadata": {
    "id": "744f820e",
    "outputId": "dbb274fc-a74a-43ea-af8a-b160a83d03b3",
    "scrolled": true
   },
   "outputs": [
    {
     "name": "stdout",
     "output_type": "stream",
     "text": [
      "Execução: 0 - Tempo: 16.3420 seg.\n",
      "Execução: 1 - Tempo: 17.2674 seg.\n",
      "Execução: 2 - Tempo: 16.2327 seg.\n",
      "Execução: 3 - Tempo: 15.7520 seg.\n",
      "Execução: 4 - Tempo: 15.6691 seg.\n",
      "Execução: 5 - Tempo: 15.7175 seg.\n",
      "Execução: 6 - Tempo: 15.5648 seg.\n",
      "Execução: 7 - Tempo: 15.4681 seg.\n",
      "Execução: 8 - Tempo: 15.4561 seg.\n",
      "Execução: 9 - Tempo: 15.5488 seg.\n",
      "Execução: 10 - Tempo: 15.4396 seg.\n",
      "Execução: 11 - Tempo: 15.5263 seg.\n",
      "Execução: 12 - Tempo: 15.4911 seg.\n",
      "Execução: 13 - Tempo: 15.4678 seg.\n",
      "Execução: 14 - Tempo: 15.8885 seg.\n",
      "Execução: 15 - Tempo: 15.2103 seg.\n",
      "Execução: 16 - Tempo: 15.2176 seg.\n",
      "Execução: 17 - Tempo: 15.2129 seg.\n",
      "Execução: 18 - Tempo: 17.7944 seg.\n",
      "Execução: 19 - Tempo: 19.4391 seg.\n",
      "Execução: 20 - Tempo: 17.6645 seg.\n",
      "Execução: 21 - Tempo: 16.1742 seg.\n",
      "Execução: 22 - Tempo: 17.1524 seg.\n",
      "Execução: 23 - Tempo: 15.8292 seg.\n",
      "Execução: 24 - Tempo: 15.3025 seg.\n",
      "Execução: 25 - Tempo: 15.2319 seg.\n",
      "Execução: 26 - Tempo: 15.1123 seg.\n",
      "Execução: 27 - Tempo: 15.2637 seg.\n",
      "Execução: 28 - Tempo: 15.2113 seg.\n",
      "Execução: 29 - Tempo: 15.1736 seg.\n",
      "Execução: 30 - Tempo: 15.1900 seg.\n",
      "Execução: 31 - Tempo: 15.2954 seg.\n",
      "Execução: 32 - Tempo: 15.2494 seg.\n",
      "Execução: 33 - Tempo: 15.1843 seg.\n",
      "Execução: 34 - Tempo: 15.4678 seg.\n",
      "Execução: 35 - Tempo: 15.1777 seg.\n",
      "Execução: 36 - Tempo: 15.1169 seg.\n",
      "Execução: 37 - Tempo: 15.1069 seg.\n",
      "Execução: 38 - Tempo: 15.1942 seg.\n",
      "Execução: 39 - Tempo: 15.1125 seg.\n",
      "Execução: 40 - Tempo: 15.0986 seg.\n",
      "Execução: 41 - Tempo: 15.2630 seg.\n",
      "Execução: 42 - Tempo: 15.2070 seg.\n",
      "Execução: 43 - Tempo: 15.1399 seg.\n",
      "Execução: 44 - Tempo: 15.0715 seg.\n",
      "Execução: 45 - Tempo: 15.0955 seg.\n",
      "Execução: 46 - Tempo: 15.0643 seg.\n",
      "Execução: 47 - Tempo: 15.1357 seg.\n",
      "Execução: 48 - Tempo: 15.0673 seg.\n",
      "Execução: 49 - Tempo: 15.1647 seg.\n",
      "Execução: 50 - Tempo: 15.0781 seg.\n",
      "Execução: 51 - Tempo: 15.0568 seg.\n",
      "Execução: 52 - Tempo: 15.2309 seg.\n",
      "Execução: 53 - Tempo: 15.1157 seg.\n",
      "Execução: 54 - Tempo: 15.0878 seg.\n",
      "Execução: 55 - Tempo: 15.1014 seg.\n",
      "Execução: 56 - Tempo: 15.1357 seg.\n",
      "Execução: 57 - Tempo: 15.1510 seg.\n",
      "Execução: 58 - Tempo: 15.2706 seg.\n",
      "Execução: 59 - Tempo: 15.0965 seg.\n",
      "Execução: 60 - Tempo: 15.1269 seg.\n",
      "Execução: 61 - Tempo: 15.2054 seg.\n",
      "Execução: 62 - Tempo: 15.2114 seg.\n",
      "Execução: 63 - Tempo: 15.1786 seg.\n",
      "Execução: 64 - Tempo: 15.4922 seg.\n",
      "Execução: 65 - Tempo: 15.2362 seg.\n",
      "Execução: 66 - Tempo: 15.2514 seg.\n",
      "Execução: 67 - Tempo: 15.1471 seg.\n",
      "Execução: 68 - Tempo: 15.2912 seg.\n",
      "Execução: 69 - Tempo: 15.1102 seg.\n",
      "Execução: 70 - Tempo: 15.2388 seg.\n",
      "Execução: 71 - Tempo: 15.1273 seg.\n",
      "Execução: 72 - Tempo: 15.1451 seg.\n",
      "Execução: 73 - Tempo: 15.0834 seg.\n",
      "Execução: 74 - Tempo: 15.1487 seg.\n",
      "Execução: 75 - Tempo: 15.2602 seg.\n",
      "Execução: 76 - Tempo: 15.5514 seg.\n",
      "Execução: 77 - Tempo: 15.2311 seg.\n",
      "Execução: 78 - Tempo: 15.4573 seg.\n",
      "Execução: 79 - Tempo: 15.0575 seg.\n",
      "Execução: 80 - Tempo: 15.1063 seg.\n",
      "Execução: 81 - Tempo: 15.0325 seg.\n",
      "Execução: 82 - Tempo: 15.0076 seg.\n",
      "Execução: 83 - Tempo: 14.9617 seg.\n",
      "Execução: 84 - Tempo: 15.1546 seg.\n",
      "Execução: 85 - Tempo: 15.1854 seg.\n",
      "Execução: 86 - Tempo: 16.0299 seg.\n",
      "Execução: 87 - Tempo: 15.2201 seg.\n",
      "Execução: 88 - Tempo: 15.2494 seg.\n",
      "Execução: 89 - Tempo: 15.1107 seg.\n",
      "Execução: 90 - Tempo: 15.1824 seg.\n",
      "Execução: 91 - Tempo: 15.1254 seg.\n",
      "Execução: 92 - Tempo: 16.2335 seg.\n",
      "Execução: 93 - Tempo: 15.1877 seg.\n",
      "Execução: 94 - Tempo: 15.2893 seg.\n",
      "Execução: 95 - Tempo: 15.2601 seg.\n",
      "Execução: 96 - Tempo: 15.2458 seg.\n",
      "Execução: 97 - Tempo: 15.0986 seg.\n",
      "Execução: 98 - Tempo: 15.2034 seg.\n",
      "Execução: 99 - Tempo: 15.0822 seg.\n",
      "Execução: 100 - Tempo: 15.1428 seg.\n",
      "Execução: 101 - Tempo: 15.2725 seg.\n",
      "Execução: 102 - Tempo: 15.2641 seg.\n",
      "Execução: 103 - Tempo: 15.2284 seg.\n",
      "Execução: 104 - Tempo: 15.2066 seg.\n",
      "Execução: 105 - Tempo: 15.2630 seg.\n",
      "Execução: 106 - Tempo: 15.1500 seg.\n",
      "Execução: 107 - Tempo: 15.4111 seg.\n",
      "Execução: 108 - Tempo: 15.1845 seg.\n",
      "Execução: 109 - Tempo: 15.0925 seg.\n",
      "Execução: 110 - Tempo: 15.2312 seg.\n",
      "Execução: 111 - Tempo: 15.2048 seg.\n",
      "Execução: 112 - Tempo: 15.1416 seg.\n",
      "Execução: 113 - Tempo: 15.0058 seg.\n",
      "Execução: 114 - Tempo: 15.1550 seg.\n",
      "Execução: 115 - Tempo: 15.0040 seg.\n",
      "Execução: 116 - Tempo: 15.0754 seg.\n",
      "Execução: 117 - Tempo: 15.1440 seg.\n",
      "Execução: 118 - Tempo: 15.0516 seg.\n",
      "Execução: 119 - Tempo: 15.1654 seg.\n",
      "Execução: 120 - Tempo: 15.1676 seg.\n",
      "Execução: 121 - Tempo: 15.1615 seg.\n",
      "Execução: 122 - Tempo: 15.5266 seg.\n",
      "Execução: 123 - Tempo: 15.0622 seg.\n",
      "Execução: 124 - Tempo: 15.0724 seg.\n",
      "Execução: 125 - Tempo: 15.1428 seg.\n",
      "Execução: 126 - Tempo: 15.1560 seg.\n",
      "Execução: 127 - Tempo: 15.1269 seg.\n",
      "Execução: 128 - Tempo: 15.1127 seg.\n",
      "Execução: 129 - Tempo: 15.1340 seg.\n",
      "Execução: 130 - Tempo: 15.0447 seg.\n",
      "Execução: 131 - Tempo: 15.0865 seg.\n",
      "Execução: 132 - Tempo: 15.2041 seg.\n",
      "Execução: 133 - Tempo: 15.2932 seg.\n",
      "Execução: 134 - Tempo: 15.2182 seg.\n",
      "Execução: 135 - Tempo: 15.2970 seg.\n",
      "Execução: 136 - Tempo: 15.1431 seg.\n",
      "Execução: 137 - Tempo: 15.1396 seg.\n",
      "Execução: 138 - Tempo: 15.3832 seg.\n",
      "Execução: 139 - Tempo: 15.0783 seg.\n",
      "Execução: 140 - Tempo: 15.3383 seg.\n",
      "Execução: 141 - Tempo: 15.1342 seg.\n",
      "Execução: 142 - Tempo: 15.1118 seg.\n",
      "Execução: 143 - Tempo: 15.1161 seg.\n",
      "Execução: 144 - Tempo: 15.0446 seg.\n",
      "Execução: 145 - Tempo: 15.1840 seg.\n",
      "Execução: 146 - Tempo: 15.0731 seg.\n",
      "Execução: 147 - Tempo: 15.0978 seg.\n",
      "Execução: 148 - Tempo: 15.4861 seg.\n",
      "Execução: 149 - Tempo: 15.0508 seg.\n",
      "Execução: 150 - Tempo: 16.4752 seg.\n",
      "Execução: 151 - Tempo: 15.1540 seg.\n",
      "Execução: 152 - Tempo: 15.1087 seg.\n",
      "Execução: 153 - Tempo: 15.1737 seg.\n",
      "Execução: 154 - Tempo: 15.0123 seg.\n",
      "Execução: 155 - Tempo: 15.1464 seg.\n",
      "Execução: 156 - Tempo: 15.4369 seg.\n",
      "Execução: 157 - Tempo: 15.0568 seg.\n",
      "Execução: 158 - Tempo: 14.9932 seg.\n",
      "Execução: 159 - Tempo: 15.2524 seg.\n",
      "Execução: 160 - Tempo: 15.0772 seg.\n",
      "Execução: 161 - Tempo: 15.0711 seg.\n",
      "Execução: 162 - Tempo: 15.0566 seg.\n",
      "Execução: 163 - Tempo: 14.9984 seg.\n",
      "Execução: 164 - Tempo: 15.0600 seg.\n",
      "Execução: 165 - Tempo: 16.4486 seg.\n",
      "Execução: 166 - Tempo: 15.0690 seg.\n",
      "Execução: 167 - Tempo: 15.0529 seg.\n",
      "Execução: 168 - Tempo: 14.9945 seg.\n",
      "Execução: 169 - Tempo: 15.0699 seg.\n",
      "Execução: 170 - Tempo: 15.1189 seg.\n",
      "Execução: 171 - Tempo: 15.0733 seg.\n",
      "Execução: 172 - Tempo: 14.9910 seg.\n",
      "Execução: 173 - Tempo: 15.0134 seg.\n",
      "Execução: 174 - Tempo: 15.0671 seg.\n",
      "Execução: 175 - Tempo: 15.2684 seg.\n",
      "Execução: 176 - Tempo: 15.1492 seg.\n",
      "Execução: 177 - Tempo: 15.0428 seg.\n",
      "Execução: 178 - Tempo: 15.0678 seg.\n",
      "Execução: 179 - Tempo: 15.0599 seg.\n",
      "Execução: 180 - Tempo: 15.1338 seg.\n",
      "Execução: 181 - Tempo: 14.9596 seg.\n",
      "Execução: 182 - Tempo: 14.9909 seg.\n",
      "Execução: 183 - Tempo: 14.9682 seg.\n",
      "Execução: 184 - Tempo: 14.8788 seg.\n",
      "Execução: 185 - Tempo: 15.0289 seg.\n",
      "Execução: 186 - Tempo: 14.9325 seg.\n",
      "Execução: 187 - Tempo: 15.3868 seg.\n",
      "Execução: 188 - Tempo: 14.9510 seg.\n",
      "Execução: 189 - Tempo: 14.9599 seg.\n",
      "Execução: 190 - Tempo: 15.0289 seg.\n",
      "Execução: 191 - Tempo: 15.0384 seg.\n",
      "Execução: 192 - Tempo: 15.0097 seg.\n",
      "Execução: 193 - Tempo: 14.9903 seg.\n",
      "Execução: 194 - Tempo: 15.0586 seg.\n",
      "Execução: 195 - Tempo: 15.1615 seg.\n",
      "Execução: 196 - Tempo: 15.1040 seg.\n",
      "Execução: 197 - Tempo: 15.3496 seg.\n",
      "Execução: 198 - Tempo: 15.0772 seg.\n",
      "Execução: 199 - Tempo: 14.9475 seg.\n"
     ]
    }
   ],
   "source": [
    "# Teste de estresse 2\n",
    "tempo_exec2=[]\n",
    "for i in range(TAM_POP):\n",
    "    tempo_atual = t.time()\n",
    "    # Teste CAP_MOC, TAM_LOJA, QTD_MAX_PROD, MAX_PRECO, MAX_VOL\n",
    "    string = 'python caixeiro_serial_unificado.py '+str(QTD_CIDADES)+' '+str(DIST_MIN)+' '+str(DIST_MAX)+' > NUL' #Jogando a saida para null para não poluir o terminal\n",
    "    !$string\n",
    "    tempo_final = t.time()\n",
    "    tempo_final -= tempo_atual\n",
    "    tempo_exec2.append((i,tempo_final))\n",
    "    print('Execução: %d - Tempo: %.4f seg.' %(i, tempo_final))\n",
    "#print(tempo_exec2)"
   ]
  },
  {
   "attachments": {},
   "cell_type": "markdown",
   "id": "5cf849e8",
   "metadata": {
    "id": "5cf849e8"
   },
   "source": [
    "## Transfomando dados para 'numpy' para uso estatístico\n",
    "<H3><font color='Red'>Só rodar se a célula anterior for executada</font></H3>"
   ]
  },
  {
   "cell_type": "code",
   "execution_count": 10,
   "id": "27ee2c42",
   "metadata": {
    "id": "27ee2c42"
   },
   "outputs": [],
   "source": [
    "tempo_exec2 = np.array(tempo_exec2)\n",
    "np.savetxt('dataset_single_core.txt', tempo_exec2, fmt='%f')\n",
    "#tempo_exec2"
   ]
  },
  {
   "attachments": {},
   "cell_type": "markdown",
   "id": "31926de0",
   "metadata": {
    "id": "31926de0"
   },
   "source": [
    "# Análise Estatística"
   ]
  },
  {
   "attachments": {},
   "cell_type": "markdown",
   "id": "21c6d555",
   "metadata": {
    "id": "21c6d555"
   },
   "source": [
    "## Leitura do Dataset"
   ]
  },
  {
   "cell_type": "code",
   "execution_count": 11,
   "id": "11eacd01",
   "metadata": {
    "id": "11eacd01"
   },
   "outputs": [],
   "source": [
    "# Lendo o dataset armazenado\n",
    "tempo_exec2 = np.loadtxt('dataset_single_core.txt', dtype = float)"
   ]
  },
  {
   "attachments": {},
   "cell_type": "markdown",
   "id": "56986b80",
   "metadata": {
    "id": "56986b80"
   },
   "source": [
    "## Gráfico de disperção no tempo de execução"
   ]
  },
  {
   "cell_type": "code",
   "execution_count": 12,
   "id": "4acbad92",
   "metadata": {
    "id": "4acbad92",
    "outputId": "48264590-021c-469f-a748-fd6d2276b96b",
    "scrolled": false
   },
   "outputs": [
    {
     "data": {
      "image/png": "[encoded data removed]",
      "text/plain": [
       "<Figure size 1000x700 with 1 Axes>"
      ]
     },
     "metadata": {},
     "output_type": "display_data"
    }
   ],
   "source": [
    "plt.figure(figsize=(10,7))\n",
    "plt.scatter(tempo_exec2[:,0], tempo_exec2[:,1], label='Alg.Serial')\n",
    "plt.title('Tempo de execução')\n",
    "plt.xlabel('Tamanho da Lista')\n",
    "plt.ylabel('Segundos')\n",
    "plt.legend()\n",
    "plt.grid()\n",
    "plt.show()"
   ]
  },
  {
   "attachments": {},
   "cell_type": "markdown",
   "id": "ec97e55f",
   "metadata": {
    "id": "ec97e55f"
   },
   "source": [
    "## Cálculo de valores centrais:\n",
    "### (Média, Mediana, Moda)"
   ]
  },
  {
   "cell_type": "code",
   "execution_count": 13,
   "id": "f4aa3e09",
   "metadata": {
    "id": "f4aa3e09",
    "outputId": "539e6bf2-c1b1-4a67-a248-047040c33b09"
   },
   "outputs": [
    {
     "name": "stdout",
     "output_type": "stream",
     "text": [
      "Tempo médio de execução 15.2858\n"
     ]
    }
   ],
   "source": [
    "# Média\n",
    "tempo_exec2_media = tempo_exec2[:,1].mean()\n",
    "print('Tempo médio de execução %.4f' %tempo_exec2_media)"
   ]
  },
  {
   "cell_type": "code",
   "execution_count": 14,
   "id": "f4dfb71d",
   "metadata": {
    "id": "f4dfb71d",
    "outputId": "c8a3b610-4b68-4944-826f-8ff5ecac85ec"
   },
   "outputs": [
    {
     "name": "stdout",
     "output_type": "stream",
     "text": [
      "Desvio padrão 0.5045\n"
     ]
    }
   ],
   "source": [
    "# Desvio Padrão\n",
    "tempo_exec2_std = tempo_exec2[:,1].std()\n",
    "print('Desvio padrão %.4f' %tempo_exec2_std)"
   ]
  },
  {
   "cell_type": "code",
   "execution_count": 15,
   "id": "61d1f0d2",
   "metadata": {
    "id": "61d1f0d2",
    "outputId": "1baa1b84-0a82-4248-fed8-8af24094133f"
   },
   "outputs": [
    {
     "name": "stdout",
     "output_type": "stream",
     "text": [
      "Tempo mediano de execuçao 15.1496\n"
     ]
    }
   ],
   "source": [
    "# Médiana\n",
    "tempo_exec2_mediana = np.median(tempo_exec2[:,1])\n",
    "print('Tempo mediano de execuçao %.4f' %tempo_exec2_mediana)"
   ]
  },
  {
   "attachments": {},
   "cell_type": "markdown",
   "id": "d3118d96",
   "metadata": {
    "id": "d3118d96"
   },
   "source": [
    "## Análise Frequências"
   ]
  },
  {
   "attachments": {},
   "cell_type": "markdown",
   "id": "7ad8a0ae",
   "metadata": {
    "id": "7ad8a0ae"
   },
   "source": [
    "Não é possivel calcular a moda de uma população de valores numéricos contínuos. Neste caso podemos aplicar a **Regra de Sturges** para calcular a frequência da distribuição da amostra.\n",
    "$$k = 1 + \\frac {10}{3}\\log_{10}n$$"
   ]
  },
  {
   "cell_type": "code",
   "execution_count": 16,
   "id": "4a45960d",
   "metadata": {
    "id": "4a45960d",
    "outputId": "119f5579-5fde-4f25-c340-0d7847a2bd10"
   },
   "outputs": [
    {
     "name": "stdout",
     "output_type": "stream",
     "text": [
      "Tamanho da Amostra: 9\n"
     ]
    }
   ],
   "source": [
    "# Cálculo do intervalo de freqûencia: n = Tamanho da Amostra\n",
    "n = tempo_exec2.shape[0]\n",
    "k = 1 + (10/3)*np.log10(n)\n",
    "k = int(k.round(0))\n",
    "print(f'Tamanho da Amostra: {k}')"
   ]
  },
  {
   "cell_type": "code",
   "execution_count": 17,
   "id": "030b4e11",
   "metadata": {
    "id": "030b4e11",
    "outputId": "970630a1-a7cb-4c76-8985-2855530a83a7"
   },
   "outputs": [
    {
     "name": "stdout",
     "output_type": "stream",
     "text": [
      "(array([166,  22,   5,   2,   2,   2,   0,   0,   1], dtype=int64), array([14.878818  , 15.38551744, 15.89221689, 16.39891633, 16.90561578,\n",
      "       17.41231522, 17.91901467, 18.42571411, 18.93241356, 19.439113  ]))\n"
     ]
    }
   ],
   "source": [
    "# Coletando a frequência\n",
    "tempo_exec2_freq = np.histogram(tempo_exec2[:,1], bins= k)\n",
    "print(tempo_exec2_freq)"
   ]
  },
  {
   "cell_type": "code",
   "execution_count": 18,
   "id": "32b34e73",
   "metadata": {
    "id": "32b34e73",
    "outputId": "9b1511f6-42e5-4757-be63-437e831cf577"
   },
   "outputs": [
    {
     "name": "stderr",
     "output_type": "stream",
     "text": [
      "No artists with labels found to put in legend.  Note that artists whose label start with an underscore are ignored when legend() is called with no argument.\n"
     ]
    },
    {
     "data": {
      "image/png": "[encoded data removed]",
      "text/plain": [
       "<Figure size 1000x700 with 1 Axes>"
      ]
     },
     "metadata": {},
     "output_type": "display_data"
    }
   ],
   "source": [
    "plt.figure(figsize=(10,7))\n",
    "plt.hist(tempo_exec2[:,1], bins = k)\n",
    "plt.title('Histograma do Tempo de Execução')\n",
    "plt.ylabel('Frequência')\n",
    "plt.xlabel('Segundos')\n",
    "plt.legend()\n",
    "plt.grid()\n",
    "plt.show()"
   ]
  },
  {
   "attachments": {},
   "cell_type": "markdown",
   "id": "a042632d",
   "metadata": {
    "id": "a042632d"
   },
   "source": [
    "### **Verificando a possbilidade de dados OUTLIERS**\n",
    "**Medidas Separatrizes**: Quartis"
   ]
  },
  {
   "cell_type": "code",
   "execution_count": 19,
   "id": "967fb3b4",
   "metadata": {
    "id": "967fb3b4",
    "outputId": "a4844b00-e20c-436d-b032-53e6358ff8ea"
   },
   "outputs": [
    {
     "name": "stderr",
     "output_type": "stream",
     "text": [
      "No artists with labels found to put in legend.  Note that artists whose label start with an underscore are ignored when legend() is called with no argument.\n"
     ]
    },
    {
     "data": {
      "image/png": "[encoded data removed]",
      "text/plain": [
       "<Figure size 1000x700 with 1 Axes>"
      ]
     },
     "metadata": {},
     "output_type": "display_data"
    }
   ],
   "source": [
    "# Gráfico BoxPlot\n",
    "plt.figure(figsize=(10,7))\n",
    "plt.boxplot(tempo_exec2[:,1], vert = False)\n",
    "plt.title('Quartis do Tempo de Execução')\n",
    "plt.ylabel('Frequência')\n",
    "plt.xlabel('Segundos')\n",
    "plt.legend()\n",
    "plt.grid()\n",
    "plt.show()"
   ]
  },
  {
   "attachments": {},
   "cell_type": "markdown",
   "id": "e8b90a1e",
   "metadata": {
    "id": "e8b90a1e"
   },
   "source": [
    "### **Removendo dados \"extremos\" - Outliers**\n",
    "#### <font color='Red'> Ajustar os valores antes de executar </font>"
   ]
  },
  {
   "cell_type": "code",
   "execution_count": 20,
   "id": "5bf0fd52",
   "metadata": {
    "id": "5bf0fd52",
    "outputId": "cc23863a-0df5-4815-ef88-9d2dc948a6be",
    "scrolled": true
   },
   "outputs": [
    {
     "name": "stdout",
     "output_type": "stream",
     "text": [
      "Nº de registros originais: 200\n",
      "Qtd. de registros removidos: 8\n",
      "Registros removidos: [0, 1, 18, 19, 20, 22, 150, 165]\n",
      "Nº de registros corrigidos: 192\n",
      "[[ 2.       16.232727]\n",
      " [ 3.       15.751999]\n",
      " [ 4.       15.669103]\n",
      " [ 5.       15.717508]\n",
      " [ 6.       15.564827]\n",
      " [ 7.       15.46811 ]\n",
      " [ 8.       15.456142]\n",
      " [ 9.       15.548783]\n",
      " [10.       15.43963 ]\n",
      " [11.       15.526274]\n",
      " [12.       15.491144]\n",
      " [13.       15.467816]\n",
      " [14.       15.888491]\n",
      " [15.       15.210313]\n",
      " [16.       15.217582]]\n"
     ]
    }
   ],
   "source": [
    "# Remover valores da lista\n",
    "int_sup = tempo_exec2_media + (2 * tempo_exec2_std)\n",
    "int_inf = tempo_exec2_media - (2 * tempo_exec2_std)\n",
    "print(f'Nº de registros originais: {tempo_exec2.shape[0]}')\n",
    "registros = []\n",
    "for i in range(tempo_exec2.shape[0]):\n",
    "        if int_inf > tempo_exec2[i, 1] or tempo_exec2[i, 1] > int_sup:\n",
    "            registros.append(i)\n",
    "print(f'Qtd. de registros removidos: {len(registros)}')\n",
    "print(f'Registros removidos: {registros}')\n",
    "tempo_exec2 = np.delete(tempo_exec2, registros, 0)\n",
    "print(f'Nº de registros corrigidos: {tempo_exec2.shape[0]}')\n",
    "print(tempo_exec2[0:15])"
   ]
  },
  {
   "attachments": {},
   "cell_type": "markdown",
   "id": "c07cfd4f",
   "metadata": {
    "id": "c07cfd4f"
   },
   "source": [
    "### Salvando os registros corrigidos"
   ]
  },
  {
   "cell_type": "code",
   "execution_count": 21,
   "id": "b84892f2",
   "metadata": {
    "id": "b84892f2"
   },
   "outputs": [],
   "source": [
    "np.savetxt('dataset_single_core_corrigido.txt', tempo_exec2, fmt='%f')"
   ]
  },
  {
   "cell_type": "code",
   "execution_count": 22,
   "id": "6b69d13a",
   "metadata": {
    "id": "6b69d13a",
    "outputId": "c5a75713-92e2-45e4-d0d3-6a8bb8f62d06"
   },
   "outputs": [
    {
     "name": "stdout",
     "output_type": "stream",
     "text": [
      "Tempo médio de execução 15.200943\n"
     ]
    }
   ],
   "source": [
    "# Média\n",
    "tempo_exec2_media = tempo_exec2[:,1].mean()\n",
    "print('Tempo médio de execução %f' %tempo_exec2_media)"
   ]
  },
  {
   "cell_type": "code",
   "execution_count": 23,
   "id": "9be0ccae",
   "metadata": {
    "id": "9be0ccae",
    "outputId": "df0d77b4-e47f-4245-fbc5-7202fe584704"
   },
   "outputs": [
    {
     "name": "stdout",
     "output_type": "stream",
     "text": [
      "Desvio padrão 0.2168\n"
     ]
    }
   ],
   "source": [
    "# Desvio Padrão\n",
    "tempo_exec2_std = tempo_exec2[:,1].std()\n",
    "print('Desvio padrão %.4f' %tempo_exec2_std)"
   ]
  },
  {
   "cell_type": "code",
   "execution_count": 24,
   "id": "c9c86821",
   "metadata": {
    "id": "c9c86821",
    "outputId": "d0a56a4e-6543-4d2e-d998-b31f70f39991"
   },
   "outputs": [
    {
     "name": "stdout",
     "output_type": "stream",
     "text": [
      "Tempo mediano de execuçao 15.1457\n"
     ]
    }
   ],
   "source": [
    "# Médiana\n",
    "tempo_exec2_mediana = np.median(tempo_exec2[:,1])\n",
    "print('Tempo mediano de execuçao %.4f' %tempo_exec2_mediana)"
   ]
  },
  {
   "attachments": {},
   "cell_type": "markdown",
   "id": "5a6abe11",
   "metadata": {
    "id": "5a6abe11"
   },
   "source": [
    "## Estatística - DISTRIBUIÇÕES DE PROBABILIDADE\n",
    "\n",
    "### Distribuição Normal\n",
    "\n",
    "#### Amostra (Média da População)"
   ]
  },
  {
   "cell_type": "code",
   "execution_count": 25,
   "id": "299c92e2",
   "metadata": {
    "id": "299c92e2"
   },
   "outputs": [],
   "source": [
    "# Parâmetros para uma media de amostragens\n",
    "tam_amost = 50\n",
    "qtd_amost = 200"
   ]
  },
  {
   "cell_type": "code",
   "execution_count": 26,
   "id": "1afa0264",
   "metadata": {
    "id": "1afa0264"
   },
   "outputs": [],
   "source": [
    "# Obtendo a media de amostragens\n",
    "amostra = []\n",
    "for i in range(qtd_amost):\n",
    "    amostra.append(np.random.choice(tempo_exec2[:,1], tam_amost).mean())\n",
    "amostra = np.array(amostra)"
   ]
  },
  {
   "cell_type": "code",
   "execution_count": 27,
   "id": "43f58fb4",
   "metadata": {
    "id": "43f58fb4",
    "outputId": "9ad16ecb-8a81-43a9-d4ab-f04ee6fffd0e"
   },
   "outputs": [
    {
     "name": "stdout",
     "output_type": "stream",
     "text": [
      "** Valores Centrais da Amostra **\n",
      "Média da amostra:       15.2016\n",
      "Desv.Padrão da amostra: 0.0291\n",
      "Mediana da amostra:     15.2027\n"
     ]
    }
   ],
   "source": [
    "# Valores Centrais da amostragem\n",
    "amostra_media   = amostra.mean()\n",
    "amostra_std     = amostra.std()\n",
    "amostra_mediana = np.median(amostra)\n",
    "print('** Valores Centrais da Amostra **')\n",
    "print('Média da amostra:       %.4f' %amostra_media)\n",
    "print('Desv.Padrão da amostra: %.4f' %amostra_std)\n",
    "print('Mediana da amostra:     %.4f' %amostra_mediana)"
   ]
  },
  {
   "cell_type": "code",
   "execution_count": 28,
   "id": "a0bf1d89",
   "metadata": {
    "id": "a0bf1d89",
    "outputId": "81f4d6f6-8ef1-42f4-9f3a-54ff5e458aee"
   },
   "outputs": [
    {
     "data": {
      "text/plain": [
       "0.0307"
      ]
     },
     "execution_count": 28,
     "metadata": {},
     "output_type": "execute_result"
    }
   ],
   "source": [
    "# Desvio Padrão de inferência calculado\n",
    "round(tempo_exec2_std / np.sqrt(tam_amost),4)"
   ]
  },
  {
   "cell_type": "code",
   "execution_count": 29,
   "id": "b2fe497f",
   "metadata": {
    "id": "b2fe497f",
    "outputId": "49cce5e5-d7d3-4d80-da46-49c4a3f4ae5b"
   },
   "outputs": [
    {
     "name": "stderr",
     "output_type": "stream",
     "text": [
      "No artists with labels found to put in legend.  Note that artists whose label start with an underscore are ignored when legend() is called with no argument.\n"
     ]
    },
    {
     "data": {
      "image/png": "[encoded data removed]",
      "text/plain": [
       "<Figure size 1000x700 with 1 Axes>"
      ]
     },
     "metadata": {},
     "output_type": "display_data"
    }
   ],
   "source": [
    "# Visualizando a amostra:\n",
    "plt.figure(figsize=(10,7))\n",
    "plt.hist(amostra, bins = k)\n",
    "plt.title('Histograma do Tempo de Execução')\n",
    "plt.ylabel('Frequência')\n",
    "plt.xlabel('Segundos')\n",
    "plt.legend()\n",
    "plt.grid()\n",
    "plt.show()"
   ]
  },
  {
   "cell_type": "code",
   "execution_count": 30,
   "id": "fe3e10b2",
   "metadata": {
    "id": "fe3e10b2"
   },
   "outputs": [
    {
     "name": "stderr",
     "output_type": "stream",
     "text": [
      "C:\\Users\\Thiago\\AppData\\Local\\Temp\\ipykernel_16200\\3257524375.py:2: DeprecationWarning: Use of keyword argument 'alpha' for method 'interval' is deprecated and wil be removed in SciPy 1.11.0. Use first positional argument or keyword argument 'confidence' instead.\n",
      "  intervalo = norm.interval(alpha = 0.99, loc = amostra_media, scale = amostra_std)\n"
     ]
    }
   ],
   "source": [
    "# Considerando a confiança de 99%\n",
    "intervalo = norm.interval(alpha = 0.99, loc = amostra_media, scale = amostra_std)"
   ]
  },
  {
   "cell_type": "code",
   "execution_count": 32,
   "id": "b4536ba9",
   "metadata": {
    "id": "b4536ba9",
    "outputId": "0e071b2c-f044-4dfa-c9b3-a48f0e881fcf"
   },
   "outputs": [
    {
     "name": "stderr",
     "output_type": "stream",
     "text": [
      "No artists with labels found to put in legend.  Note that artists whose label start with an underscore are ignored when legend() is called with no argument.\n"
     ]
    },
    {
     "data": {
      "image/png": "[encoded data removed]",
      "text/plain": [
       "<Figure size 1000x700 with 1 Axes>"
      ]
     },
     "metadata": {},
     "output_type": "display_data"
    }
   ],
   "source": [
    "# Visualizando a disperção de Pontos da Amostra\n",
    "plt.figure(figsize=(10,7))\n",
    "plt.scatter([i for i in range(qtd_amost)], amostra, marker='.')\n",
    "plt.hlines(y=intervalo[0], xmin=0, xmax=qtd_amost, color='red', linestyles='dashed')\n",
    "plt.hlines(y=intervalo[1], xmin=0, xmax=qtd_amost, color='red', linestyles='dashed')\n",
    "plt.hlines(y=amostra_media, xmin=0, xmax=qtd_amost, color='black', linestyles='dashed')\n",
    "plt.title('Gráfico de Disperção de pontos da amostra')\n",
    "plt.legend()\n",
    "plt.grid()\n",
    "plt.show()"
   ]
  },
  {
   "cell_type": "code",
   "execution_count": null,
   "id": "cbd78dc5",
   "metadata": {
    "id": "cbd78dc5"
   },
   "outputs": [],
   "source": []
  }
 ],
 "metadata": {
  "colab": {
   "provenance": []
  },
  "kernelspec": {
   "display_name": "Python 3 (ipykernel)",
   "language": "python",
   "name": "python3"
  },
  "language_info": {
   "codemirror_mode": {
    "name": "ipython",
    "version": 3
   },
   "file_extension": ".py",
   "mimetype": "text/x-python",
   "name": "python",
   "nbconvert_exporter": "python",
   "pygments_lexer": "ipython3",
   "version": "3.11.3"
  }
 },
 "nbformat": 4,
 "nbformat_minor": 5
}
