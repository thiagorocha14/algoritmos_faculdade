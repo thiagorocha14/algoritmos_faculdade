{
 "cells": [
  {
   "attachments": {},
   "cell_type": "markdown",
   "metadata": {
    "collapsed": false
   },
   "source": [
    "# Problema da Caixeiro Viajante\n",
    "## Implementação Thread"
   ]
  },
  {
   "cell_type": "code",
   "execution_count": 44,
   "metadata": {
    "ExecuteTime": {
     "end_time": "2023-05-06T16:14:48.336083900Z",
     "start_time": "2023-05-06T16:14:46.574438400Z"
    },
    "collapsed": false
   },
   "outputs": [],
   "source": [
    "import time as t\n",
    "import matplotlib.pyplot as plt\n",
    "import numpy as np\n",
    "from scipy.stats import norm"
   ]
  },
  {
   "cell_type": "code",
   "execution_count": 45,
   "id": "c1aff8d5",
   "metadata": {
    "ExecuteTime": {
     "end_time": "2023-05-06T16:18:35.800169300Z",
     "start_time": "2023-05-06T16:18:35.778070600Z"
    },
    "colab": {
     "base_uri": "https://localhost:8080/"
    },
    "id": "c1aff8d5",
    "outputId": "85544579-d0ad-436b-baf8-3dbb59f1f2b3"
   },
   "outputs": [
    {
     "name": "stdout",
     "output_type": "stream",
     "text": [
      "Overwriting caixeiro_thread.py\n"
     ]
    }
   ],
   "source": [
    "%%writefile caixeiro_thread.py\n",
    "import random\n",
    "import sys\n",
    "from threading import Thread\n",
    "\n",
    "def gerar_combinacao_inicial(qtd_cidades):\n",
    "    combinacao = [x for x in range(1, qtd_cidades)]\n",
    "    return combinacao\n",
    "\n",
    "def gera_matriz_custo(qtd_cidades, dist_max, dist_min):\n",
    "    random.seed(12)\n",
    "    matriz_custo = []\n",
    "    for cid_origem in range(qtd_cidades):\n",
    "        matriz_custo.append([])\n",
    "        for cid_destino in range(qtd_cidades):\n",
    "            if cid_origem < cid_destino:\n",
    "                matriz_custo[cid_origem].append(random.randint(dist_max, dist_min))\n",
    "            else:\n",
    "                matriz_custo[cid_origem].append(0)\n",
    "\n",
    "    print('** CIDADE **')\n",
    "    for cid_origem in range(qtd_cidades):\n",
    "        print(matriz_custo[cid_origem])\n",
    "    return matriz_custo\n",
    "\n",
    "def melhor_combinacao(melhores_combinacoes):\n",
    "    melhor_combinacao = melhores_combinacoes[0][0]\n",
    "    melhor_custo = melhores_combinacoes[0][1]\n",
    "    combinacoes = []\n",
    "    for combinacao in melhores_combinacoes:\n",
    "        if combinacao[1] < melhor_custo:\n",
    "            melhor_custo = combinacao[1]\n",
    "            melhor_combinacao = combinacao[0]\n",
    "            combinacoes = [combinacao]\n",
    "        elif combinacao[1] == melhor_custo:\n",
    "            combinacoes.append(combinacao)\n",
    "    return combinacoes\n",
    "\n",
    "def calcular_custos(lista, matriz_custo):\n",
    "        custo = 0\n",
    "        for pos_dest in range(1,len(lista)):\n",
    "            if lista[pos_dest] > lista[pos_dest-1]:\n",
    "                custo += matriz_custo[lista[pos_dest-1]][lista[pos_dest]]\n",
    "            else:\n",
    "                custo += matriz_custo[lista[pos_dest]][lista[pos_dest-1]]\n",
    "        return custo\n",
    "\n",
    "def permutacoes(lista):\n",
    "    if len(lista) == 0:\n",
    "        return[[]]\n",
    "    combinacoes = []\n",
    "    for i in range(len(lista)):\n",
    "        valor_atual = lista[i]\n",
    "        lista_restante = lista[:i]+lista[i+1:]\n",
    "        lista_permutacoes = permutacoes(lista_restante)\n",
    "        for permutacao in lista_permutacoes:\n",
    "            combinacoes.append([valor_atual]+permutacao)\n",
    "    return combinacoes\n",
    "\n",
    "\n",
    "class Th(Thread):\n",
    "    def __init__(self, matriz_custo, lista_cidades, cidade_faltante, tid):\n",
    "        Thread.__init__(self)\n",
    "        self.matriz_custo = matriz_custo\n",
    "        self.lista_cidades = lista_cidades\n",
    "        self.cidade_faltante = cidade_faltante\n",
    "        self.tid = tid\n",
    "\n",
    "    def run(self):\n",
    "        melhores_combinacoes = []\n",
    "        lista_cidades = self.lista_cidades\n",
    "        cidade_faltante = self.cidade_faltante\n",
    "        combinacoes = permutacoes(lista_cidades)\n",
    "        for combinacao in combinacoes:\n",
    "            combinacao.insert(0, cidade_faltante)\n",
    "            combinacao.insert(0, 0)\n",
    "            combinacao.append(0)\n",
    "            custo = calcular_custos(combinacao, self.matriz_custo)\n",
    "            if melhores_combinacoes == []:\n",
    "                melhores_combinacoes = [[combinacao, custo, self.tid]]\n",
    "            elif custo < melhores_combinacoes[0][1]:\n",
    "                melhores_combinacoes = [[combinacao, custo, self.tid]]\n",
    "            elif custo == melhores_combinacoes[0][1]:\n",
    "                melhores_combinacoes.append([combinacao, custo, self.tid])\n",
    "        self.melhores_combinacoes = melhores_combinacoes\n",
    "\n",
    "    def retorna_melhores_combinacoes(self):\n",
    "        return self.melhores_combinacoes\n",
    "\n",
    "\n",
    "def main():\n",
    "    QTD_CIDADES = int(sys.argv[1])\n",
    "    DIST_MAX = int(sys.argv[2])\n",
    "    DIST_MIN = int(sys.argv[3])\n",
    "    IMPRESSAO = sys.argv[4]\n",
    "\n",
    "    matriz_custo = gera_matriz_custo(QTD_CIDADES, DIST_MAX, DIST_MIN)\n",
    "    combinacao_inicial = gerar_combinacao_inicial(QTD_CIDADES)\n",
    "\n",
    "    threads = []\n",
    "    for i in range(1, QTD_CIDADES):\n",
    "        lista_cidades = combinacao_inicial[:i-1]+combinacao_inicial[i:]\n",
    "        cidade_faltante = i\n",
    "        threads.append(Th(matriz_custo, lista_cidades, cidade_faltante, i-1))\n",
    "        threads[i-1].start()\n",
    "\n",
    "    melhores_combinacoes = []\n",
    "    for t in threads:\n",
    "        t.join()\n",
    "        melhores_combinacoes += t.retorna_melhores_combinacoes()\n",
    "\n",
    "    melhores_combinacoes = melhor_combinacao(melhores_combinacoes)\n",
    "\n",
    "    print()\n",
    "    if IMPRESSAO == \"'True'\":\n",
    "        print('** MELHORES COMBINACOES **')\n",
    "        for combinacao in melhores_combinacoes:\n",
    "            print('Combinacao: ', combinacao[0], 'Custo: ', combinacao[1], 'Thread: ', combinacao[2])\n",
    "\n",
    "\n",
    "if __name__ == \"__main__\":\n",
    "    main()\n"
   ]
  },
  {
   "attachments": {},
   "cell_type": "markdown",
   "id": "8e632d34",
   "metadata": {
    "id": "8e632d34"
   },
   "source": [
    "## Teste do código thread com passagem de parâmetros"
   ]
  },
  {
   "cell_type": "code",
   "execution_count": 46,
   "id": "f11e99d5",
   "metadata": {
    "ExecuteTime": {
     "end_time": "2023-05-06T16:19:12.885083500Z",
     "start_time": "2023-05-06T16:19:12.834470Z"
    },
    "colab": {
     "base_uri": "https://localhost:8080/"
    },
    "id": "f11e99d5",
    "outputId": "f7c02d42-93ba-439c-fcf4-1b9423813d91",
    "scrolled": false
   },
   "outputs": [
    {
     "name": "stdout",
     "output_type": "stream",
     "text": [
      "** CIDADE **\n",
      "[0, 9, 6, 7, 4, 8, 2, 7, 9, 6, 9]\n",
      "[0, 0, 5, 2, 4, 9, 7, 4, 7, 5, 2]\n",
      "[0, 0, 0, 5, 3, 7, 8, 3, 2, 2, 5]\n",
      "[0, 0, 0, 0, 3, 8, 9, 3, 8, 4, 7]\n",
      "[0, 0, 0, 0, 0, 4, 2, 4, 3, 8, 8]\n",
      "[0, 0, 0, 0, 0, 0, 9, 9, 8, 2, 3]\n",
      "[0, 0, 0, 0, 0, 0, 0, 5, 6, 7, 7]\n",
      "[0, 0, 0, 0, 0, 0, 0, 0, 8, 6, 3]\n",
      "[0, 0, 0, 0, 0, 0, 0, 0, 0, 6, 5]\n",
      "[0, 0, 0, 0, 0, 0, 0, 0, 0, 0, 7]\n",
      "[0, 0, 0, 0, 0, 0, 0, 0, 0, 0, 0]\n",
      "\n",
      "** MELHORES COMBINACOES **\n",
      "Combinacao:  [0, 4, 8, 2, 9, 5, 10, 1, 3, 7, 6, 0] Custo:  30 Thread:  3\n",
      "Combinacao:  [0, 6, 4, 8, 2, 7, 3, 1, 10, 5, 9, 0] Custo:  30 Thread:  5\n",
      "Combinacao:  [0, 6, 4, 8, 2, 9, 5, 10, 1, 3, 7, 0] Custo:  30 Thread:  5\n",
      "Combinacao:  [0, 6, 7, 3, 1, 10, 5, 9, 2, 8, 4, 0] Custo:  30 Thread:  5\n",
      "Combinacao:  [0, 7, 3, 1, 10, 5, 9, 2, 8, 4, 6, 0] Custo:  30 Thread:  6\n",
      "Combinacao:  [0, 9, 5, 10, 1, 3, 7, 2, 8, 4, 6, 0] Custo:  30 Thread:  8\n"
     ]
    }
   ],
   "source": [
    "# Teste QTD_CIDADES, DIST_MIN, DIST_MAX, PRINT\n",
    "!python caixeiro_thread.py 11 2 9 'True'"
   ]
  },
  {
   "attachments": {},
   "cell_type": "markdown",
   "id": "82a4192a",
   "metadata": {
    "id": "82a4192a"
   },
   "source": [
    "## Definição de constantes"
   ]
  },
  {
   "cell_type": "code",
   "execution_count": 47,
   "id": "8bc23242",
   "metadata": {
    "id": "8bc23242"
   },
   "outputs": [],
   "source": [
    "QTD_CIDADES   = 11\n",
    "DIST_MIN      = 2\n",
    "DIST_MAX      = 9"
   ]
  },
  {
   "attachments": {},
   "cell_type": "markdown",
   "id": "003e5699",
   "metadata": {
    "id": "003e5699"
   },
   "source": [
    "## Fazendo testes de complexidade \n",
    "### <font color='Red'>(Execução Demorada!)</font>"
   ]
  },
  {
   "cell_type": "code",
   "execution_count": 48,
   "id": "73ec4fc5",
   "metadata": {
    "id": "73ec4fc5"
   },
   "outputs": [
    {
     "name": "stdout",
     "output_type": "stream",
     "text": [
      "[(5, 15.352533102035522), (6, 15.355893611907959), (7, 15.528666257858276), (8, 15.25351357460022), (9, 15.247942209243774), (10, 15.429485559463501), (11, 15.220994710922241)]\n",
      "[(6, 138.1727979183197), (7, 138.20304250717163), (8, 139.7579963207245), (9, 137.28162217140198), (10, 137.23147988319397), (11, 138.8653700351715), (12, 136.98895239830017)]\n"
     ]
    }
   ],
   "source": [
    "# Teste de estresse\n",
    "tempo_exec=[]\n",
    "tempo_teorico=[]\n",
    "for i in range(5, QTD_CIDADES+1):\n",
    "    tempo_atual = t.time()\n",
    "    # Teste QTD_CIDADES, DIST_MIN, DIST_MAX\n",
    "    string = 'python caixeiro_thread.py '+str(QTD_CIDADES)+' '+str(DIST_MIN)+' '+\\\n",
    "                str(DIST_MAX)+' \\'False\\' > NUL' #Jogando a saida para null para não poluir o terminal\n",
    "    !$string\n",
    "    tempo_final = t.time()\n",
    "    tempo_final -= tempo_atual\n",
    "    tempo_exec.append((i,tempo_final))\n",
    "    #Comparando os resultados com os valores de f(i) = 2*f(i-1)\n",
    "    tempo_teorico.append((i+1, tempo_final*DIST_MAX))\n",
    "print(tempo_exec)\n",
    "print(tempo_teorico)"
   ]
  },
  {
   "attachments": {},
   "cell_type": "markdown",
   "id": "61739565",
   "metadata": {
    "id": "61739565"
   },
   "source": [
    "## Gráfico de complexidade X Tamanho da List"
   ]
  },
  {
   "cell_type": "code",
   "execution_count": 49,
   "id": "6d2b0bd6",
   "metadata": {
    "id": "6d2b0bd6",
    "outputId": "046c4fd8-68da-4e26-e5da-ab3a41be4b45"
   },
   "outputs": [
    {
     "data": {
      "image/png": "[encoded data removed]",
      "text/plain": [
       "<Figure size 1000x700 with 1 Axes>"
      ]
     },
     "metadata": {},
     "output_type": "display_data"
    }
   ],
   "source": [
    "plt.figure(figsize=(10,7))\n",
    "plt.plot([tempo_exec[i][0] for i in range(len(tempo_exec))], [tempo_exec[i][1] for i in range(len(tempo_exec))], label='Alg.Thread')\n",
    "plt.plot([tempo_teorico[i][0] for i in range(len(tempo_teorico)-1)], [tempo_teorico[i][1] for i in range(len(tempo_teorico)-1)], label='Previsto')\n",
    "plt.title('Tempo de execução')\n",
    "plt.xlabel('Tamanho da Lista')\n",
    "plt.ylabel('Segundos')\n",
    "plt.legend()\n",
    "plt.grid()\n",
    "plt.show()"
   ]
  },
  {
   "attachments": {},
   "cell_type": "markdown",
   "id": "d7fd2cf7",
   "metadata": {
    "id": "d7fd2cf7"
   },
   "source": [
    "## Fazendo testes com constantes definidas (1000 testes) \n",
    "### <font color='Red'>(Execução Demorada!)</font>\n",
    "### Novas constantes para os testes"
   ]
  },
  {
   "cell_type": "code",
   "execution_count": 50,
   "id": "f6bb23e2",
   "metadata": {
    "id": "f6bb23e2"
   },
   "outputs": [],
   "source": [
    "QTD_CIDADES   = 11\n",
    "DIST_MIN      = 2\n",
    "DIST_MAX      = 9"
   ]
  },
  {
   "cell_type": "code",
   "execution_count": 51,
   "id": "c5e66ce0",
   "metadata": {
    "id": "c5e66ce0"
   },
   "outputs": [],
   "source": [
    "TAM_POP   = 200  # Tamanho da População"
   ]
  },
  {
   "cell_type": "code",
   "execution_count": 52,
   "id": "744f820e",
   "metadata": {
    "id": "744f820e",
    "outputId": "dbb274fc-a74a-43ea-af8a-b160a83d03b3",
    "scrolled": true
   },
   "outputs": [
    {
     "name": "stdout",
     "output_type": "stream",
     "text": [
      "Execução: 0 - Tempo: 15.5750 seg.\n",
      "Execução: 1 - Tempo: 15.5618 seg.\n",
      "Execução: 2 - Tempo: 15.5618 seg.\n",
      "Execução: 3 - Tempo: 15.4426 seg.\n",
      "Execução: 4 - Tempo: 16.0668 seg.\n",
      "Execução: 5 - Tempo: 15.6257 seg.\n",
      "Execução: 6 - Tempo: 15.6262 seg.\n",
      "Execução: 7 - Tempo: 15.3786 seg.\n",
      "Execução: 8 - Tempo: 15.6503 seg.\n",
      "Execução: 9 - Tempo: 15.5359 seg.\n",
      "Execução: 10 - Tempo: 15.5643 seg.\n",
      "Execução: 11 - Tempo: 15.3723 seg.\n",
      "Execução: 12 - Tempo: 15.3594 seg.\n",
      "Execução: 13 - Tempo: 15.5700 seg.\n",
      "Execução: 14 - Tempo: 15.4261 seg.\n",
      "Execução: 15 - Tempo: 15.5067 seg.\n",
      "Execução: 16 - Tempo: 15.7969 seg.\n",
      "Execução: 17 - Tempo: 15.9095 seg.\n",
      "Execução: 18 - Tempo: 15.8956 seg.\n",
      "Execução: 19 - Tempo: 15.3878 seg.\n",
      "Execução: 20 - Tempo: 15.4152 seg.\n",
      "Execução: 21 - Tempo: 15.4026 seg.\n",
      "Execução: 22 - Tempo: 15.3668 seg.\n",
      "Execução: 23 - Tempo: 15.5954 seg.\n",
      "Execução: 24 - Tempo: 15.5317 seg.\n",
      "Execução: 25 - Tempo: 15.5760 seg.\n",
      "Execução: 26 - Tempo: 15.4370 seg.\n",
      "Execução: 27 - Tempo: 15.4355 seg.\n",
      "Execução: 28 - Tempo: 15.4843 seg.\n",
      "Execução: 29 - Tempo: 15.6067 seg.\n",
      "Execução: 30 - Tempo: 15.5492 seg.\n",
      "Execução: 31 - Tempo: 15.4230 seg.\n",
      "Execução: 32 - Tempo: 15.4371 seg.\n",
      "Execução: 33 - Tempo: 15.4415 seg.\n",
      "Execução: 34 - Tempo: 15.6775 seg.\n",
      "Execução: 35 - Tempo: 15.5462 seg.\n",
      "Execução: 36 - Tempo: 15.5834 seg.\n",
      "Execução: 37 - Tempo: 15.7726 seg.\n",
      "Execução: 38 - Tempo: 15.4586 seg.\n",
      "Execução: 39 - Tempo: 15.3466 seg.\n",
      "Execução: 40 - Tempo: 16.1352 seg.\n",
      "Execução: 41 - Tempo: 15.5088 seg.\n",
      "Execução: 42 - Tempo: 15.5808 seg.\n",
      "Execução: 43 - Tempo: 15.9446 seg.\n",
      "Execução: 44 - Tempo: 15.4560 seg.\n",
      "Execução: 45 - Tempo: 15.5567 seg.\n",
      "Execução: 46 - Tempo: 15.6386 seg.\n",
      "Execução: 47 - Tempo: 15.4959 seg.\n",
      "Execução: 48 - Tempo: 15.2828 seg.\n",
      "Execução: 49 - Tempo: 15.4609 seg.\n",
      "Execução: 50 - Tempo: 15.4129 seg.\n",
      "Execução: 51 - Tempo: 15.5690 seg.\n",
      "Execução: 52 - Tempo: 15.5665 seg.\n",
      "Execução: 53 - Tempo: 15.4419 seg.\n",
      "Execução: 54 - Tempo: 15.3954 seg.\n",
      "Execução: 55 - Tempo: 15.5814 seg.\n",
      "Execução: 56 - Tempo: 15.5834 seg.\n",
      "Execução: 57 - Tempo: 15.2985 seg.\n",
      "Execução: 58 - Tempo: 15.6015 seg.\n",
      "Execução: 59 - Tempo: 15.5223 seg.\n",
      "Execução: 60 - Tempo: 15.4627 seg.\n",
      "Execução: 61 - Tempo: 15.5736 seg.\n",
      "Execução: 62 - Tempo: 15.5746 seg.\n",
      "Execução: 63 - Tempo: 15.3740 seg.\n",
      "Execução: 64 - Tempo: 15.4249 seg.\n",
      "Execução: 65 - Tempo: 15.6498 seg.\n",
      "Execução: 66 - Tempo: 15.6459 seg.\n",
      "Execução: 67 - Tempo: 15.5136 seg.\n",
      "Execução: 68 - Tempo: 15.5167 seg.\n",
      "Execução: 69 - Tempo: 15.5281 seg.\n",
      "Execução: 70 - Tempo: 15.5922 seg.\n",
      "Execução: 71 - Tempo: 15.5203 seg.\n",
      "Execução: 72 - Tempo: 15.4663 seg.\n",
      "Execução: 73 - Tempo: 15.4044 seg.\n",
      "Execução: 74 - Tempo: 15.3513 seg.\n",
      "Execução: 75 - Tempo: 15.4971 seg.\n",
      "Execução: 76 - Tempo: 15.4309 seg.\n",
      "Execução: 77 - Tempo: 15.5122 seg.\n",
      "Execução: 78 - Tempo: 15.3120 seg.\n",
      "Execução: 79 - Tempo: 15.4060 seg.\n",
      "Execução: 80 - Tempo: 15.3973 seg.\n",
      "Execução: 81 - Tempo: 15.8358 seg.\n",
      "Execução: 82 - Tempo: 15.5211 seg.\n",
      "Execução: 83 - Tempo: 15.2753 seg.\n",
      "Execução: 84 - Tempo: 15.5547 seg.\n",
      "Execução: 85 - Tempo: 15.4586 seg.\n",
      "Execução: 86 - Tempo: 15.4727 seg.\n",
      "Execução: 87 - Tempo: 15.8235 seg.\n",
      "Execução: 88 - Tempo: 15.3754 seg.\n",
      "Execução: 89 - Tempo: 15.3975 seg.\n",
      "Execução: 90 - Tempo: 15.3494 seg.\n",
      "Execução: 91 - Tempo: 15.4047 seg.\n",
      "Execução: 92 - Tempo: 15.2764 seg.\n",
      "Execução: 93 - Tempo: 15.3475 seg.\n",
      "Execução: 94 - Tempo: 15.5361 seg.\n",
      "Execução: 95 - Tempo: 15.5559 seg.\n",
      "Execução: 96 - Tempo: 15.3664 seg.\n",
      "Execução: 97 - Tempo: 15.5420 seg.\n",
      "Execução: 98 - Tempo: 15.5563 seg.\n",
      "Execução: 99 - Tempo: 15.4230 seg.\n",
      "Execução: 100 - Tempo: 15.4532 seg.\n",
      "Execução: 101 - Tempo: 15.3740 seg.\n",
      "Execução: 102 - Tempo: 15.3224 seg.\n",
      "Execução: 103 - Tempo: 15.2485 seg.\n",
      "Execução: 104 - Tempo: 15.6417 seg.\n",
      "Execução: 105 - Tempo: 15.4226 seg.\n",
      "Execução: 106 - Tempo: 15.3526 seg.\n",
      "Execução: 107 - Tempo: 15.3716 seg.\n",
      "Execução: 108 - Tempo: 15.4379 seg.\n",
      "Execução: 109 - Tempo: 15.7867 seg.\n",
      "Execução: 110 - Tempo: 15.5364 seg.\n",
      "Execução: 111 - Tempo: 15.2784 seg.\n",
      "Execução: 112 - Tempo: 15.4907 seg.\n",
      "Execução: 113 - Tempo: 15.4340 seg.\n",
      "Execução: 114 - Tempo: 15.5890 seg.\n",
      "Execução: 115 - Tempo: 15.4492 seg.\n",
      "Execução: 116 - Tempo: 15.4401 seg.\n",
      "Execução: 117 - Tempo: 15.4982 seg.\n",
      "Execução: 118 - Tempo: 15.2111 seg.\n",
      "Execução: 119 - Tempo: 15.4293 seg.\n",
      "Execução: 120 - Tempo: 15.3895 seg.\n",
      "Execução: 121 - Tempo: 15.4080 seg.\n",
      "Execução: 122 - Tempo: 15.2509 seg.\n",
      "Execução: 123 - Tempo: 15.5714 seg.\n",
      "Execução: 124 - Tempo: 15.3601 seg.\n",
      "Execução: 125 - Tempo: 15.4411 seg.\n",
      "Execução: 126 - Tempo: 15.4760 seg.\n",
      "Execução: 127 - Tempo: 15.3905 seg.\n",
      "Execução: 128 - Tempo: 15.3768 seg.\n",
      "Execução: 129 - Tempo: 15.5408 seg.\n",
      "Execução: 130 - Tempo: 15.2109 seg.\n",
      "Execução: 131 - Tempo: 15.5009 seg.\n",
      "Execução: 132 - Tempo: 15.4078 seg.\n",
      "Execução: 133 - Tempo: 15.9745 seg.\n",
      "Execução: 134 - Tempo: 15.3358 seg.\n",
      "Execução: 135 - Tempo: 15.3323 seg.\n",
      "Execução: 136 - Tempo: 15.9246 seg.\n",
      "Execução: 137 - Tempo: 15.2405 seg.\n",
      "Execução: 138 - Tempo: 15.5005 seg.\n",
      "Execução: 139 - Tempo: 15.2975 seg.\n",
      "Execução: 140 - Tempo: 15.3090 seg.\n",
      "Execução: 141 - Tempo: 15.3394 seg.\n",
      "Execução: 142 - Tempo: 15.5472 seg.\n",
      "Execução: 143 - Tempo: 15.3779 seg.\n",
      "Execução: 144 - Tempo: 15.4718 seg.\n",
      "Execução: 145 - Tempo: 15.5451 seg.\n",
      "Execução: 146 - Tempo: 15.3931 seg.\n",
      "Execução: 147 - Tempo: 15.5782 seg.\n",
      "Execução: 148 - Tempo: 15.8027 seg.\n",
      "Execução: 149 - Tempo: 15.3744 seg.\n",
      "Execução: 150 - Tempo: 15.4411 seg.\n",
      "Execução: 151 - Tempo: 15.4588 seg.\n",
      "Execução: 152 - Tempo: 15.5008 seg.\n",
      "Execução: 153 - Tempo: 15.5538 seg.\n",
      "Execução: 154 - Tempo: 15.4593 seg.\n",
      "Execução: 155 - Tempo: 15.3952 seg.\n",
      "Execução: 156 - Tempo: 15.3288 seg.\n",
      "Execução: 157 - Tempo: 15.3036 seg.\n",
      "Execução: 158 - Tempo: 15.3794 seg.\n",
      "Execução: 159 - Tempo: 15.2191 seg.\n",
      "Execução: 160 - Tempo: 15.6475 seg.\n",
      "Execução: 161 - Tempo: 15.5144 seg.\n",
      "Execução: 162 - Tempo: 15.4775 seg.\n",
      "Execução: 163 - Tempo: 15.2775 seg.\n",
      "Execução: 164 - Tempo: 16.0146 seg.\n",
      "Execução: 165 - Tempo: 15.6559 seg.\n",
      "Execução: 166 - Tempo: 15.4638 seg.\n",
      "Execução: 167 - Tempo: 15.3681 seg.\n",
      "Execução: 168 - Tempo: 15.4723 seg.\n",
      "Execução: 169 - Tempo: 15.3985 seg.\n",
      "Execução: 170 - Tempo: 15.7914 seg.\n",
      "Execução: 171 - Tempo: 15.3424 seg.\n",
      "Execução: 172 - Tempo: 15.2521 seg.\n",
      "Execução: 173 - Tempo: 15.4156 seg.\n",
      "Execução: 174 - Tempo: 16.2948 seg.\n",
      "Execução: 175 - Tempo: 15.4103 seg.\n",
      "Execução: 176 - Tempo: 15.3694 seg.\n",
      "Execução: 177 - Tempo: 16.2355 seg.\n",
      "Execução: 178 - Tempo: 15.3344 seg.\n",
      "Execução: 179 - Tempo: 15.4932 seg.\n",
      "Execução: 180 - Tempo: 15.3928 seg.\n",
      "Execução: 181 - Tempo: 15.8640 seg.\n",
      "Execução: 182 - Tempo: 15.3839 seg.\n",
      "Execução: 183 - Tempo: 15.7789 seg.\n",
      "Execução: 184 - Tempo: 15.4102 seg.\n",
      "Execução: 185 - Tempo: 15.3628 seg.\n",
      "Execução: 186 - Tempo: 15.6674 seg.\n",
      "Execução: 187 - Tempo: 15.2760 seg.\n",
      "Execução: 188 - Tempo: 15.3719 seg.\n",
      "Execução: 189 - Tempo: 15.2042 seg.\n",
      "Execução: 190 - Tempo: 15.3304 seg.\n",
      "Execução: 191 - Tempo: 15.3866 seg.\n",
      "Execução: 192 - Tempo: 15.6041 seg.\n",
      "Execução: 193 - Tempo: 15.3920 seg.\n",
      "Execução: 194 - Tempo: 15.2184 seg.\n",
      "Execução: 195 - Tempo: 15.4576 seg.\n",
      "Execução: 196 - Tempo: 15.3384 seg.\n",
      "Execução: 197 - Tempo: 15.5343 seg.\n",
      "Execução: 198 - Tempo: 15.6201 seg.\n",
      "Execução: 199 - Tempo: 15.5875 seg.\n"
     ]
    }
   ],
   "source": [
    "# Teste de estresse 2\n",
    "tempo_exec2=[]\n",
    "for i in range(TAM_POP):\n",
    "    tempo_atual = t.time()\n",
    "    # Teste QTD_CIDADES, DIST_MIN, DIST_MAX\n",
    "    string = 'python caixeiro_thread.py '+str(QTD_CIDADES)+' '+str(DIST_MIN)+' '+str(DIST_MAX)+' '+'\\'False\\''+' > NUL' #Jogando a saida para null para não poluir o terminal\n",
    "    !$string\n",
    "    tempo_final = t.time()\n",
    "    tempo_final -= tempo_atual\n",
    "    tempo_exec2.append((i,tempo_final))\n",
    "    print('Execução: %d - Tempo: %.4f seg.' %(i, tempo_final))\n",
    "#print(tempo_exec2)"
   ]
  },
  {
   "attachments": {},
   "cell_type": "markdown",
   "id": "5cf849e8",
   "metadata": {
    "id": "5cf849e8"
   },
   "source": [
    "## Transfomando dados para 'numpy' para uso estatístico\n",
    "<H3><font color='Red'>Só rodar se a célula anterior for executada</font></H3>"
   ]
  },
  {
   "cell_type": "code",
   "execution_count": 53,
   "id": "27ee2c42",
   "metadata": {
    "id": "27ee2c42"
   },
   "outputs": [],
   "source": [
    "tempo_exec2 = np.array(tempo_exec2)\n",
    "np.savetxt('dataset_multi_thread.txt', tempo_exec2, fmt='%f')\n",
    "#tempo_exec2"
   ]
  },
  {
   "attachments": {},
   "cell_type": "markdown",
   "id": "31926de0",
   "metadata": {
    "id": "31926de0"
   },
   "source": [
    "# Análise Estatística"
   ]
  },
  {
   "attachments": {},
   "cell_type": "markdown",
   "id": "21c6d555",
   "metadata": {
    "id": "21c6d555"
   },
   "source": [
    "## Leitura do Dataset"
   ]
  },
  {
   "cell_type": "code",
   "execution_count": 54,
   "id": "11eacd01",
   "metadata": {
    "id": "11eacd01"
   },
   "outputs": [],
   "source": [
    "# Lendo o dataset armazenado\n",
    "tempo_exec2 = np.loadtxt('dataset_multi_thread.txt', dtype = float)"
   ]
  },
  {
   "attachments": {},
   "cell_type": "markdown",
   "id": "56986b80",
   "metadata": {
    "id": "56986b80"
   },
   "source": [
    "## Gráfico de disperção no tempo de execução"
   ]
  },
  {
   "cell_type": "code",
   "execution_count": 55,
   "id": "4acbad92",
   "metadata": {
    "id": "4acbad92",
    "outputId": "48264590-021c-469f-a748-fd6d2276b96b",
    "scrolled": false
   },
   "outputs": [
    {
     "data": {
      "image/png": "[encoded data removed]",
      "text/plain": [
       "<Figure size 1000x700 with 1 Axes>"
      ]
     },
     "metadata": {},
     "output_type": "display_data"
    }
   ],
   "source": [
    "plt.figure(figsize=(10,7))\n",
    "plt.scatter(tempo_exec2[:,0], tempo_exec2[:,1], label='Alg.Thread')\n",
    "plt.title('Tempo de execução')\n",
    "plt.xlabel('Tamanho da Lista')\n",
    "plt.ylabel('Segundos')\n",
    "plt.legend()\n",
    "plt.grid()\n",
    "plt.show()"
   ]
  },
  {
   "attachments": {},
   "cell_type": "markdown",
   "id": "ec97e55f",
   "metadata": {
    "id": "ec97e55f"
   },
   "source": [
    "## Cálculo de valores centrais:\n",
    "### (Média, Mediana, Moda)"
   ]
  },
  {
   "cell_type": "code",
   "execution_count": 56,
   "id": "f4aa3e09",
   "metadata": {
    "id": "f4aa3e09",
    "outputId": "539e6bf2-c1b1-4a67-a248-047040c33b09"
   },
   "outputs": [
    {
     "name": "stdout",
     "output_type": "stream",
     "text": [
      "Tempo médio de execução 15.4952\n"
     ]
    }
   ],
   "source": [
    "# Média\n",
    "tempo_exec2_media = tempo_exec2[:,1].mean()\n",
    "print('Tempo médio de execução %.4f' %tempo_exec2_media)"
   ]
  },
  {
   "cell_type": "code",
   "execution_count": 57,
   "id": "f4dfb71d",
   "metadata": {
    "id": "f4dfb71d",
    "outputId": "c8a3b610-4b68-4944-826f-8ff5ecac85ec"
   },
   "outputs": [
    {
     "name": "stdout",
     "output_type": "stream",
     "text": [
      "Desvio padrão 0.1809\n"
     ]
    }
   ],
   "source": [
    "# Desvio Padrão\n",
    "tempo_exec2_std = tempo_exec2[:,1].std()\n",
    "print('Desvio padrão %.4f' %tempo_exec2_std)"
   ]
  },
  {
   "cell_type": "code",
   "execution_count": 58,
   "id": "61d1f0d2",
   "metadata": {
    "id": "61d1f0d2",
    "outputId": "1baa1b84-0a82-4248-fed8-8af24094133f"
   },
   "outputs": [
    {
     "name": "stdout",
     "output_type": "stream",
     "text": [
      "Tempo mediano de execuçao 15.4587\n"
     ]
    }
   ],
   "source": [
    "# Médiana\n",
    "tempo_exec2_mediana = np.median(tempo_exec2[:,1])\n",
    "print('Tempo mediano de execuçao %.4f' %tempo_exec2_mediana)"
   ]
  },
  {
   "attachments": {},
   "cell_type": "markdown",
   "id": "d3118d96",
   "metadata": {
    "id": "d3118d96"
   },
   "source": [
    "## Análise Frequências"
   ]
  },
  {
   "attachments": {},
   "cell_type": "markdown",
   "id": "7ad8a0ae",
   "metadata": {
    "id": "7ad8a0ae"
   },
   "source": [
    "Não é possivel calcular a moda de uma população de valores numéricos contínuos. Neste caso podemos aplicar a **Regra de Sturges** para calcular a frequência da distribuição da amostra.\n",
    "$$k = 1 + \\frac {10}{3}\\log_{10}n$$"
   ]
  },
  {
   "cell_type": "code",
   "execution_count": 59,
   "id": "4a45960d",
   "metadata": {
    "id": "4a45960d",
    "outputId": "119f5579-5fde-4f25-c340-0d7847a2bd10"
   },
   "outputs": [
    {
     "name": "stdout",
     "output_type": "stream",
     "text": [
      "Tamanho da Amostra: 9\n"
     ]
    }
   ],
   "source": [
    "# Cálculo do intervalo de freqûencia: n = Tamanho da Amostra\n",
    "n = tempo_exec2.shape[0]\n",
    "k = 1 + (10/3)*np.log10(n)\n",
    "k = int(k.round(0))\n",
    "print(f'Tamanho da Amostra: {k}')"
   ]
  },
  {
   "cell_type": "code",
   "execution_count": 60,
   "id": "030b4e11",
   "metadata": {
    "id": "030b4e11",
    "outputId": "970630a1-a7cb-4c76-8985-2855530a83a7"
   },
   "outputs": [
    {
     "name": "stdout",
     "output_type": "stream",
     "text": [
      "(array([21, 73, 56, 31,  6,  6,  3,  2,  2], dtype=int64), array([15.204169  , 15.32535378, 15.44653856, 15.56772333, 15.68890811,\n",
      "       15.81009289, 15.93127767, 16.05246244, 16.17364722, 16.294832  ]))\n"
     ]
    }
   ],
   "source": [
    "# Coletando a frequência\n",
    "tempo_exec2_freq = np.histogram(tempo_exec2[:,1], bins= k)\n",
    "print(tempo_exec2_freq)"
   ]
  },
  {
   "cell_type": "code",
   "execution_count": 61,
   "id": "32b34e73",
   "metadata": {
    "id": "32b34e73",
    "outputId": "9b1511f6-42e5-4757-be63-437e831cf577"
   },
   "outputs": [
    {
     "name": "stderr",
     "output_type": "stream",
     "text": [
      "No artists with labels found to put in legend.  Note that artists whose label start with an underscore are ignored when legend() is called with no argument.\n"
     ]
    },
    {
     "data": {
      "image/png": "[encoded data removed]",
      "text/plain": [
       "<Figure size 1000x700 with 1 Axes>"
      ]
     },
     "metadata": {},
     "output_type": "display_data"
    }
   ],
   "source": [
    "plt.figure(figsize=(10,7))\n",
    "plt.hist(tempo_exec2[:,1], bins = k)\n",
    "plt.title('Histograma do Tempo de Execução')\n",
    "plt.ylabel('Frequência')\n",
    "plt.xlabel('Segundos')\n",
    "plt.legend()\n",
    "plt.grid()\n",
    "plt.show()"
   ]
  },
  {
   "attachments": {},
   "cell_type": "markdown",
   "id": "a042632d",
   "metadata": {
    "id": "a042632d"
   },
   "source": [
    "### **Verificando a possbilidade de dados OUTLIERS**\n",
    "**Medidas Separatrizes**: Quartis"
   ]
  },
  {
   "cell_type": "code",
   "execution_count": 62,
   "id": "967fb3b4",
   "metadata": {
    "id": "967fb3b4",
    "outputId": "a4844b00-e20c-436d-b032-53e6358ff8ea"
   },
   "outputs": [
    {
     "name": "stderr",
     "output_type": "stream",
     "text": [
      "No artists with labels found to put in legend.  Note that artists whose label start with an underscore are ignored when legend() is called with no argument.\n"
     ]
    },
    {
     "data": {
      "image/png": "[encoded data removed]",
      "text/plain": [
       "<Figure size 1000x700 with 1 Axes>"
      ]
     },
     "metadata": {},
     "output_type": "display_data"
    }
   ],
   "source": [
    "# Gráfico BoxPlot\n",
    "plt.figure(figsize=(10,7))\n",
    "plt.boxplot(tempo_exec2[:,1], vert = False)\n",
    "plt.title('Quartis do Tempo de Execução')\n",
    "plt.ylabel('Frequência')\n",
    "plt.xlabel('Segundos')\n",
    "plt.legend()\n",
    "plt.grid()\n",
    "plt.show()"
   ]
  },
  {
   "attachments": {},
   "cell_type": "markdown",
   "id": "e8b90a1e",
   "metadata": {
    "id": "e8b90a1e"
   },
   "source": [
    "### **Removendo dados \"extremos\" - Outliers**\n",
    "#### <font color='Red'> Ajustar os valores antes de executar </font>"
   ]
  },
  {
   "cell_type": "code",
   "execution_count": 63,
   "id": "5bf0fd52",
   "metadata": {
    "id": "5bf0fd52",
    "outputId": "cc23863a-0df5-4815-ef88-9d2dc948a6be",
    "scrolled": true
   },
   "outputs": [
    {
     "name": "stdout",
     "output_type": "stream",
     "text": [
      "Nº de registros originais: 200\n",
      "Qtd. de registros removidos: 11\n",
      "Registros removidos: [4, 17, 18, 40, 43, 133, 136, 164, 174, 177, 181]\n",
      "Nº de registros corrigidos: 189\n",
      "[[ 0.       15.574957]\n",
      " [ 1.       15.561766]\n",
      " [ 2.       15.561801]\n",
      " [ 3.       15.44258 ]\n",
      " [ 5.       15.625653]\n",
      " [ 6.       15.626167]\n",
      " [ 7.       15.378587]\n",
      " [ 8.       15.650345]\n",
      " [ 9.       15.535939]\n",
      " [10.       15.564266]\n",
      " [11.       15.372269]\n",
      " [12.       15.35945 ]\n",
      " [13.       15.569997]\n",
      " [14.       15.426079]\n",
      " [15.       15.506652]]\n"
     ]
    }
   ],
   "source": [
    "# Remover valores da lista\n",
    "int_sup = tempo_exec2_media + (2 * tempo_exec2_std)\n",
    "int_inf = tempo_exec2_media - (2 * tempo_exec2_std)\n",
    "print(f'Nº de registros originais: {tempo_exec2.shape[0]}')\n",
    "registros = []\n",
    "for i in range(tempo_exec2.shape[0]):\n",
    "        if int_inf > tempo_exec2[i, 1] or tempo_exec2[i, 1] > int_sup:\n",
    "            registros.append(i)\n",
    "print(f'Qtd. de registros removidos: {len(registros)}')\n",
    "print(f'Registros removidos: {registros}')\n",
    "tempo_exec2 = np.delete(tempo_exec2, registros, 0)\n",
    "print(f'Nº de registros corrigidos: {tempo_exec2.shape[0]}')\n",
    "print(tempo_exec2[0:15])"
   ]
  },
  {
   "attachments": {},
   "cell_type": "markdown",
   "id": "c07cfd4f",
   "metadata": {
    "id": "c07cfd4f"
   },
   "source": [
    "### Salvando os registros corrigidos"
   ]
  },
  {
   "cell_type": "code",
   "execution_count": 64,
   "id": "b84892f2",
   "metadata": {
    "id": "b84892f2"
   },
   "outputs": [],
   "source": [
    "np.savetxt('dataset_multi_thread_corrigido.txt', tempo_exec2, fmt='%f')"
   ]
  },
  {
   "cell_type": "code",
   "execution_count": 65,
   "id": "6b69d13a",
   "metadata": {
    "id": "6b69d13a",
    "outputId": "c5a75713-92e2-45e4-d0d3-6a8bb8f62d06"
   },
   "outputs": [
    {
     "name": "stdout",
     "output_type": "stream",
     "text": [
      "Tempo médio de execução 15.464483\n"
     ]
    }
   ],
   "source": [
    "# Média\n",
    "tempo_exec2_media = tempo_exec2[:,1].mean()\n",
    "print('Tempo médio de execução %f' %tempo_exec2_media)"
   ]
  },
  {
   "cell_type": "code",
   "execution_count": 66,
   "id": "9be0ccae",
   "metadata": {
    "id": "9be0ccae",
    "outputId": "df0d77b4-e47f-4245-fbc5-7202fe584704"
   },
   "outputs": [
    {
     "name": "stdout",
     "output_type": "stream",
     "text": [
      "Desvio padrão 0.1278\n"
     ]
    }
   ],
   "source": [
    "# Desvio Padrão\n",
    "tempo_exec2_std = tempo_exec2[:,1].std()\n",
    "print('Desvio padrão %.4f' %tempo_exec2_std)"
   ]
  },
  {
   "cell_type": "code",
   "execution_count": 67,
   "id": "c9c86821",
   "metadata": {
    "id": "c9c86821",
    "outputId": "d0a56a4e-6543-4d2e-d998-b31f70f39991"
   },
   "outputs": [
    {
     "name": "stdout",
     "output_type": "stream",
     "text": [
      "Tempo mediano de execuçao 15.4492\n"
     ]
    }
   ],
   "source": [
    "# Médiana\n",
    "tempo_exec2_mediana = np.median(tempo_exec2[:,1])\n",
    "print('Tempo mediano de execuçao %.4f' %tempo_exec2_mediana)"
   ]
  },
  {
   "attachments": {},
   "cell_type": "markdown",
   "id": "5a6abe11",
   "metadata": {
    "id": "5a6abe11"
   },
   "source": [
    "## Estatística - DISTRIBUIÇÕES DE PROBABILIDADE\n",
    "\n",
    "### Distribuição Normal\n",
    "\n",
    "#### Amostra (Média da População)"
   ]
  },
  {
   "cell_type": "code",
   "execution_count": 68,
   "id": "299c92e2",
   "metadata": {
    "id": "299c92e2"
   },
   "outputs": [],
   "source": [
    "# Parâmetros para uma media de amostragens\n",
    "tam_amost = 50\n",
    "qtd_amost = 200"
   ]
  },
  {
   "cell_type": "code",
   "execution_count": 69,
   "id": "1afa0264",
   "metadata": {
    "id": "1afa0264"
   },
   "outputs": [],
   "source": [
    "# Obtendo a media de amostragens\n",
    "amostra = []\n",
    "for i in range(qtd_amost):\n",
    "    amostra.append(np.random.choice(tempo_exec2[:,1], tam_amost).mean())\n",
    "amostra = np.array(amostra)"
   ]
  },
  {
   "cell_type": "code",
   "execution_count": 70,
   "id": "43f58fb4",
   "metadata": {
    "id": "43f58fb4",
    "outputId": "9ad16ecb-8a81-43a9-d4ab-f04ee6fffd0e"
   },
   "outputs": [
    {
     "name": "stdout",
     "output_type": "stream",
     "text": [
      "** Valores Centrais da Amostra **\n",
      "Média da amostra:       15.4647\n",
      "Desv.Padrão da amostra: 0.0172\n",
      "Mediana da amostra:     15.4641\n"
     ]
    }
   ],
   "source": [
    "# Valores Centrais da amostragem\n",
    "amostra_media   = amostra.mean()\n",
    "amostra_std     = amostra.std()\n",
    "amostra_mediana = np.median(amostra)\n",
    "print('** Valores Centrais da Amostra **')\n",
    "print('Média da amostra:       %.4f' %amostra_media)\n",
    "print('Desv.Padrão da amostra: %.4f' %amostra_std)\n",
    "print('Mediana da amostra:     %.4f' %amostra_mediana)"
   ]
  },
  {
   "cell_type": "code",
   "execution_count": 71,
   "id": "a0bf1d89",
   "metadata": {
    "id": "a0bf1d89",
    "outputId": "81f4d6f6-8ef1-42f4-9f3a-54ff5e458aee"
   },
   "outputs": [
    {
     "data": {
      "text/plain": [
       "0.0181"
      ]
     },
     "execution_count": 71,
     "metadata": {},
     "output_type": "execute_result"
    }
   ],
   "source": [
    "# Desvio Padrão de inferência calculado\n",
    "round(tempo_exec2_std / np.sqrt(tam_amost),4)"
   ]
  },
  {
   "cell_type": "code",
   "execution_count": 72,
   "id": "b2fe497f",
   "metadata": {
    "id": "b2fe497f",
    "outputId": "49cce5e5-d7d3-4d80-da46-49c4a3f4ae5b"
   },
   "outputs": [
    {
     "name": "stderr",
     "output_type": "stream",
     "text": [
      "No artists with labels found to put in legend.  Note that artists whose label start with an underscore are ignored when legend() is called with no argument.\n"
     ]
    },
    {
     "data": {
      "image/png": "[encoded data removed]",
      "text/plain": [
       "<Figure size 1000x700 with 1 Axes>"
      ]
     },
     "metadata": {},
     "output_type": "display_data"
    }
   ],
   "source": [
    "# Visualizando a amostra:\n",
    "plt.figure(figsize=(10,7))\n",
    "plt.hist(amostra, bins = k)\n",
    "plt.title('Histograma do Tempo de Execução')\n",
    "plt.ylabel('Frequência')\n",
    "plt.xlabel('Segundos')\n",
    "plt.legend()\n",
    "plt.grid()\n",
    "plt.show()"
   ]
  },
  {
   "cell_type": "code",
   "execution_count": 73,
   "id": "fe3e10b2",
   "metadata": {
    "id": "fe3e10b2"
   },
   "outputs": [
    {
     "name": "stderr",
     "output_type": "stream",
     "text": [
      "C:\\Users\\Thiago\\AppData\\Local\\Temp\\ipykernel_62416\\3257524375.py:2: DeprecationWarning: Use of keyword argument 'alpha' for method 'interval' is deprecated and wil be removed in SciPy 1.11.0. Use first positional argument or keyword argument 'confidence' instead.\n",
      "  intervalo = norm.interval(alpha = 0.99, loc = amostra_media, scale = amostra_std)\n"
     ]
    }
   ],
   "source": [
    "# Considerando a confiança de 99%\n",
    "intervalo = norm.interval(alpha = 0.99, loc = amostra_media, scale = amostra_std)"
   ]
  },
  {
   "cell_type": "code",
   "execution_count": 74,
   "id": "b4536ba9",
   "metadata": {
    "id": "b4536ba9",
    "outputId": "0e071b2c-f044-4dfa-c9b3-a48f0e881fcf"
   },
   "outputs": [
    {
     "name": "stderr",
     "output_type": "stream",
     "text": [
      "No artists with labels found to put in legend.  Note that artists whose label start with an underscore are ignored when legend() is called with no argument.\n"
     ]
    },
    {
     "data": {
      "image/png": "[encoded data removed]",
      "text/plain": [
       "<Figure size 1000x700 with 1 Axes>"
      ]
     },
     "metadata": {},
     "output_type": "display_data"
    }
   ],
   "source": [
    "# Visualizando a disperção de Pontos da Amostra\n",
    "plt.figure(figsize=(10,7))\n",
    "plt.scatter([i for i in range(qtd_amost)], amostra, marker='.')\n",
    "plt.hlines(y=intervalo[0], xmin=0, xmax=qtd_amost, color='red', linestyles='dashed')\n",
    "plt.hlines(y=intervalo[1], xmin=0, xmax=qtd_amost, color='red', linestyles='dashed')\n",
    "plt.hlines(y=amostra_media, xmin=0, xmax=qtd_amost, color='black', linestyles='dashed')\n",
    "plt.title('Gráfico de Disperção de pontos da amostra')\n",
    "plt.legend()\n",
    "plt.grid()\n",
    "plt.show()"
   ]
  },
  {
   "cell_type": "code",
   "execution_count": null,
   "id": "cbd78dc5",
   "metadata": {
    "id": "cbd78dc5"
   },
   "outputs": [],
   "source": []
  }
 ],
 "metadata": {
  "colab": {
   "provenance": []
  },
  "kernelspec": {
   "display_name": "Python 3 (ipykernel)",
   "language": "python",
   "name": "python3"
  },
  "language_info": {
   "codemirror_mode": {
    "name": "ipython",
    "version": 3
   },
   "file_extension": ".py",
   "mimetype": "text/x-python",
   "name": "python",
   "nbconvert_exporter": "python",
   "pygments_lexer": "ipython3",
   "version": "3.11.3"
  }
 },
 "nbformat": 4,
 "nbformat_minor": 5
}
