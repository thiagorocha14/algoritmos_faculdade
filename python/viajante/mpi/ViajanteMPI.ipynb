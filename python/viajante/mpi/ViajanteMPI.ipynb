{
 "cells": [
  {
   "attachments": {},
   "cell_type": "markdown",
   "metadata": {
    "collapsed": false
   },
   "source": [
    "# Problema da Caixeiro Viajante\n",
    "## Implementação Serial"
   ]
  },
  {
   "cell_type": "code",
   "execution_count": 5,
   "metadata": {
    "ExecuteTime": {
     "end_time": "2023-05-06T16:14:48.336083900Z",
     "start_time": "2023-05-06T16:14:46.574438400Z"
    },
    "collapsed": false
   },
   "outputs": [],
   "source": [
    "import time as t\n",
    "import matplotlib.pyplot as plt\n",
    "import numpy as np\n",
    "from scipy.stats import norm"
   ]
  },
  {
   "cell_type": "code",
   "execution_count": 2,
   "id": "c1aff8d5",
   "metadata": {
    "ExecuteTime": {
     "end_time": "2023-05-06T16:18:35.800169300Z",
     "start_time": "2023-05-06T16:18:35.778070600Z"
    },
    "colab": {
     "base_uri": "https://localhost:8080/"
    },
    "id": "c1aff8d5",
    "outputId": "85544579-d0ad-436b-baf8-3dbb59f1f2b3"
   },
   "outputs": [
    {
     "name": "stdout",
     "output_type": "stream",
     "text": [
      "Writing caixeiro_mpi.py\n"
     ]
    }
   ],
   "source": [
    "%%writefile caixeiro_mpi.py\n",
    "# Importação das bibliotecas\n",
    "import random\n",
    "import sys\n",
    "import math\n",
    "#Importando MPI\n",
    "from mpi4py import MPI\n",
    "\n",
    "comm = MPI.COMM_WORLD\n",
    "\n",
    "#Definindo o rank e o size\n",
    "rank = comm.rank\n",
    "size = comm.size\n",
    "status = MPI.Status()\n",
    "\n",
    "# CONSTANTES DEFINIDAS NA EXECUÇÃO\n",
    "QTD_CIDADES   = int(sys.argv[1])\n",
    "DIST_MAX      = int(sys.argv[2])\n",
    "DIST_MIN      = int(sys.argv[3])\n",
    "IMPRESSAO     = sys.argv[4]\n",
    "\n",
    "qtd_processos = size\n",
    "if qtd_processos > QTD_CIDADES:\n",
    "    qtd_processos = QTD_CIDADES\n",
    "\n",
    "# Cálculo de Custos\n",
    "def calcular_custos(lista, matriz_custo):\n",
    "    custo = 0\n",
    "    for pos_dest in range(1,len(lista)):\n",
    "        if lista[pos_dest] > lista[pos_dest-1]:\n",
    "            custo += matriz_custo[lista[pos_dest-1]][lista[pos_dest]]\n",
    "        else:\n",
    "            custo += matriz_custo[lista[pos_dest]][lista[pos_dest-1]]\n",
    "    return custo\n",
    "\n",
    "def permutacoes(lista):\n",
    "    if len(lista) == 0:\n",
    "        return[[]]\n",
    "    combinacoes = []\n",
    "    for i in range(len(lista)):\n",
    "        valor_atual = lista[i]\n",
    "        lista_restante = lista[:i]+lista[i+1:]\n",
    "        lista_permutacoes = permutacoes(lista_restante)\n",
    "        for permutacao in lista_permutacoes:\n",
    "            combinacoes.append([valor_atual]+permutacao)\n",
    "    return combinacoes\n",
    "\n",
    "def gerar_listas_e_enviar_pros_processos(lista_cidades, matriz_custo):\n",
    "    matriz_informacoes = [x for x in range(1, qtd_processos)]\n",
    "    for x in lista_cidades:\n",
    "        process = x\n",
    "        cidade_faltante = x\n",
    "\n",
    "        lista_temp = lista_cidades.copy()\n",
    "        lista_temp.remove(x)\n",
    "\n",
    "        informacoes = (lista_temp, cidade_faltante)\n",
    "        if process >= qtd_processos:\n",
    "            process = process % qtd_processos + 1\n",
    "            matriz_informacoes[process-1].append(informacoes)\n",
    "        else:\n",
    "            matriz_informacoes[process-1] = [informacoes]\n",
    "    for i in range(0, qtd_processos-1):\n",
    "        comm.send((matriz_custo, matriz_informacoes[i]), dest=i+1)\n",
    "\n",
    "\n",
    "\n",
    "def gerar_combinacao_inicial(qtd_cidades):\n",
    "    combinacao = [x for x in range(1, qtd_cidades)]\n",
    "    return combinacao\n",
    "\n",
    "# Função geradora do custo (Matriz de Custo)\n",
    "def gera_matriz_custo(qtd_cidades, dist_max, dist_min):\n",
    "    random.seed(12)\n",
    "    matriz_custo = []\n",
    "    for cid_origem in range(qtd_cidades):\n",
    "        matriz_custo.append([])\n",
    "        for cid_destino in range(qtd_cidades):\n",
    "            if cid_origem < cid_destino:\n",
    "                matriz_custo[cid_origem].append(random.randint(dist_max, dist_min))\n",
    "            else:\n",
    "                matriz_custo[cid_origem].append(0)\n",
    "\n",
    "    print('** CIDADE **')\n",
    "    for cid_origem in range(QTD_CIDADES):\n",
    "        print(matriz_custo[cid_origem])\n",
    "    return matriz_custo\n",
    "\n",
    "def receber_combinacoes():\n",
    "    melhores_combinacao_final = []\n",
    "    for i in range(1, qtd_processos):\n",
    "        melhores_combinacoes  = comm.recv(source=i)\n",
    "        for combinacao in melhores_combinacoes:\n",
    "            melhor_combinacao = combinacao\n",
    "            if melhores_combinacao_final == []:\n",
    "                melhores_combinacao_final = [melhor_combinacao]\n",
    "            elif melhor_combinacao[1] < melhores_combinacao_final[0][1]:\n",
    "                melhores_combinacao_final = [melhor_combinacao]\n",
    "            elif melhor_combinacao[1] == melhores_combinacao_final[0][1]:\n",
    "                melhores_combinacao_final.append(melhor_combinacao)\n",
    "    return melhores_combinacao_final\n",
    "\n",
    "def melhores_combinacoes(informacoes):\n",
    "    melhores_combinacoes = []\n",
    "\n",
    "    for info in informacoes:\n",
    "        lista_cidades = info[0]\n",
    "        cidade_faltante = info[1]\n",
    "        combinacoes = permutacoes(lista_cidades)\n",
    "        for combinacao in combinacoes:\n",
    "            combinacao.insert(0, cidade_faltante)\n",
    "            combinacao.insert(0,0)\n",
    "            combinacao.append(0)\n",
    "            custo = calcular_custos(combinacao, matriz_custo)\n",
    "            if melhores_combinacoes == []:\n",
    "                melhores_combinacoes = [[combinacao, custo]]\n",
    "            elif custo < melhores_combinacoes[0][1]:\n",
    "                melhores_combinacoes = [[combinacao, custo]]\n",
    "            elif custo == melhores_combinacoes[0][1]:\n",
    "                melhores_combinacoes.append([combinacao, custo])\n",
    "\n",
    "    return melhores_combinacoes\n",
    "\n",
    "\n",
    "if rank == 0:\n",
    "    matriz_custo = gera_matriz_custo(QTD_CIDADES, DIST_MAX, DIST_MIN)\n",
    "    combinacao_inicial = gerar_combinacao_inicial(QTD_CIDADES)\n",
    "    gerar_listas_e_enviar_pros_processos(combinacao_inicial, matriz_custo)\n",
    "    melhores_combinacoes = receber_combinacoes()\n",
    "    print('Melhores Combinacoes:', melhores_combinacoes)\n",
    "else:\n",
    "    if rank < qtd_processos:\n",
    "        matriz_custo, informacoes = comm.recv(source=0)\n",
    "        melhores_combinacoes = melhores_combinacoes(informacoes)\n",
    "        comm.send(melhores_combinacoes, dest=0)\n"
   ]
  },
  {
   "attachments": {},
   "cell_type": "markdown",
   "id": "8e632d34",
   "metadata": {
    "id": "8e632d34"
   },
   "source": [
    "## Teste do código serial com passagem de parâmetros"
   ]
  },
  {
   "cell_type": "code",
   "execution_count": 6,
   "id": "f11e99d5",
   "metadata": {
    "ExecuteTime": {
     "end_time": "2023-05-06T16:19:12.885083500Z",
     "start_time": "2023-05-06T16:19:12.834470Z"
    },
    "colab": {
     "base_uri": "https://localhost:8080/"
    },
    "id": "f11e99d5",
    "outputId": "f7c02d42-93ba-439c-fcf4-1b9423813d91",
    "scrolled": false
   },
   "outputs": [
    {
     "name": "stdout",
     "output_type": "stream",
     "text": [
      "** CIDADE **\n",
      "[0, 9, 6, 7, 4, 8, 2, 7, 9, 6]\n",
      "[0, 0, 9, 5, 2, 4, 9, 7, 4, 7]\n",
      "[0, 0, 0, 5, 2, 5, 3, 7, 8, 3]\n",
      "[0, 0, 0, 0, 2, 2, 5, 3, 8, 9]\n",
      "[0, 0, 0, 0, 0, 3, 8, 4, 7, 4]\n",
      "[0, 0, 0, 0, 0, 0, 2, 4, 3, 8]\n",
      "[0, 0, 0, 0, 0, 0, 0, 8, 9, 9]\n",
      "[0, 0, 0, 0, 0, 0, 0, 0, 8, 2]\n",
      "[0, 0, 0, 0, 0, 0, 0, 0, 0, 3]\n",
      "[0, 0, 0, 0, 0, 0, 0, 0, 0, 0]\n",
      "Melhores Combinacoes: [[[0, 6, 2, 9, 7, 3, 5, 8, 1, 4, 0], 28], [[0, 6, 5, 3, 7, 9, 8, 1, 4, 2, 0], 28], [[0, 2, 4, 1, 8, 9, 7, 3, 5, 6, 0], 28], [[0, 4, 1, 8, 5, 3, 7, 9, 2, 6, 0], 28]]\n"
     ]
    }
   ],
   "source": [
    "# Teste QTD_CIDADES, DIST_MIN, DIST_MAX, PRINT\n",
    "!mpiexec -n 6 python caixeiro_mpi.py 10 2 9 'True'"
   ]
  },
  {
   "attachments": {},
   "cell_type": "markdown",
   "id": "82a4192a",
   "metadata": {
    "id": "82a4192a"
   },
   "source": [
    "## Definição de constantes"
   ]
  },
  {
   "cell_type": "code",
   "execution_count": 18,
   "id": "8bc23242",
   "metadata": {
    "id": "8bc23242"
   },
   "outputs": [],
   "source": [
    "QTD_CIDADES   = 11\n",
    "DIST_MIN      = 2\n",
    "DIST_MAX      = 9"
   ]
  },
  {
   "attachments": {},
   "cell_type": "markdown",
   "id": "003e5699",
   "metadata": {
    "id": "003e5699"
   },
   "source": [
    "## Fazendo testes de complexidade \n",
    "### <font color='Red'>(Execução Demorada!)</font>"
   ]
  },
  {
   "cell_type": "code",
   "execution_count": 20,
   "id": "73ec4fc5",
   "metadata": {
    "id": "73ec4fc5"
   },
   "outputs": [
    {
     "name": "stdout",
     "output_type": "stream",
     "text": [
      "^C\n",
      "[(5, 3.9794209003448486), (6, 4.029872179031372), (7, 3.9218637943267822), (8, 3.9856979846954346), (9, 1.7830123901367188), (10, 5.589579343795776), (11, 4.266306161880493)]\n",
      "[(6, 35.81478810310364), (7, 36.26884961128235), (8, 35.29677414894104), (9, 35.87128186225891), (10, 16.04711151123047), (11, 50.30621409416199), (12, 38.39675545692444)]\n"
     ]
    }
   ],
   "source": [
    "# Teste de estresse\n",
    "tempo_exec=[]\n",
    "tempo_teorico=[]\n",
    "for i in range(5, QTD_CIDADES+1):\n",
    "    tempo_atual = t.time()\n",
    "    # Teste QTD_CIDADES, DIST_MIN, DIST_MAX\n",
    "    string = 'mpiexec -n 6 python caixeiro_mpi.py '+str(QTD_CIDADES)+' '+str(DIST_MIN)+' '+\\\n",
    "                str(DIST_MAX)+' \\'False\\' > NUL' #Jogando a saida para null para não poluir o terminal\n",
    "    !$string\n",
    "    tempo_final = t.time()\n",
    "    tempo_final -= tempo_atual\n",
    "    tempo_exec.append((i,tempo_final))\n",
    "    #Comparando os resultados com os valores de f(i) = 2*f(i-1)\n",
    "    tempo_teorico.append((i+1, tempo_final*DIST_MAX))\n",
    "print(tempo_exec)\n",
    "print(tempo_teorico)"
   ]
  },
  {
   "attachments": {},
   "cell_type": "markdown",
   "id": "61739565",
   "metadata": {
    "id": "61739565"
   },
   "source": [
    "## Gráfico de complexidade X Tamanho da List"
   ]
  },
  {
   "cell_type": "code",
   "execution_count": 6,
   "id": "6d2b0bd6",
   "metadata": {
    "id": "6d2b0bd6",
    "outputId": "046c4fd8-68da-4e26-e5da-ab3a41be4b45"
   },
   "outputs": [
    {
     "data": {
      "image/png": "[encoded data removed]",
      "text/plain": [
       "<Figure size 1000x700 with 1 Axes>"
      ]
     },
     "metadata": {},
     "output_type": "display_data"
    }
   ],
   "source": [
    "plt.figure(figsize=(10,7))\n",
    "plt.plot([tempo_exec[i][0] for i in range(len(tempo_exec))], [tempo_exec[i][1] for i in range(len(tempo_exec))], label='Alg.Serial')\n",
    "plt.plot([tempo_teorico[i][0] for i in range(len(tempo_teorico)-1)], [tempo_teorico[i][1] for i in range(len(tempo_teorico)-1)], label='Previsto')\n",
    "plt.title('Tempo de execução')\n",
    "plt.xlabel('Tamanho da Lista')\n",
    "plt.ylabel('Segundos')\n",
    "plt.legend()\n",
    "plt.grid()\n",
    "plt.show()"
   ]
  },
  {
   "attachments": {},
   "cell_type": "markdown",
   "id": "d7fd2cf7",
   "metadata": {
    "id": "d7fd2cf7"
   },
   "source": [
    "## Fazendo testes com constantes definidas (1000 testes) \n",
    "### <font color='Red'>(Execução Demorada!)</font>\n",
    "### Novas constantes para os testes"
   ]
  },
  {
   "cell_type": "code",
   "execution_count": 6,
   "id": "f6bb23e2",
   "metadata": {
    "id": "f6bb23e2"
   },
   "outputs": [],
   "source": [
    "QTD_CIDADES   = 11\n",
    "DIST_MIN      = 2\n",
    "DIST_MAX      = 9"
   ]
  },
  {
   "cell_type": "code",
   "execution_count": 7,
   "id": "c5e66ce0",
   "metadata": {
    "id": "c5e66ce0"
   },
   "outputs": [],
   "source": [
    "TAM_POP   = 1000  # Tamanho da População"
   ]
  },
  {
   "cell_type": "code",
   "execution_count": 8,
   "id": "744f820e",
   "metadata": {
    "id": "744f820e",
    "outputId": "dbb274fc-a74a-43ea-af8a-b160a83d03b3",
    "scrolled": true
   },
   "outputs": [
    {
     "name": "stdout",
     "output_type": "stream",
     "text": [
      "Execução: 0 - Tempo: 4.0537 seg.\n",
      "Execução: 1 - Tempo: 3.9789 seg.\n",
      "Execução: 2 - Tempo: 3.9863 seg.\n",
      "Execução: 3 - Tempo: 3.9516 seg.\n",
      "Execução: 4 - Tempo: 3.7520 seg.\n",
      "Execução: 5 - Tempo: 3.9258 seg.\n",
      "Execução: 6 - Tempo: 3.9043 seg.\n",
      "Execução: 7 - Tempo: 3.8589 seg.\n",
      "Execução: 8 - Tempo: 3.9515 seg.\n",
      "Execução: 9 - Tempo: 3.9108 seg.\n",
      "Execução: 10 - Tempo: 3.9710 seg.\n",
      "Execução: 11 - Tempo: 3.8941 seg.\n",
      "Execução: 12 - Tempo: 3.8339 seg.\n",
      "Execução: 13 - Tempo: 4.0547 seg.\n",
      "Execução: 14 - Tempo: 4.0411 seg.\n",
      "Execução: 15 - Tempo: 4.0186 seg.\n",
      "Execução: 16 - Tempo: 4.0379 seg.\n",
      "Execução: 17 - Tempo: 3.9749 seg.\n",
      "Execução: 18 - Tempo: 3.9495 seg.\n",
      "Execução: 19 - Tempo: 3.9915 seg.\n",
      "Execução: 20 - Tempo: 4.1576 seg.\n",
      "Execução: 21 - Tempo: 4.0105 seg.\n",
      "Execução: 22 - Tempo: 4.0112 seg.\n",
      "Execução: 23 - Tempo: 3.8221 seg.\n",
      "Execução: 24 - Tempo: 3.9982 seg.\n",
      "Execução: 25 - Tempo: 4.0678 seg.\n",
      "Execução: 26 - Tempo: 4.0481 seg.\n",
      "Execução: 27 - Tempo: 4.0899 seg.\n",
      "Execução: 28 - Tempo: 3.9774 seg.\n",
      "Execução: 29 - Tempo: 3.9447 seg.\n",
      "Execução: 30 - Tempo: 4.0566 seg.\n",
      "Execução: 31 - Tempo: 4.0358 seg.\n",
      "Execução: 32 - Tempo: 3.8784 seg.\n",
      "Execução: 33 - Tempo: 4.0483 seg.\n",
      "Execução: 34 - Tempo: 3.9621 seg.\n",
      "Execução: 35 - Tempo: 4.0842 seg.\n",
      "Execução: 36 - Tempo: 4.0595 seg.\n",
      "Execução: 37 - Tempo: 5.5147 seg.\n",
      "Execução: 38 - Tempo: 6.8034 seg.\n",
      "Execução: 39 - Tempo: 3.9600 seg.\n",
      "Execução: 40 - Tempo: 4.0701 seg.\n",
      "Execução: 41 - Tempo: 4.1255 seg.\n",
      "Execução: 42 - Tempo: 4.0430 seg.\n",
      "Execução: 43 - Tempo: 4.2154 seg.\n",
      "Execução: 44 - Tempo: 3.9352 seg.\n",
      "Execução: 45 - Tempo: 3.9221 seg.\n",
      "Execução: 46 - Tempo: 4.1453 seg.\n",
      "Execução: 47 - Tempo: 4.1260 seg.\n",
      "Execução: 48 - Tempo: 4.2467 seg.\n",
      "Execução: 49 - Tempo: 4.0281 seg.\n",
      "Execução: 50 - Tempo: 4.3935 seg.\n",
      "Execução: 51 - Tempo: 4.1081 seg.\n",
      "Execução: 52 - Tempo: 4.0670 seg.\n",
      "Execução: 53 - Tempo: 4.0978 seg.\n",
      "Execução: 54 - Tempo: 4.0563 seg.\n",
      "Execução: 55 - Tempo: 4.1714 seg.\n",
      "Execução: 56 - Tempo: 4.0686 seg.\n",
      "Execução: 57 - Tempo: 3.8719 seg.\n",
      "Execução: 58 - Tempo: 4.1222 seg.\n",
      "Execução: 59 - Tempo: 4.1379 seg.\n",
      "Execução: 60 - Tempo: 4.0478 seg.\n",
      "Execução: 61 - Tempo: 4.0456 seg.\n",
      "Execução: 62 - Tempo: 4.1204 seg.\n",
      "Execução: 63 - Tempo: 4.2060 seg.\n",
      "Execução: 64 - Tempo: 4.1642 seg.\n",
      "Execução: 65 - Tempo: 4.1519 seg.\n",
      "Execução: 66 - Tempo: 4.0736 seg.\n",
      "Execução: 67 - Tempo: 4.1217 seg.\n",
      "Execução: 68 - Tempo: 4.2654 seg.\n",
      "Execução: 69 - Tempo: 4.1642 seg.\n",
      "Execução: 70 - Tempo: 4.0605 seg.\n",
      "Execução: 71 - Tempo: 4.2024 seg.\n",
      "Execução: 72 - Tempo: 4.1555 seg.\n",
      "Execução: 73 - Tempo: 3.9740 seg.\n",
      "Execução: 74 - Tempo: 4.0764 seg.\n",
      "Execução: 75 - Tempo: 4.0466 seg.\n",
      "Execução: 76 - Tempo: 4.2218 seg.\n",
      "Execução: 77 - Tempo: 3.9718 seg.\n",
      "Execução: 78 - Tempo: 4.0888 seg.\n",
      "Execução: 79 - Tempo: 4.0908 seg.\n",
      "Execução: 80 - Tempo: 4.0597 seg.\n",
      "Execução: 81 - Tempo: 3.9903 seg.\n",
      "Execução: 82 - Tempo: 4.1175 seg.\n",
      "Execução: 83 - Tempo: 3.9920 seg.\n",
      "Execução: 84 - Tempo: 4.2142 seg.\n",
      "Execução: 85 - Tempo: 4.1509 seg.\n",
      "Execução: 86 - Tempo: 4.1426 seg.\n",
      "Execução: 87 - Tempo: 3.9935 seg.\n",
      "Execução: 88 - Tempo: 4.0371 seg.\n",
      "Execução: 89 - Tempo: 4.1538 seg.\n",
      "Execução: 90 - Tempo: 4.1940 seg.\n",
      "Execução: 91 - Tempo: 4.1234 seg.\n",
      "Execução: 92 - Tempo: 4.2194 seg.\n",
      "Execução: 93 - Tempo: 3.9336 seg.\n",
      "Execução: 94 - Tempo: 3.9553 seg.\n",
      "Execução: 95 - Tempo: 4.1204 seg.\n",
      "Execução: 96 - Tempo: 4.1045 seg.\n",
      "Execução: 97 - Tempo: 4.0790 seg.\n",
      "Execução: 98 - Tempo: 4.0770 seg.\n",
      "Execução: 99 - Tempo: 4.1661 seg.\n",
      "Execução: 100 - Tempo: 4.1121 seg.\n",
      "Execução: 101 - Tempo: 4.1552 seg.\n",
      "Execução: 102 - Tempo: 4.0365 seg.\n",
      "Execução: 103 - Tempo: 4.1871 seg.\n",
      "Execução: 104 - Tempo: 3.9537 seg.\n",
      "Execução: 105 - Tempo: 4.1640 seg.\n",
      "Execução: 106 - Tempo: 4.1977 seg.\n",
      "Execução: 107 - Tempo: 4.2376 seg.\n",
      "Execução: 108 - Tempo: 3.9862 seg.\n",
      "Execução: 109 - Tempo: 4.1909 seg.\n",
      "Execução: 110 - Tempo: 4.1201 seg.\n",
      "Execução: 111 - Tempo: 4.1112 seg.\n",
      "Execução: 112 - Tempo: 4.0662 seg.\n",
      "Execução: 113 - Tempo: 4.1508 seg.\n",
      "Execução: 114 - Tempo: 4.1203 seg.\n",
      "Execução: 115 - Tempo: 4.1617 seg.\n",
      "Execução: 116 - Tempo: 4.1420 seg.\n",
      "Execução: 117 - Tempo: 4.0564 seg.\n",
      "Execução: 118 - Tempo: 3.9741 seg.\n",
      "Execução: 119 - Tempo: 4.0744 seg.\n",
      "Execução: 120 - Tempo: 4.2125 seg.\n",
      "Execução: 121 - Tempo: 4.1847 seg.\n",
      "Execução: 122 - Tempo: 4.0133 seg.\n",
      "Execução: 123 - Tempo: 4.0703 seg.\n",
      "Execução: 124 - Tempo: 4.1021 seg.\n",
      "Execução: 125 - Tempo: 3.9492 seg.\n",
      "Execução: 126 - Tempo: 4.1467 seg.\n",
      "Execução: 127 - Tempo: 4.2019 seg.\n",
      "Execução: 128 - Tempo: 4.1931 seg.\n",
      "Execução: 129 - Tempo: 4.0190 seg.\n",
      "Execução: 130 - Tempo: 4.0770 seg.\n",
      "Execução: 131 - Tempo: 5.6709 seg.\n",
      "Execução: 132 - Tempo: 4.0591 seg.\n",
      "Execução: 133 - Tempo: 4.1230 seg.\n",
      "Execução: 134 - Tempo: 4.0572 seg.\n",
      "Execução: 135 - Tempo: 4.0523 seg.\n",
      "Execução: 136 - Tempo: 4.1003 seg.\n",
      "Execução: 137 - Tempo: 4.0310 seg.\n",
      "Execução: 138 - Tempo: 4.0323 seg.\n",
      "Execução: 139 - Tempo: 4.0126 seg.\n",
      "Execução: 140 - Tempo: 4.1459 seg.\n",
      "Execução: 141 - Tempo: 3.9612 seg.\n",
      "Execução: 142 - Tempo: 4.2450 seg.\n",
      "Execução: 143 - Tempo: 4.1330 seg.\n",
      "Execução: 144 - Tempo: 4.1393 seg.\n",
      "Execução: 145 - Tempo: 4.0378 seg.\n",
      "Execução: 146 - Tempo: 3.9962 seg.\n",
      "Execução: 147 - Tempo: 4.0449 seg.\n",
      "Execução: 148 - Tempo: 4.0479 seg.\n",
      "Execução: 149 - Tempo: 4.1620 seg.\n",
      "Execução: 150 - Tempo: 4.0314 seg.\n",
      "Execução: 151 - Tempo: 4.1707 seg.\n",
      "Execução: 152 - Tempo: 4.6146 seg.\n",
      "Execução: 153 - Tempo: 4.0570 seg.\n",
      "Execução: 154 - Tempo: 4.2059 seg.\n",
      "Execução: 155 - Tempo: 4.0180 seg.\n",
      "Execução: 156 - Tempo: 4.1903 seg.\n",
      "Execução: 157 - Tempo: 4.1876 seg.\n",
      "Execução: 158 - Tempo: 4.0629 seg.\n",
      "Execução: 159 - Tempo: 4.1675 seg.\n",
      "Execução: 160 - Tempo: 3.9467 seg.\n",
      "Execução: 161 - Tempo: 4.1188 seg.\n",
      "Execução: 162 - Tempo: 4.1499 seg.\n",
      "Execução: 163 - Tempo: 4.1219 seg.\n",
      "Execução: 164 - Tempo: 4.1119 seg.\n",
      "Execução: 165 - Tempo: 4.1193 seg.\n",
      "Execução: 166 - Tempo: 4.1682 seg.\n",
      "Execução: 167 - Tempo: 4.1873 seg.\n",
      "Execução: 168 - Tempo: 4.1054 seg.\n",
      "Execução: 169 - Tempo: 4.1138 seg.\n",
      "Execução: 170 - Tempo: 4.2072 seg.\n",
      "Execução: 171 - Tempo: 4.0018 seg.\n",
      "Execução: 172 - Tempo: 4.0995 seg.\n",
      "Execução: 173 - Tempo: 4.1807 seg.\n",
      "Execução: 174 - Tempo: 4.0468 seg.\n",
      "Execução: 175 - Tempo: 4.0291 seg.\n",
      "Execução: 176 - Tempo: 4.2116 seg.\n",
      "Execução: 177 - Tempo: 4.2484 seg.\n",
      "Execução: 178 - Tempo: 4.1642 seg.\n",
      "Execução: 179 - Tempo: 3.9821 seg.\n",
      "Execução: 180 - Tempo: 4.0605 seg.\n",
      "Execução: 181 - Tempo: 4.1657 seg.\n",
      "Execução: 182 - Tempo: 4.1850 seg.\n",
      "Execução: 183 - Tempo: 4.1321 seg.\n",
      "Execução: 184 - Tempo: 4.1093 seg.\n",
      "Execução: 185 - Tempo: 4.1814 seg.\n",
      "Execução: 186 - Tempo: 4.1034 seg.\n",
      "Execução: 187 - Tempo: 4.1422 seg.\n",
      "Execução: 188 - Tempo: 4.1296 seg.\n",
      "Execução: 189 - Tempo: 4.1528 seg.\n",
      "Execução: 190 - Tempo: 4.1320 seg.\n",
      "Execução: 191 - Tempo: 4.1562 seg.\n",
      "Execução: 192 - Tempo: 4.1051 seg.\n",
      "Execução: 193 - Tempo: 4.0723 seg.\n",
      "Execução: 194 - Tempo: 4.1772 seg.\n",
      "Execução: 195 - Tempo: 4.2076 seg.\n",
      "Execução: 196 - Tempo: 4.0284 seg.\n",
      "Execução: 197 - Tempo: 4.1529 seg.\n",
      "Execução: 198 - Tempo: 3.9429 seg.\n",
      "Execução: 199 - Tempo: 4.1017 seg.\n",
      "Execução: 200 - Tempo: 3.9918 seg.\n",
      "Execução: 201 - Tempo: 3.9413 seg.\n",
      "Execução: 202 - Tempo: 4.0080 seg.\n",
      "Execução: 203 - Tempo: 4.1440 seg.\n",
      "Execução: 204 - Tempo: 4.1521 seg.\n",
      "Execução: 205 - Tempo: 4.0392 seg.\n",
      "Execução: 206 - Tempo: 4.1833 seg.\n",
      "Execução: 207 - Tempo: 4.1544 seg.\n",
      "Execução: 208 - Tempo: 4.2299 seg.\n",
      "Execução: 209 - Tempo: 4.0593 seg.\n",
      "Execução: 210 - Tempo: 3.9694 seg.\n",
      "Execução: 211 - Tempo: 4.0981 seg.\n",
      "Execução: 212 - Tempo: 4.1950 seg.\n",
      "Execução: 213 - Tempo: 3.9861 seg.\n",
      "Execução: 214 - Tempo: 4.1506 seg.\n",
      "Execução: 215 - Tempo: 4.0989 seg.\n",
      "Execução: 216 - Tempo: 4.0394 seg.\n",
      "Execução: 217 - Tempo: 4.1121 seg.\n",
      "Execução: 218 - Tempo: 4.1262 seg.\n",
      "Execução: 219 - Tempo: 4.0976 seg.\n",
      "Execução: 220 - Tempo: 3.9871 seg.\n",
      "Execução: 221 - Tempo: 4.1120 seg.\n",
      "Execução: 222 - Tempo: 4.1157 seg.\n",
      "Execução: 223 - Tempo: 4.1244 seg.\n",
      "Execução: 224 - Tempo: 3.9739 seg.\n",
      "Execução: 225 - Tempo: 4.1562 seg.\n",
      "Execução: 226 - Tempo: 4.1277 seg.\n",
      "Execução: 227 - Tempo: 4.1658 seg.\n",
      "Execução: 228 - Tempo: 4.2756 seg.\n",
      "Execução: 229 - Tempo: 4.1529 seg.\n",
      "Execução: 230 - Tempo: 4.0905 seg.\n",
      "Execução: 231 - Tempo: 4.1438 seg.\n",
      "Execução: 232 - Tempo: 3.9148 seg.\n",
      "Execução: 233 - Tempo: 4.1644 seg.\n",
      "Execução: 234 - Tempo: 4.1101 seg.\n",
      "Execução: 235 - Tempo: 4.2244 seg.\n",
      "Execução: 236 - Tempo: 4.1864 seg.\n",
      "Execução: 237 - Tempo: 4.2649 seg.\n",
      "Execução: 238 - Tempo: 4.2728 seg.\n",
      "Execução: 239 - Tempo: 5.5144 seg.\n",
      "Execução: 240 - Tempo: 4.1959 seg.\n",
      "Execução: 241 - Tempo: 3.9232 seg.\n",
      "Execução: 242 - Tempo: 4.1323 seg.\n",
      "Execução: 243 - Tempo: 4.2776 seg.\n",
      "Execução: 244 - Tempo: 4.2038 seg.\n",
      "Execução: 245 - Tempo: 4.1255 seg.\n",
      "Execução: 246 - Tempo: 4.1973 seg.\n",
      "Execução: 247 - Tempo: 3.9475 seg.\n",
      "Execução: 248 - Tempo: 4.1139 seg.\n",
      "Execução: 249 - Tempo: 4.1846 seg.\n",
      "Execução: 250 - Tempo: 4.1660 seg.\n",
      "Execução: 251 - Tempo: 4.2245 seg.\n",
      "Execução: 252 - Tempo: 4.1578 seg.\n",
      "Execução: 253 - Tempo: 4.1942 seg.\n",
      "Execução: 254 - Tempo: 4.2610 seg.\n",
      "Execução: 255 - Tempo: 4.0924 seg.\n",
      "Execução: 256 - Tempo: 4.1272 seg.\n",
      "Execução: 257 - Tempo: 3.9947 seg.\n",
      "Execução: 258 - Tempo: 3.9747 seg.\n",
      "Execução: 259 - Tempo: 4.2338 seg.\n",
      "Execução: 260 - Tempo: 4.1434 seg.\n",
      "Execução: 261 - Tempo: 4.0037 seg.\n",
      "Execução: 262 - Tempo: 4.1468 seg.\n",
      "Execução: 263 - Tempo: 4.0486 seg.\n",
      "Execução: 264 - Tempo: 4.0272 seg.\n",
      "Execução: 265 - Tempo: 4.0929 seg.\n",
      "Execução: 266 - Tempo: 4.1712 seg.\n",
      "Execução: 267 - Tempo: 4.2311 seg.\n",
      "Execução: 268 - Tempo: 4.1732 seg.\n",
      "Execução: 269 - Tempo: 4.0509 seg.\n",
      "Execução: 270 - Tempo: 4.1744 seg.\n",
      "Execução: 271 - Tempo: 4.1495 seg.\n",
      "Execução: 272 - Tempo: 4.1131 seg.\n",
      "Execução: 273 - Tempo: 4.2803 seg.\n",
      "Execução: 274 - Tempo: 4.3289 seg.\n",
      "Execução: 275 - Tempo: 4.1543 seg.\n",
      "Execução: 276 - Tempo: 4.1360 seg.\n",
      "Execução: 277 - Tempo: 4.0988 seg.\n",
      "Execução: 278 - Tempo: 3.9761 seg.\n",
      "Execução: 279 - Tempo: 4.1342 seg.\n",
      "Execução: 280 - Tempo: 4.1831 seg.\n",
      "Execução: 281 - Tempo: 4.1453 seg.\n",
      "Execução: 282 - Tempo: 4.1664 seg.\n",
      "Execução: 283 - Tempo: 4.1321 seg.\n",
      "Execução: 284 - Tempo: 4.1902 seg.\n",
      "Execução: 285 - Tempo: 4.0195 seg.\n",
      "Execução: 286 - Tempo: 4.2683 seg.\n",
      "Execução: 287 - Tempo: 4.4745 seg.\n",
      "Execução: 288 - Tempo: 4.1650 seg.\n",
      "Execução: 289 - Tempo: 4.0632 seg.\n",
      "Execução: 290 - Tempo: 4.2103 seg.\n",
      "Execução: 291 - Tempo: 3.9618 seg.\n",
      "Execução: 292 - Tempo: 4.1853 seg.\n",
      "Execução: 293 - Tempo: 4.0714 seg.\n",
      "Execução: 294 - Tempo: 4.1764 seg.\n",
      "Execução: 295 - Tempo: 4.2429 seg.\n",
      "Execução: 296 - Tempo: 4.1637 seg.\n",
      "Execução: 297 - Tempo: 4.2356 seg.\n",
      "Execução: 298 - Tempo: 4.1864 seg.\n",
      "Execução: 299 - Tempo: 4.2803 seg.\n",
      "Execução: 300 - Tempo: 4.2058 seg.\n",
      "Execução: 301 - Tempo: 4.2148 seg.\n",
      "Execução: 302 - Tempo: 4.2359 seg.\n",
      "Execução: 303 - Tempo: 4.1811 seg.\n",
      "Execução: 304 - Tempo: 4.2772 seg.\n",
      "Execução: 305 - Tempo: 4.1553 seg.\n",
      "Execução: 306 - Tempo: 4.2367 seg.\n",
      "Execução: 307 - Tempo: 4.1397 seg.\n",
      "Execução: 308 - Tempo: 4.1739 seg.\n",
      "Execução: 309 - Tempo: 3.9848 seg.\n",
      "Execução: 310 - Tempo: 4.1986 seg.\n",
      "Execução: 311 - Tempo: 4.1941 seg.\n",
      "Execução: 312 - Tempo: 4.2278 seg.\n",
      "Execução: 313 - Tempo: 4.0476 seg.\n",
      "Execução: 314 - Tempo: 4.2189 seg.\n",
      "Execução: 315 - Tempo: 4.1107 seg.\n",
      "Execução: 316 - Tempo: 4.0182 seg.\n",
      "Execução: 317 - Tempo: 4.1050 seg.\n",
      "Execução: 318 - Tempo: 4.0047 seg.\n",
      "Execução: 319 - Tempo: 4.0640 seg.\n",
      "Execução: 320 - Tempo: 4.2353 seg.\n",
      "Execução: 321 - Tempo: 4.1332 seg.\n",
      "Execução: 322 - Tempo: 4.2065 seg.\n",
      "Execução: 323 - Tempo: 5.9159 seg.\n",
      "Execução: 324 - Tempo: 4.1553 seg.\n",
      "Execução: 325 - Tempo: 4.1391 seg.\n",
      "Execução: 326 - Tempo: 4.2034 seg.\n",
      "Execução: 327 - Tempo: 4.2444 seg.\n",
      "Execução: 328 - Tempo: 4.2056 seg.\n",
      "Execução: 329 - Tempo: 4.1579 seg.\n",
      "Execução: 330 - Tempo: 4.1703 seg.\n",
      "Execução: 331 - Tempo: 4.2795 seg.\n",
      "Execução: 332 - Tempo: 4.1545 seg.\n",
      "Execução: 333 - Tempo: 4.1951 seg.\n",
      "Execução: 334 - Tempo: 4.1966 seg.\n",
      "Execução: 335 - Tempo: 4.1601 seg.\n",
      "Execução: 336 - Tempo: 4.2048 seg.\n",
      "Execução: 337 - Tempo: 4.2184 seg.\n",
      "Execução: 338 - Tempo: 4.0651 seg.\n",
      "Execução: 339 - Tempo: 4.1508 seg.\n",
      "Execução: 340 - Tempo: 4.2368 seg.\n",
      "Execução: 341 - Tempo: 4.1512 seg.\n",
      "Execução: 342 - Tempo: 4.1141 seg.\n",
      "Execução: 343 - Tempo: 4.1534 seg.\n",
      "Execução: 344 - Tempo: 3.9560 seg.\n",
      "Execução: 345 - Tempo: 4.1816 seg.\n",
      "Execução: 346 - Tempo: 4.0459 seg.\n",
      "Execução: 347 - Tempo: 4.2311 seg.\n",
      "Execução: 348 - Tempo: 4.1298 seg.\n",
      "Execução: 349 - Tempo: 4.1968 seg.\n",
      "Execução: 350 - Tempo: 4.1960 seg.\n",
      "Execução: 351 - Tempo: 4.1955 seg.\n",
      "Execução: 352 - Tempo: 4.2039 seg.\n",
      "Execução: 353 - Tempo: 3.9531 seg.\n",
      "Execução: 354 - Tempo: 4.0931 seg.\n",
      "Execução: 355 - Tempo: 4.2616 seg.\n",
      "Execução: 356 - Tempo: 4.0265 seg.\n",
      "Execução: 357 - Tempo: 4.1744 seg.\n",
      "Execução: 358 - Tempo: 4.2441 seg.\n",
      "Execução: 359 - Tempo: 4.1432 seg.\n",
      "Execução: 360 - Tempo: 4.2122 seg.\n",
      "Execução: 361 - Tempo: 4.2941 seg.\n",
      "Execução: 362 - Tempo: 3.9929 seg.\n",
      "Execução: 363 - Tempo: 4.1638 seg.\n",
      "Execução: 364 - Tempo: 3.9663 seg.\n",
      "Execução: 365 - Tempo: 4.2000 seg.\n",
      "Execução: 366 - Tempo: 4.1402 seg.\n",
      "Execução: 367 - Tempo: 4.2613 seg.\n",
      "Execução: 368 - Tempo: 4.1871 seg.\n",
      "Execução: 369 - Tempo: 4.0391 seg.\n",
      "Execução: 370 - Tempo: 4.1323 seg.\n",
      "Execução: 371 - Tempo: 4.0608 seg.\n",
      "Execução: 372 - Tempo: 4.1847 seg.\n",
      "Execução: 373 - Tempo: 4.0108 seg.\n",
      "Execução: 374 - Tempo: 4.5179 seg.\n",
      "Execução: 375 - Tempo: 4.1822 seg.\n",
      "Execução: 376 - Tempo: 4.0932 seg.\n",
      "Execução: 377 - Tempo: 4.0986 seg.\n",
      "Execução: 378 - Tempo: 4.1869 seg.\n",
      "Execução: 379 - Tempo: 4.3661 seg.\n",
      "Execução: 380 - Tempo: 4.1954 seg.\n",
      "Execução: 381 - Tempo: 4.1959 seg.\n",
      "Execução: 382 - Tempo: 4.1080 seg.\n",
      "Execução: 383 - Tempo: 4.1668 seg.\n",
      "Execução: 384 - Tempo: 4.0842 seg.\n",
      "Execução: 385 - Tempo: 4.1652 seg.\n",
      "Execução: 386 - Tempo: 4.1823 seg.\n",
      "Execução: 387 - Tempo: 4.0546 seg.\n",
      "Execução: 388 - Tempo: 4.2031 seg.\n",
      "Execução: 389 - Tempo: 4.2882 seg.\n",
      "Execução: 390 - Tempo: 4.1272 seg.\n",
      "Execução: 391 - Tempo: 4.2147 seg.\n",
      "Execução: 392 - Tempo: 4.1642 seg.\n",
      "Execução: 393 - Tempo: 4.1254 seg.\n",
      "Execução: 394 - Tempo: 4.1953 seg.\n",
      "Execução: 395 - Tempo: 4.0491 seg.\n",
      "Execução: 396 - Tempo: 4.0678 seg.\n",
      "Execução: 397 - Tempo: 4.1113 seg.\n",
      "Execução: 398 - Tempo: 4.0572 seg.\n",
      "Execução: 399 - Tempo: 4.1426 seg.\n",
      "Execução: 400 - Tempo: 4.3042 seg.\n",
      "Execução: 401 - Tempo: 4.2057 seg.\n",
      "Execução: 402 - Tempo: 4.2587 seg.\n",
      "Execução: 403 - Tempo: 4.1639 seg.\n",
      "Execução: 404 - Tempo: 4.0406 seg.\n",
      "Execução: 405 - Tempo: 4.1214 seg.\n",
      "Execução: 406 - Tempo: 4.1498 seg.\n",
      "Execução: 407 - Tempo: 4.2063 seg.\n",
      "Execução: 408 - Tempo: 3.9933 seg.\n",
      "Execução: 409 - Tempo: 3.9542 seg.\n",
      "Execução: 410 - Tempo: 4.1836 seg.\n",
      "Execução: 411 - Tempo: 4.1962 seg.\n",
      "Execução: 412 - Tempo: 3.9957 seg.\n",
      "Execução: 413 - Tempo: 4.1303 seg.\n",
      "Execução: 414 - Tempo: 4.1999 seg.\n",
      "Execução: 415 - Tempo: 4.1614 seg.\n",
      "Execução: 416 - Tempo: 4.0449 seg.\n",
      "Execução: 417 - Tempo: 4.1015 seg.\n",
      "Execução: 418 - Tempo: 4.0776 seg.\n",
      "Execução: 419 - Tempo: 4.1744 seg.\n",
      "Execução: 420 - Tempo: 4.2229 seg.\n",
      "Execução: 421 - Tempo: 4.1829 seg.\n",
      "Execução: 422 - Tempo: 4.1884 seg.\n",
      "Execução: 423 - Tempo: 4.0346 seg.\n",
      "Execução: 424 - Tempo: 4.2336 seg.\n",
      "Execução: 425 - Tempo: 4.0880 seg.\n",
      "Execução: 426 - Tempo: 6.2403 seg.\n",
      "Execução: 427 - Tempo: 4.2419 seg.\n",
      "Execução: 428 - Tempo: 4.0682 seg.\n",
      "Execução: 429 - Tempo: 4.0920 seg.\n",
      "Execução: 430 - Tempo: 4.2032 seg.\n",
      "Execução: 431 - Tempo: 4.2320 seg.\n",
      "Execução: 432 - Tempo: 3.9900 seg.\n",
      "Execução: 433 - Tempo: 4.0875 seg.\n",
      "Execução: 434 - Tempo: 4.0313 seg.\n",
      "Execução: 435 - Tempo: 4.1909 seg.\n",
      "Execução: 436 - Tempo: 3.9669 seg.\n",
      "Execução: 437 - Tempo: 4.1722 seg.\n",
      "Execução: 438 - Tempo: 4.0878 seg.\n",
      "Execução: 439 - Tempo: 4.1016 seg.\n",
      "Execução: 440 - Tempo: 4.0581 seg.\n",
      "Execução: 441 - Tempo: 4.0754 seg.\n",
      "Execução: 442 - Tempo: 4.1416 seg.\n",
      "Execução: 443 - Tempo: 3.9820 seg.\n",
      "Execução: 444 - Tempo: 4.1988 seg.\n",
      "Execução: 445 - Tempo: 4.1843 seg.\n",
      "Execução: 446 - Tempo: 4.0918 seg.\n",
      "Execução: 447 - Tempo: 4.2238 seg.\n",
      "Execução: 448 - Tempo: 4.1922 seg.\n",
      "Execução: 449 - Tempo: 4.0883 seg.\n",
      "Execução: 450 - Tempo: 4.1098 seg.\n",
      "Execução: 451 - Tempo: 4.1577 seg.\n",
      "Execução: 452 - Tempo: 4.1954 seg.\n",
      "Execução: 453 - Tempo: 4.1547 seg.\n",
      "Execução: 454 - Tempo: 4.1841 seg.\n",
      "Execução: 455 - Tempo: 4.1204 seg.\n",
      "Execução: 456 - Tempo: 4.1438 seg.\n",
      "Execução: 457 - Tempo: 4.1506 seg.\n",
      "Execução: 458 - Tempo: 4.1099 seg.\n",
      "Execução: 459 - Tempo: 4.2189 seg.\n",
      "Execução: 460 - Tempo: 4.0800 seg.\n",
      "Execução: 461 - Tempo: 4.0889 seg.\n",
      "Execução: 462 - Tempo: 3.9485 seg.\n",
      "Execução: 463 - Tempo: 4.1748 seg.\n",
      "Execução: 464 - Tempo: 3.9441 seg.\n",
      "Execução: 465 - Tempo: 4.1843 seg.\n",
      "Execução: 466 - Tempo: 4.2409 seg.\n",
      "Execução: 467 - Tempo: 4.2164 seg.\n",
      "Execução: 468 - Tempo: 4.3112 seg.\n",
      "Execução: 469 - Tempo: 4.0750 seg.\n",
      "Execução: 470 - Tempo: 4.0373 seg.\n",
      "Execução: 471 - Tempo: 4.1989 seg.\n",
      "Execução: 472 - Tempo: 4.2378 seg.\n",
      "Execução: 473 - Tempo: 4.2163 seg.\n",
      "Execução: 474 - Tempo: 4.0930 seg.\n",
      "Execução: 475 - Tempo: 4.1514 seg.\n",
      "Execução: 476 - Tempo: 4.2413 seg.\n",
      "Execução: 477 - Tempo: 4.1455 seg.\n",
      "Execução: 478 - Tempo: 4.2195 seg.\n",
      "Execução: 479 - Tempo: 4.1846 seg.\n",
      "Execução: 480 - Tempo: 4.1444 seg.\n",
      "Execução: 481 - Tempo: 4.2296 seg.\n",
      "Execução: 482 - Tempo: 4.1406 seg.\n",
      "Execução: 483 - Tempo: 4.1783 seg.\n",
      "Execução: 484 - Tempo: 4.2354 seg.\n",
      "Execução: 485 - Tempo: 4.1142 seg.\n",
      "Execução: 486 - Tempo: 4.1234 seg.\n",
      "Execução: 487 - Tempo: 4.1114 seg.\n",
      "Execução: 488 - Tempo: 4.1745 seg.\n",
      "Execução: 489 - Tempo: 3.9907 seg.\n",
      "Execução: 490 - Tempo: 4.0694 seg.\n",
      "Execução: 491 - Tempo: 4.1832 seg.\n",
      "Execução: 492 - Tempo: 4.1442 seg.\n",
      "Execução: 493 - Tempo: 3.9505 seg.\n",
      "Execução: 494 - Tempo: 4.1347 seg.\n",
      "Execução: 495 - Tempo: 4.0596 seg.\n",
      "Execução: 496 - Tempo: 4.0684 seg.\n",
      "Execução: 497 - Tempo: 4.2380 seg.\n",
      "Execução: 498 - Tempo: 4.2547 seg.\n",
      "Execução: 499 - Tempo: 4.2786 seg.\n",
      "Execução: 500 - Tempo: 4.1152 seg.\n",
      "Execução: 501 - Tempo: 4.1218 seg.\n",
      "Execução: 502 - Tempo: 4.2133 seg.\n",
      "Execução: 503 - Tempo: 4.2372 seg.\n",
      "Execução: 504 - Tempo: 4.2584 seg.\n",
      "Execução: 505 - Tempo: 4.1492 seg.\n",
      "Execução: 506 - Tempo: 4.0361 seg.\n",
      "Execução: 507 - Tempo: 4.0396 seg.\n",
      "Execução: 508 - Tempo: 4.2714 seg.\n",
      "Execução: 509 - Tempo: 4.0642 seg.\n",
      "Execução: 510 - Tempo: 4.2674 seg.\n",
      "Execução: 511 - Tempo: 4.0481 seg.\n",
      "Execução: 512 - Tempo: 4.1716 seg.\n",
      "Execução: 513 - Tempo: 4.2270 seg.\n",
      "Execução: 514 - Tempo: 4.2290 seg.\n",
      "Execução: 515 - Tempo: 4.1348 seg.\n",
      "Execução: 516 - Tempo: 4.1447 seg.\n",
      "Execução: 517 - Tempo: 4.1410 seg.\n",
      "Execução: 518 - Tempo: 4.1969 seg.\n",
      "Execução: 519 - Tempo: 4.2565 seg.\n",
      "Execução: 520 - Tempo: 4.2033 seg.\n",
      "Execução: 521 - Tempo: 4.1986 seg.\n",
      "Execução: 522 - Tempo: 4.0497 seg.\n",
      "Execução: 523 - Tempo: 4.2916 seg.\n",
      "Execução: 524 - Tempo: 4.1659 seg.\n",
      "Execução: 525 - Tempo: 4.0151 seg.\n",
      "Execução: 526 - Tempo: 3.9650 seg.\n",
      "Execução: 527 - Tempo: 4.5468 seg.\n",
      "Execução: 528 - Tempo: 3.9804 seg.\n",
      "Execução: 529 - Tempo: 4.0796 seg.\n",
      "Execução: 530 - Tempo: 3.9882 seg.\n",
      "Execução: 531 - Tempo: 4.0459 seg.\n",
      "Execução: 532 - Tempo: 4.1962 seg.\n",
      "Execução: 533 - Tempo: 4.1969 seg.\n",
      "Execução: 534 - Tempo: 4.1655 seg.\n",
      "Execução: 535 - Tempo: 4.0944 seg.\n",
      "Execução: 536 - Tempo: 4.2209 seg.\n",
      "Execução: 537 - Tempo: 4.2696 seg.\n",
      "Execução: 538 - Tempo: 4.1864 seg.\n",
      "Execução: 539 - Tempo: 4.1450 seg.\n",
      "Execução: 540 - Tempo: 4.3284 seg.\n",
      "Execução: 541 - Tempo: 4.3148 seg.\n",
      "Execução: 542 - Tempo: 4.3926 seg.\n",
      "Execução: 543 - Tempo: 4.2151 seg.\n",
      "Execução: 544 - Tempo: 4.1821 seg.\n",
      "Execução: 545 - Tempo: 4.2289 seg.\n",
      "Execução: 546 - Tempo: 4.0172 seg.\n",
      "Execução: 547 - Tempo: 4.1817 seg.\n",
      "Execução: 548 - Tempo: 4.1570 seg.\n",
      "Execução: 549 - Tempo: 4.1768 seg.\n",
      "Execução: 550 - Tempo: 4.1202 seg.\n",
      "Execução: 551 - Tempo: 4.1317 seg.\n",
      "Execução: 552 - Tempo: 4.1160 seg.\n",
      "Execução: 553 - Tempo: 4.1912 seg.\n",
      "Execução: 554 - Tempo: 4.1907 seg.\n",
      "Execução: 555 - Tempo: 4.2385 seg.\n",
      "Execução: 556 - Tempo: 4.0961 seg.\n",
      "Execução: 557 - Tempo: 4.2218 seg.\n",
      "Execução: 558 - Tempo: 4.2645 seg.\n",
      "Execução: 559 - Tempo: 4.1035 seg.\n",
      "Execução: 560 - Tempo: 4.2713 seg.\n",
      "Execução: 561 - Tempo: 4.3692 seg.\n",
      "Execução: 562 - Tempo: 4.2495 seg.\n",
      "Execução: 563 - Tempo: 4.0680 seg.\n",
      "Execução: 564 - Tempo: 3.9782 seg.\n",
      "Execução: 565 - Tempo: 4.0923 seg.\n",
      "Execução: 566 - Tempo: 4.0026 seg.\n",
      "Execução: 567 - Tempo: 4.1921 seg.\n",
      "Execução: 568 - Tempo: 4.2205 seg.\n",
      "Execução: 569 - Tempo: 4.2677 seg.\n",
      "Execução: 570 - Tempo: 4.0078 seg.\n",
      "Execução: 571 - Tempo: 4.1630 seg.\n",
      "Execução: 572 - Tempo: 4.2030 seg.\n",
      "Execução: 573 - Tempo: 4.3069 seg.\n",
      "Execução: 574 - Tempo: 4.1851 seg.\n",
      "Execução: 575 - Tempo: 4.1439 seg.\n",
      "Execução: 576 - Tempo: 4.1037 seg.\n",
      "Execução: 577 - Tempo: 4.1243 seg.\n",
      "Execução: 578 - Tempo: 4.2666 seg.\n",
      "Execução: 579 - Tempo: 4.1034 seg.\n",
      "Execução: 580 - Tempo: 4.0913 seg.\n",
      "Execução: 581 - Tempo: 4.2506 seg.\n",
      "Execução: 582 - Tempo: 4.1528 seg.\n",
      "Execução: 583 - Tempo: 4.0315 seg.\n",
      "Execução: 584 - Tempo: 4.1981 seg.\n",
      "Execução: 585 - Tempo: 4.2417 seg.\n",
      "Execução: 586 - Tempo: 4.2248 seg.\n",
      "Execução: 587 - Tempo: 4.1773 seg.\n",
      "Execução: 588 - Tempo: 5.7051 seg.\n",
      "Execução: 589 - Tempo: 4.1720 seg.\n",
      "Execução: 590 - Tempo: 4.3281 seg.\n",
      "Execução: 591 - Tempo: 4.1227 seg.\n",
      "Execução: 592 - Tempo: 4.1108 seg.\n",
      "Execução: 593 - Tempo: 4.2267 seg.\n",
      "Execução: 594 - Tempo: 4.0715 seg.\n",
      "Execução: 595 - Tempo: 4.2308 seg.\n",
      "Execução: 596 - Tempo: 4.1343 seg.\n",
      "Execução: 597 - Tempo: 4.0507 seg.\n",
      "Execução: 598 - Tempo: 4.2632 seg.\n",
      "Execução: 599 - Tempo: 5.0859 seg.\n",
      "Execução: 600 - Tempo: 4.1075 seg.\n",
      "Execução: 601 - Tempo: 4.0304 seg.\n",
      "Execução: 602 - Tempo: 4.2145 seg.\n",
      "Execução: 603 - Tempo: 4.2231 seg.\n",
      "Execução: 604 - Tempo: 4.1112 seg.\n",
      "Execução: 605 - Tempo: 4.0993 seg.\n",
      "Execução: 606 - Tempo: 4.0872 seg.\n",
      "Execução: 607 - Tempo: 4.2787 seg.\n",
      "Execução: 608 - Tempo: 4.2907 seg.\n",
      "Execução: 609 - Tempo: 4.1976 seg.\n",
      "Execução: 610 - Tempo: 4.1435 seg.\n",
      "Execução: 611 - Tempo: 4.0201 seg.\n",
      "Execução: 612 - Tempo: 4.4020 seg.\n",
      "Execução: 613 - Tempo: 4.2152 seg.\n",
      "Execução: 614 - Tempo: 4.0744 seg.\n",
      "Execução: 615 - Tempo: 4.2878 seg.\n",
      "Execução: 616 - Tempo: 3.9798 seg.\n",
      "Execução: 617 - Tempo: 4.2220 seg.\n",
      "Execução: 618 - Tempo: 4.2055 seg.\n",
      "Execução: 619 - Tempo: 4.1284 seg.\n",
      "Execução: 620 - Tempo: 4.2566 seg.\n",
      "Execução: 621 - Tempo: 4.1016 seg.\n",
      "Execução: 622 - Tempo: 3.9946 seg.\n",
      "Execução: 623 - Tempo: 4.3280 seg.\n",
      "Execução: 624 - Tempo: 4.2337 seg.\n",
      "Execução: 625 - Tempo: 4.0565 seg.\n",
      "Execução: 626 - Tempo: 4.2366 seg.\n",
      "Execução: 627 - Tempo: 4.1225 seg.\n",
      "Execução: 628 - Tempo: 4.2085 seg.\n",
      "Execução: 629 - Tempo: 4.1843 seg.\n",
      "Execução: 630 - Tempo: 4.0627 seg.\n",
      "Execução: 631 - Tempo: 4.0141 seg.\n",
      "Execução: 632 - Tempo: 4.2791 seg.\n",
      "Execução: 633 - Tempo: 4.2324 seg.\n",
      "Execução: 634 - Tempo: 4.1942 seg.\n",
      "Execução: 635 - Tempo: 4.1933 seg.\n",
      "Execução: 636 - Tempo: 4.1594 seg.\n",
      "Execução: 637 - Tempo: 4.2932 seg.\n",
      "Execução: 638 - Tempo: 4.1955 seg.\n",
      "Execução: 639 - Tempo: 4.1182 seg.\n",
      "Execução: 640 - Tempo: 4.0450 seg.\n",
      "Execução: 641 - Tempo: 4.0571 seg.\n",
      "Execução: 642 - Tempo: 4.2239 seg.\n",
      "Execução: 643 - Tempo: 4.2893 seg.\n",
      "Execução: 644 - Tempo: 4.2224 seg.\n",
      "Execução: 645 - Tempo: 4.2889 seg.\n",
      "Execução: 646 - Tempo: 4.0153 seg.\n",
      "Execução: 647 - Tempo: 4.1634 seg.\n",
      "Execução: 648 - Tempo: 4.2794 seg.\n",
      "Execução: 649 - Tempo: 4.1742 seg.\n",
      "Execução: 650 - Tempo: 4.2403 seg.\n",
      "Execução: 651 - Tempo: 4.2093 seg.\n",
      "Execução: 652 - Tempo: 3.9742 seg.\n",
      "Execução: 653 - Tempo: 4.1822 seg.\n",
      "Execução: 654 - Tempo: 4.1105 seg.\n",
      "Execução: 655 - Tempo: 4.1629 seg.\n",
      "Execução: 656 - Tempo: 4.1644 seg.\n",
      "Execução: 657 - Tempo: 4.1450 seg.\n",
      "Execução: 658 - Tempo: 4.2104 seg.\n",
      "Execução: 659 - Tempo: 4.0552 seg.\n",
      "Execução: 660 - Tempo: 4.1542 seg.\n",
      "Execução: 661 - Tempo: 4.2558 seg.\n",
      "Execução: 662 - Tempo: 4.2143 seg.\n",
      "Execução: 663 - Tempo: 4.0830 seg.\n",
      "Execução: 664 - Tempo: 4.0162 seg.\n",
      "Execução: 665 - Tempo: 4.1728 seg.\n",
      "Execução: 666 - Tempo: 4.1916 seg.\n",
      "Execução: 667 - Tempo: 4.2170 seg.\n",
      "Execução: 668 - Tempo: 4.1848 seg.\n",
      "Execução: 669 - Tempo: 4.1332 seg.\n",
      "Execução: 670 - Tempo: 4.1712 seg.\n",
      "Execução: 671 - Tempo: 4.2277 seg.\n",
      "Execução: 672 - Tempo: 4.1896 seg.\n",
      "Execução: 673 - Tempo: 4.6657 seg.\n",
      "Execução: 674 - Tempo: 4.2723 seg.\n",
      "Execução: 675 - Tempo: 4.2044 seg.\n",
      "Execução: 676 - Tempo: 3.9967 seg.\n",
      "Execução: 677 - Tempo: 4.0550 seg.\n",
      "Execução: 678 - Tempo: 4.1592 seg.\n",
      "Execução: 679 - Tempo: 4.2160 seg.\n",
      "Execução: 680 - Tempo: 4.1211 seg.\n",
      "Execução: 681 - Tempo: 4.0475 seg.\n",
      "Execução: 682 - Tempo: 4.1840 seg.\n",
      "Execução: 683 - Tempo: 4.2521 seg.\n",
      "Execução: 684 - Tempo: 4.1130 seg.\n",
      "Execução: 685 - Tempo: 4.0064 seg.\n",
      "Execução: 686 - Tempo: 4.2460 seg.\n",
      "Execução: 687 - Tempo: 4.0261 seg.\n",
      "Execução: 688 - Tempo: 4.1568 seg.\n",
      "Execução: 689 - Tempo: 4.2121 seg.\n",
      "Execução: 690 - Tempo: 4.0635 seg.\n",
      "Execução: 691 - Tempo: 4.2272 seg.\n",
      "Execução: 692 - Tempo: 4.1660 seg.\n",
      "Execução: 693 - Tempo: 4.3410 seg.\n",
      "Execução: 694 - Tempo: 4.2029 seg.\n",
      "Execução: 695 - Tempo: 4.0472 seg.\n",
      "Execução: 696 - Tempo: 4.2146 seg.\n",
      "Execução: 697 - Tempo: 4.0393 seg.\n",
      "Execução: 698 - Tempo: 4.1302 seg.\n",
      "Execução: 699 - Tempo: 4.1457 seg.\n",
      "Execução: 700 - Tempo: 4.0174 seg.\n",
      "Execução: 701 - Tempo: 4.1388 seg.\n",
      "Execução: 702 - Tempo: 4.2423 seg.\n",
      "Execução: 703 - Tempo: 4.2814 seg.\n",
      "Execução: 704 - Tempo: 4.1655 seg.\n",
      "Execução: 705 - Tempo: 4.0558 seg.\n",
      "Execução: 706 - Tempo: 4.0681 seg.\n",
      "Execução: 707 - Tempo: 4.2013 seg.\n",
      "Execução: 708 - Tempo: 4.1250 seg.\n",
      "Execução: 709 - Tempo: 4.0663 seg.\n",
      "Execução: 710 - Tempo: 4.0394 seg.\n",
      "Execução: 711 - Tempo: 4.1108 seg.\n",
      "Execução: 712 - Tempo: 4.0858 seg.\n",
      "Execução: 713 - Tempo: 4.2035 seg.\n",
      "Execução: 714 - Tempo: 4.2452 seg.\n",
      "Execução: 715 - Tempo: 4.2608 seg.\n",
      "Execução: 716 - Tempo: 4.2397 seg.\n",
      "Execução: 717 - Tempo: 4.1308 seg.\n",
      "Execução: 718 - Tempo: 4.1989 seg.\n",
      "Execução: 719 - Tempo: 4.2346 seg.\n",
      "Execução: 720 - Tempo: 4.4141 seg.\n",
      "Execução: 721 - Tempo: 4.1635 seg.\n",
      "Execução: 722 - Tempo: 4.1719 seg.\n",
      "Execução: 723 - Tempo: 4.2179 seg.\n",
      "Execução: 724 - Tempo: 4.0273 seg.\n",
      "Execução: 725 - Tempo: 4.0407 seg.\n",
      "Execução: 726 - Tempo: 4.0620 seg.\n",
      "Execução: 727 - Tempo: 4.2187 seg.\n",
      "Execução: 728 - Tempo: 4.0661 seg.\n",
      "Execução: 729 - Tempo: 4.2438 seg.\n",
      "Execução: 730 - Tempo: 4.2647 seg.\n",
      "Execução: 731 - Tempo: 4.2190 seg.\n",
      "Execução: 732 - Tempo: 4.1377 seg.\n",
      "Execução: 733 - Tempo: 3.9747 seg.\n",
      "Execução: 734 - Tempo: 4.1411 seg.\n",
      "Execução: 735 - Tempo: 4.1647 seg.\n",
      "Execução: 736 - Tempo: 4.2378 seg.\n",
      "Execução: 737 - Tempo: 4.2655 seg.\n",
      "Execução: 738 - Tempo: 4.1941 seg.\n",
      "Execução: 739 - Tempo: 4.0068 seg.\n",
      "Execução: 740 - Tempo: 4.1020 seg.\n",
      "Execução: 741 - Tempo: 4.2532 seg.\n",
      "Execução: 742 - Tempo: 4.0993 seg.\n",
      "Execução: 743 - Tempo: 4.2632 seg.\n",
      "Execução: 744 - Tempo: 4.0175 seg.\n",
      "Execução: 745 - Tempo: 4.2170 seg.\n",
      "Execução: 746 - Tempo: 4.0800 seg.\n",
      "Execução: 747 - Tempo: 4.0173 seg.\n",
      "Execução: 748 - Tempo: 4.1220 seg.\n",
      "Execução: 749 - Tempo: 4.2122 seg.\n",
      "Execução: 750 - Tempo: 4.0388 seg.\n",
      "Execução: 751 - Tempo: 4.2521 seg.\n",
      "Execução: 752 - Tempo: 4.0590 seg.\n",
      "Execução: 753 - Tempo: 4.1549 seg.\n",
      "Execução: 754 - Tempo: 4.2677 seg.\n",
      "Execução: 755 - Tempo: 4.2246 seg.\n",
      "Execução: 756 - Tempo: 4.0619 seg.\n",
      "Execução: 757 - Tempo: 3.9972 seg.\n",
      "Execução: 758 - Tempo: 4.1997 seg.\n",
      "Execução: 759 - Tempo: 4.0614 seg.\n",
      "Execução: 760 - Tempo: 3.9885 seg.\n",
      "Execução: 761 - Tempo: 4.1731 seg.\n",
      "Execução: 762 - Tempo: 4.2261 seg.\n",
      "Execução: 763 - Tempo: 4.1845 seg.\n",
      "Execução: 764 - Tempo: 4.0880 seg.\n",
      "Execução: 765 - Tempo: 4.2449 seg.\n",
      "Execução: 766 - Tempo: 4.3108 seg.\n",
      "Execução: 767 - Tempo: 4.2234 seg.\n",
      "Execução: 768 - Tempo: 4.1583 seg.\n",
      "Execução: 769 - Tempo: 4.0907 seg.\n",
      "Execução: 770 - Tempo: 4.1484 seg.\n",
      "Execução: 771 - Tempo: 3.9799 seg.\n",
      "Execução: 772 - Tempo: 4.1911 seg.\n",
      "Execução: 773 - Tempo: 4.2658 seg.\n",
      "Execução: 774 - Tempo: 4.2487 seg.\n",
      "Execução: 775 - Tempo: 4.3238 seg.\n",
      "Execução: 776 - Tempo: 4.2187 seg.\n",
      "Execução: 777 - Tempo: 4.2217 seg.\n",
      "Execução: 778 - Tempo: 4.2339 seg.\n",
      "Execução: 779 - Tempo: 4.3431 seg.\n",
      "Execução: 780 - Tempo: 4.1652 seg.\n",
      "Execução: 781 - Tempo: 4.1922 seg.\n",
      "Execução: 782 - Tempo: 4.1223 seg.\n",
      "Execução: 783 - Tempo: 3.9990 seg.\n",
      "Execução: 784 - Tempo: 4.1348 seg.\n",
      "Execução: 785 - Tempo: 4.4111 seg.\n",
      "Execução: 786 - Tempo: 4.2349 seg.\n",
      "Execução: 787 - Tempo: 4.0178 seg.\n",
      "Execução: 788 - Tempo: 4.2408 seg.\n",
      "Execução: 789 - Tempo: 4.2591 seg.\n",
      "Execução: 790 - Tempo: 4.1829 seg.\n",
      "Execução: 791 - Tempo: 4.7994 seg.\n",
      "Execução: 792 - Tempo: 4.0795 seg.\n",
      "Execução: 793 - Tempo: 4.2582 seg.\n",
      "Execução: 794 - Tempo: 4.2564 seg.\n",
      "Execução: 795 - Tempo: 4.1260 seg.\n",
      "Execução: 796 - Tempo: 4.0791 seg.\n",
      "Execução: 797 - Tempo: 4.1414 seg.\n",
      "Execução: 798 - Tempo: 4.2048 seg.\n",
      "Execução: 799 - Tempo: 4.2659 seg.\n",
      "Execução: 800 - Tempo: 4.0729 seg.\n",
      "Execução: 801 - Tempo: 3.9834 seg.\n",
      "Execução: 802 - Tempo: 4.0698 seg.\n",
      "Execução: 803 - Tempo: 4.2296 seg.\n",
      "Execução: 804 - Tempo: 4.1666 seg.\n",
      "Execução: 805 - Tempo: 4.2703 seg.\n",
      "Execução: 806 - Tempo: 4.1891 seg.\n",
      "Execução: 807 - Tempo: 4.1013 seg.\n",
      "Execução: 808 - Tempo: 4.2157 seg.\n",
      "Execução: 809 - Tempo: 4.2175 seg.\n",
      "Execução: 810 - Tempo: 4.2063 seg.\n",
      "Execução: 811 - Tempo: 4.2184 seg.\n",
      "Execução: 812 - Tempo: 4.1844 seg.\n",
      "Execução: 813 - Tempo: 4.1238 seg.\n",
      "Execução: 814 - Tempo: 4.2105 seg.\n",
      "Execução: 815 - Tempo: 4.1554 seg.\n",
      "Execução: 816 - Tempo: 4.1633 seg.\n",
      "Execução: 817 - Tempo: 4.1935 seg.\n",
      "Execução: 818 - Tempo: 4.2862 seg.\n",
      "Execução: 819 - Tempo: 4.2315 seg.\n",
      "Execução: 820 - Tempo: 5.8739 seg.\n",
      "Execução: 821 - Tempo: 4.2052 seg.\n",
      "Execução: 822 - Tempo: 4.3217 seg.\n",
      "Execução: 823 - Tempo: 4.2096 seg.\n",
      "Execução: 824 - Tempo: 5.2946 seg.\n",
      "Execução: 825 - Tempo: 3.9854 seg.\n",
      "Execução: 826 - Tempo: 4.0996 seg.\n",
      "Execução: 827 - Tempo: 4.0400 seg.\n",
      "Execução: 828 - Tempo: 4.0581 seg.\n",
      "Execução: 829 - Tempo: 4.0619 seg.\n",
      "Execução: 830 - Tempo: 4.1571 seg.\n",
      "Execução: 831 - Tempo: 4.0558 seg.\n",
      "Execução: 832 - Tempo: 4.2573 seg.\n",
      "Execução: 833 - Tempo: 4.0964 seg.\n",
      "Execução: 834 - Tempo: 4.2204 seg.\n",
      "Execução: 835 - Tempo: 3.9910 seg.\n",
      "Execução: 836 - Tempo: 4.2719 seg.\n",
      "Execução: 837 - Tempo: 4.1413 seg.\n",
      "Execução: 838 - Tempo: 4.1467 seg.\n",
      "Execução: 839 - Tempo: 4.2448 seg.\n",
      "Execução: 840 - Tempo: 4.2447 seg.\n",
      "Execução: 841 - Tempo: 4.1359 seg.\n",
      "Execução: 842 - Tempo: 3.9843 seg.\n",
      "Execução: 843 - Tempo: 4.1621 seg.\n",
      "Execução: 844 - Tempo: 4.2069 seg.\n",
      "Execução: 845 - Tempo: 4.1134 seg.\n",
      "Execução: 846 - Tempo: 4.2090 seg.\n",
      "Execução: 847 - Tempo: 4.1716 seg.\n",
      "Execução: 848 - Tempo: 4.0245 seg.\n",
      "Execução: 849 - Tempo: 4.1986 seg.\n",
      "Execução: 850 - Tempo: 4.3608 seg.\n",
      "Execução: 851 - Tempo: 4.1033 seg.\n",
      "Execução: 852 - Tempo: 4.2426 seg.\n",
      "Execução: 853 - Tempo: 4.2321 seg.\n",
      "Execução: 854 - Tempo: 4.2637 seg.\n",
      "Execução: 855 - Tempo: 4.2617 seg.\n",
      "Execução: 856 - Tempo: 4.1813 seg.\n",
      "Execução: 857 - Tempo: 4.1745 seg.\n",
      "Execução: 858 - Tempo: 4.3036 seg.\n",
      "Execução: 859 - Tempo: 4.2494 seg.\n",
      "Execução: 860 - Tempo: 4.1523 seg.\n",
      "Execução: 861 - Tempo: 4.2492 seg.\n",
      "Execução: 862 - Tempo: 4.1738 seg.\n",
      "Execução: 863 - Tempo: 4.0569 seg.\n",
      "Execução: 864 - Tempo: 4.2276 seg.\n",
      "Execução: 865 - Tempo: 4.2868 seg.\n",
      "Execução: 866 - Tempo: 4.1837 seg.\n",
      "Execução: 867 - Tempo: 4.1447 seg.\n",
      "Execução: 868 - Tempo: 4.1334 seg.\n",
      "Execução: 869 - Tempo: 4.2063 seg.\n",
      "Execução: 870 - Tempo: 3.9954 seg.\n",
      "Execução: 871 - Tempo: 4.2140 seg.\n",
      "Execução: 872 - Tempo: 4.2818 seg.\n",
      "Execução: 873 - Tempo: 4.0794 seg.\n",
      "Execução: 874 - Tempo: 4.2593 seg.\n",
      "Execução: 875 - Tempo: 4.2034 seg.\n",
      "Execução: 876 - Tempo: 4.2524 seg.\n",
      "Execução: 877 - Tempo: 4.2583 seg.\n",
      "Execução: 878 - Tempo: 4.2121 seg.\n",
      "Execução: 879 - Tempo: 4.2996 seg.\n",
      "Execução: 880 - Tempo: 4.1618 seg.\n",
      "Execução: 881 - Tempo: 4.1632 seg.\n",
      "Execução: 882 - Tempo: 4.1603 seg.\n",
      "Execução: 883 - Tempo: 4.2711 seg.\n",
      "Execução: 884 - Tempo: 4.2531 seg.\n",
      "Execução: 885 - Tempo: 4.3328 seg.\n",
      "Execução: 886 - Tempo: 4.3220 seg.\n",
      "Execução: 887 - Tempo: 4.1791 seg.\n",
      "Execução: 888 - Tempo: 4.1270 seg.\n",
      "Execução: 889 - Tempo: 4.2298 seg.\n",
      "Execução: 890 - Tempo: 4.1333 seg.\n",
      "Execução: 891 - Tempo: 4.2020 seg.\n",
      "Execução: 892 - Tempo: 4.0871 seg.\n",
      "Execução: 893 - Tempo: 4.1341 seg.\n",
      "Execução: 894 - Tempo: 4.0759 seg.\n",
      "Execução: 895 - Tempo: 4.1954 seg.\n",
      "Execução: 896 - Tempo: 3.9442 seg.\n",
      "Execução: 897 - Tempo: 4.1968 seg.\n",
      "Execução: 898 - Tempo: 4.2636 seg.\n",
      "Execução: 899 - Tempo: 4.0267 seg.\n",
      "Execução: 900 - Tempo: 4.1735 seg.\n",
      "Execução: 901 - Tempo: 4.0937 seg.\n",
      "Execução: 902 - Tempo: 4.1860 seg.\n",
      "Execução: 903 - Tempo: 4.1158 seg.\n",
      "Execução: 904 - Tempo: 4.2925 seg.\n",
      "Execução: 905 - Tempo: 4.2688 seg.\n",
      "Execução: 906 - Tempo: 4.3178 seg.\n",
      "Execução: 907 - Tempo: 4.2101 seg.\n",
      "Execução: 908 - Tempo: 4.1852 seg.\n",
      "Execução: 909 - Tempo: 4.0525 seg.\n",
      "Execução: 910 - Tempo: 4.2335 seg.\n",
      "Execução: 911 - Tempo: 4.2982 seg.\n",
      "Execução: 912 - Tempo: 4.0722 seg.\n",
      "Execução: 913 - Tempo: 4.5504 seg.\n",
      "Execução: 914 - Tempo: 3.9914 seg.\n",
      "Execução: 915 - Tempo: 4.2574 seg.\n",
      "Execução: 916 - Tempo: 4.2352 seg.\n",
      "Execução: 917 - Tempo: 4.1798 seg.\n",
      "Execução: 918 - Tempo: 4.1428 seg.\n",
      "Execução: 919 - Tempo: 3.9839 seg.\n",
      "Execução: 920 - Tempo: 4.2858 seg.\n",
      "Execução: 921 - Tempo: 4.0154 seg.\n",
      "Execução: 922 - Tempo: 4.2581 seg.\n",
      "Execução: 923 - Tempo: 4.0880 seg.\n",
      "Execução: 924 - Tempo: 4.2698 seg.\n",
      "Execução: 925 - Tempo: 4.1597 seg.\n",
      "Execução: 926 - Tempo: 4.1324 seg.\n",
      "Execução: 927 - Tempo: 4.2088 seg.\n",
      "Execução: 928 - Tempo: 4.0592 seg.\n",
      "Execução: 929 - Tempo: 4.0611 seg.\n",
      "Execução: 930 - Tempo: 4.1670 seg.\n",
      "Execução: 931 - Tempo: 4.2079 seg.\n",
      "Execução: 932 - Tempo: 4.5510 seg.\n",
      "Execução: 933 - Tempo: 4.0400 seg.\n",
      "Execução: 934 - Tempo: 4.0997 seg.\n",
      "Execução: 935 - Tempo: 4.1622 seg.\n",
      "Execução: 936 - Tempo: 4.5113 seg.\n",
      "Execução: 937 - Tempo: 4.2398 seg.\n",
      "Execução: 938 - Tempo: 4.2799 seg.\n",
      "Execução: 939 - Tempo: 3.9748 seg.\n",
      "Execução: 940 - Tempo: 3.9227 seg.\n",
      "Execução: 941 - Tempo: 4.1209 seg.\n",
      "Execução: 942 - Tempo: 4.1855 seg.\n",
      "Execução: 943 - Tempo: 4.1994 seg.\n",
      "Execução: 944 - Tempo: 4.1132 seg.\n",
      "Execução: 945 - Tempo: 4.1661 seg.\n",
      "Execução: 946 - Tempo: 4.2377 seg.\n",
      "Execução: 947 - Tempo: 4.2394 seg.\n",
      "Execução: 948 - Tempo: 7.0251 seg.\n",
      "Execução: 949 - Tempo: 3.9652 seg.\n",
      "Execução: 950 - Tempo: 4.1366 seg.\n",
      "Execução: 951 - Tempo: 4.2474 seg.\n",
      "Execução: 952 - Tempo: 4.2702 seg.\n",
      "Execução: 953 - Tempo: 4.1903 seg.\n",
      "Execução: 954 - Tempo: 4.1987 seg.\n",
      "Execução: 955 - Tempo: 5.1303 seg.\n",
      "Execução: 956 - Tempo: 4.2141 seg.\n",
      "Execução: 957 - Tempo: 4.1972 seg.\n",
      "Execução: 958 - Tempo: 3.9966 seg.\n",
      "Execução: 959 - Tempo: 4.3624 seg.\n",
      "Execução: 960 - Tempo: 4.1283 seg.\n",
      "Execução: 961 - Tempo: 4.2712 seg.\n",
      "Execução: 962 - Tempo: 4.0620 seg.\n",
      "Execução: 963 - Tempo: 4.1674 seg.\n",
      "Execução: 964 - Tempo: 4.1185 seg.\n",
      "Execução: 965 - Tempo: 4.2561 seg.\n",
      "Execução: 966 - Tempo: 4.2439 seg.\n",
      "Execução: 967 - Tempo: 4.1967 seg.\n",
      "Execução: 968 - Tempo: 4.1654 seg.\n",
      "Execução: 969 - Tempo: 4.2444 seg.\n",
      "Execução: 970 - Tempo: 4.2182 seg.\n",
      "Execução: 971 - Tempo: 4.1776 seg.\n",
      "Execução: 972 - Tempo: 4.1749 seg.\n",
      "Execução: 973 - Tempo: 4.2873 seg.\n",
      "Execução: 974 - Tempo: 4.1344 seg.\n",
      "Execução: 975 - Tempo: 4.0698 seg.\n",
      "Execução: 976 - Tempo: 4.0370 seg.\n",
      "Execução: 977 - Tempo: 4.1136 seg.\n",
      "Execução: 978 - Tempo: 4.1855 seg.\n",
      "Execução: 979 - Tempo: 4.3218 seg.\n",
      "Execução: 980 - Tempo: 4.2273 seg.\n",
      "Execução: 981 - Tempo: 3.9891 seg.\n",
      "Execução: 982 - Tempo: 4.1943 seg.\n",
      "Execução: 983 - Tempo: 4.2220 seg.\n",
      "Execução: 984 - Tempo: 4.1222 seg.\n",
      "Execução: 985 - Tempo: 4.0498 seg.\n",
      "Execução: 986 - Tempo: 4.1956 seg.\n",
      "Execução: 987 - Tempo: 4.1650 seg.\n",
      "Execução: 988 - Tempo: 3.9556 seg.\n",
      "Execução: 989 - Tempo: 4.0890 seg.\n",
      "Execução: 990 - Tempo: 4.2694 seg.\n",
      "Execução: 991 - Tempo: 4.3181 seg.\n",
      "Execução: 992 - Tempo: 4.1741 seg.\n",
      "Execução: 993 - Tempo: 4.2518 seg.\n",
      "Execução: 994 - Tempo: 4.2948 seg.\n",
      "Execução: 995 - Tempo: 4.2386 seg.\n",
      "Execução: 996 - Tempo: 4.1906 seg.\n",
      "Execução: 997 - Tempo: 4.0497 seg.\n",
      "Execução: 998 - Tempo: 4.1550 seg.\n",
      "Execução: 999 - Tempo: 4.2655 seg.\n"
     ]
    }
   ],
   "source": [
    "# Teste de estresse 2\n",
    "tempo_exec2=[]\n",
    "for i in range(TAM_POP):\n",
    "    tempo_atual = t.time()\n",
    "    # Teste QTD_CIDADES, DIST_MIN, DIST_MAX\n",
    "    string = 'mpiexec -n 6 python caixeiro_mpi.py '+str(QTD_CIDADES)+' '+str(DIST_MIN)+' '+str(DIST_MAX)+' '+'\\'False\\''+' > NUL' #Jogando a saida para null para não poluir o terminal\n",
    "    !$string\n",
    "    tempo_final = t.time()\n",
    "    tempo_final -= tempo_atual\n",
    "    tempo_exec2.append((i,tempo_final))\n",
    "    print('Execução: %d - Tempo: %.4f seg.' %(i, tempo_final))\n",
    "#print(tempo_exec2)"
   ]
  },
  {
   "attachments": {},
   "cell_type": "markdown",
   "id": "5cf849e8",
   "metadata": {
    "id": "5cf849e8"
   },
   "source": [
    "## Transfomando dados para 'numpy' para uso estatístico\n",
    "<H3><font color='Red'>Só rodar se a célula anterior for executada</font></H3>"
   ]
  },
  {
   "cell_type": "code",
   "execution_count": 9,
   "id": "27ee2c42",
   "metadata": {
    "id": "27ee2c42"
   },
   "outputs": [],
   "source": [
    "tempo_exec2 = np.array(tempo_exec2)\n",
    "np.savetxt('dataset_multi_core.txt', tempo_exec2, fmt='%f')\n",
    "#tempo_exec2"
   ]
  },
  {
   "attachments": {},
   "cell_type": "markdown",
   "id": "31926de0",
   "metadata": {
    "id": "31926de0"
   },
   "source": [
    "# Análise Estatística"
   ]
  },
  {
   "attachments": {},
   "cell_type": "markdown",
   "id": "21c6d555",
   "metadata": {
    "id": "21c6d555"
   },
   "source": [
    "## Leitura do Dataset"
   ]
  },
  {
   "cell_type": "code",
   "execution_count": 10,
   "id": "11eacd01",
   "metadata": {
    "id": "11eacd01"
   },
   "outputs": [],
   "source": [
    "# Lendo o dataset armazenado\n",
    "tempo_exec2 = np.loadtxt('dataset_multi_core.txt', dtype = float)"
   ]
  },
  {
   "attachments": {},
   "cell_type": "markdown",
   "id": "56986b80",
   "metadata": {
    "id": "56986b80"
   },
   "source": [
    "## Gráfico de disperção no tempo de execução"
   ]
  },
  {
   "cell_type": "code",
   "execution_count": 11,
   "id": "4acbad92",
   "metadata": {
    "id": "4acbad92",
    "outputId": "48264590-021c-469f-a748-fd6d2276b96b",
    "scrolled": false
   },
   "outputs": [
    {
     "data": {
      "image/png": "[encoded data removed]",
      "text/plain": [
       "<Figure size 1000x700 with 1 Axes>"
      ]
     },
     "metadata": {},
     "output_type": "display_data"
    }
   ],
   "source": [
    "plt.figure(figsize=(10,7))\n",
    "plt.scatter(tempo_exec2[:,0], tempo_exec2[:,1], label='Alg.Serial')\n",
    "plt.title('Tempo de execução')\n",
    "plt.xlabel('Tamanho da Lista')\n",
    "plt.ylabel('Segundos')\n",
    "plt.legend()\n",
    "plt.grid()\n",
    "plt.show()"
   ]
  },
  {
   "attachments": {},
   "cell_type": "markdown",
   "id": "ec97e55f",
   "metadata": {
    "id": "ec97e55f"
   },
   "source": [
    "## Cálculo de valores centrais:\n",
    "### (Média, Mediana, Moda)"
   ]
  },
  {
   "cell_type": "code",
   "execution_count": 12,
   "id": "f4aa3e09",
   "metadata": {
    "id": "f4aa3e09",
    "outputId": "539e6bf2-c1b1-4a67-a248-047040c33b09"
   },
   "outputs": [
    {
     "name": "stdout",
     "output_type": "stream",
     "text": [
      "Tempo médio de execução 4.1659\n"
     ]
    }
   ],
   "source": [
    "# Média\n",
    "tempo_exec2_media = tempo_exec2[:,1].mean()\n",
    "print('Tempo médio de execução %.4f' %tempo_exec2_media)"
   ]
  },
  {
   "cell_type": "code",
   "execution_count": 13,
   "id": "f4dfb71d",
   "metadata": {
    "id": "f4dfb71d",
    "outputId": "c8a3b610-4b68-4944-826f-8ff5ecac85ec"
   },
   "outputs": [
    {
     "name": "stdout",
     "output_type": "stream",
     "text": [
      "Desvio padrão 0.2193\n"
     ]
    }
   ],
   "source": [
    "# Desvio Padrão\n",
    "tempo_exec2_std = tempo_exec2[:,1].std()\n",
    "print('Desvio padrão %.4f' %tempo_exec2_std)"
   ]
  },
  {
   "cell_type": "code",
   "execution_count": 14,
   "id": "61d1f0d2",
   "metadata": {
    "id": "61d1f0d2",
    "outputId": "1baa1b84-0a82-4248-fed8-8af24094133f"
   },
   "outputs": [
    {
     "name": "stdout",
     "output_type": "stream",
     "text": [
      "Tempo mediano de execuçao 4.1562\n"
     ]
    }
   ],
   "source": [
    "# Médiana\n",
    "tempo_exec2_mediana = np.median(tempo_exec2[:,1])\n",
    "print('Tempo mediano de execuçao %.4f' %tempo_exec2_mediana)"
   ]
  },
  {
   "attachments": {},
   "cell_type": "markdown",
   "id": "d3118d96",
   "metadata": {
    "id": "d3118d96"
   },
   "source": [
    "## Análise Frequências"
   ]
  },
  {
   "attachments": {},
   "cell_type": "markdown",
   "id": "7ad8a0ae",
   "metadata": {
    "id": "7ad8a0ae"
   },
   "source": [
    "Não é possivel calcular a moda de uma população de valores numéricos contínuos. Neste caso podemos aplicar a **Regra de Sturges** para calcular a frequência da distribuição da amostra.\n",
    "$$k = 1 + \\frac {10}{3}\\log_{10}n$$"
   ]
  },
  {
   "cell_type": "code",
   "execution_count": 15,
   "id": "4a45960d",
   "metadata": {
    "id": "4a45960d",
    "outputId": "119f5579-5fde-4f25-c340-0d7847a2bd10"
   },
   "outputs": [
    {
     "name": "stdout",
     "output_type": "stream",
     "text": [
      "Tamanho da Amostra: 11\n"
     ]
    }
   ],
   "source": [
    "# Cálculo do intervalo de freqûencia: n = Tamanho da Amostra\n",
    "n = tempo_exec2.shape[0]\n",
    "k = 1 + (10/3)*np.log10(n)\n",
    "k = int(k.round(0))\n",
    "print(f'Tamanho da Amostra: {k}')"
   ]
  },
  {
   "cell_type": "code",
   "execution_count": 16,
   "id": "030b4e11",
   "metadata": {
    "id": "030b4e11",
    "outputId": "970630a1-a7cb-4c76-8985-2855530a83a7"
   },
   "outputs": [
    {
     "name": "stdout",
     "output_type": "stream",
     "text": [
      "(array([180, 790,  16,   2,   2,   3,   2,   2,   1,   0,   2], dtype=int64), array([3.752002  , 4.04955727, 4.34711255, 4.64466782, 4.94222309,\n",
      "       5.23977836, 5.53733364, 5.83488891, 6.13244418, 6.42999945,\n",
      "       6.72755473, 7.02511   ]))\n"
     ]
    }
   ],
   "source": [
    "# Coletando a frequência\n",
    "tempo_exec2_freq = np.histogram(tempo_exec2[:,1], bins= k)\n",
    "print(tempo_exec2_freq)"
   ]
  },
  {
   "cell_type": "code",
   "execution_count": 17,
   "id": "32b34e73",
   "metadata": {
    "id": "32b34e73",
    "outputId": "9b1511f6-42e5-4757-be63-437e831cf577"
   },
   "outputs": [
    {
     "name": "stderr",
     "output_type": "stream",
     "text": [
      "No artists with labels found to put in legend.  Note that artists whose label start with an underscore are ignored when legend() is called with no argument.\n"
     ]
    },
    {
     "data": {
      "image/png": "[encoded data removed]",
      "text/plain": [
       "<Figure size 1000x700 with 1 Axes>"
      ]
     },
     "metadata": {},
     "output_type": "display_data"
    }
   ],
   "source": [
    "plt.figure(figsize=(10,7))\n",
    "plt.hist(tempo_exec2[:,1], bins = k)\n",
    "plt.title('Histograma do Tempo de Execução')\n",
    "plt.ylabel('Frequência')\n",
    "plt.xlabel('Segundos')\n",
    "plt.legend()\n",
    "plt.grid()\n",
    "plt.show()"
   ]
  },
  {
   "attachments": {},
   "cell_type": "markdown",
   "id": "a042632d",
   "metadata": {
    "id": "a042632d"
   },
   "source": [
    "### **Verificando a possbilidade de dados OUTLIERS**\n",
    "**Medidas Separatrizes**: Quartis"
   ]
  },
  {
   "cell_type": "code",
   "execution_count": 18,
   "id": "967fb3b4",
   "metadata": {
    "id": "967fb3b4",
    "outputId": "a4844b00-e20c-436d-b032-53e6358ff8ea"
   },
   "outputs": [
    {
     "name": "stderr",
     "output_type": "stream",
     "text": [
      "No artists with labels found to put in legend.  Note that artists whose label start with an underscore are ignored when legend() is called with no argument.\n"
     ]
    },
    {
     "data": {
      "image/png": "[encoded data removed]",
      "text/plain": [
       "<Figure size 1000x700 with 1 Axes>"
      ]
     },
     "metadata": {},
     "output_type": "display_data"
    }
   ],
   "source": [
    "# Gráfico BoxPlot\n",
    "plt.figure(figsize=(10,7))\n",
    "plt.boxplot(tempo_exec2[:,1], vert = False)\n",
    "plt.title('Quartis do Tempo de Execução')\n",
    "plt.ylabel('Frequência')\n",
    "plt.xlabel('Segundos')\n",
    "plt.legend()\n",
    "plt.grid()\n",
    "plt.show()"
   ]
  },
  {
   "attachments": {},
   "cell_type": "markdown",
   "id": "e8b90a1e",
   "metadata": {
    "id": "e8b90a1e"
   },
   "source": [
    "### **Removendo dados \"extremos\" - Outliers**\n",
    "#### <font color='Red'> Ajustar os valores antes de executar </font>"
   ]
  },
  {
   "cell_type": "code",
   "execution_count": 19,
   "id": "5bf0fd52",
   "metadata": {
    "id": "5bf0fd52",
    "outputId": "cc23863a-0df5-4815-ef88-9d2dc948a6be",
    "scrolled": true
   },
   "outputs": [
    {
     "name": "stdout",
     "output_type": "stream",
     "text": [
      "Nº de registros originais: 1000\n",
      "Qtd. de registros removidos: 15\n",
      "Registros removidos: [37, 38, 131, 152, 239, 323, 426, 588, 599, 673, 791, 820, 824, 948, 955]\n",
      "Nº de registros corrigidos: 985\n",
      "[[ 0.        4.053715]\n",
      " [ 1.        3.978933]\n",
      " [ 2.        3.986342]\n",
      " [ 3.        3.951649]\n",
      " [ 4.        3.752002]\n",
      " [ 5.        3.925791]\n",
      " [ 6.        3.904343]\n",
      " [ 7.        3.858905]\n",
      " [ 8.        3.951485]\n",
      " [ 9.        3.910772]\n",
      " [10.        3.970983]\n",
      " [11.        3.894115]\n",
      " [12.        3.833888]\n",
      " [13.        4.054711]\n",
      " [14.        4.041118]]\n"
     ]
    }
   ],
   "source": [
    "# Remover valores da lista\n",
    "int_sup = tempo_exec2_media + (2 * tempo_exec2_std)\n",
    "int_inf = tempo_exec2_media - (2 * tempo_exec2_std)\n",
    "print(f'Nº de registros originais: {tempo_exec2.shape[0]}')\n",
    "registros = []\n",
    "for i in range(tempo_exec2.shape[0]):\n",
    "        if int_inf > tempo_exec2[i, 1] or tempo_exec2[i, 1] > int_sup:\n",
    "            registros.append(i)\n",
    "print(f'Qtd. de registros removidos: {len(registros)}')\n",
    "print(f'Registros removidos: {registros}')\n",
    "tempo_exec2 = np.delete(tempo_exec2, registros, 0)\n",
    "print(f'Nº de registros corrigidos: {tempo_exec2.shape[0]}')\n",
    "print(tempo_exec2[0:15])"
   ]
  },
  {
   "attachments": {},
   "cell_type": "markdown",
   "id": "c07cfd4f",
   "metadata": {
    "id": "c07cfd4f"
   },
   "source": [
    "### Salvando os registros corrigidos"
   ]
  },
  {
   "cell_type": "code",
   "execution_count": 20,
   "id": "b84892f2",
   "metadata": {
    "id": "b84892f2"
   },
   "outputs": [],
   "source": [
    "np.savetxt('dataset_multi_core_corrigido.txt', tempo_exec2, fmt='%f')"
   ]
  },
  {
   "cell_type": "code",
   "execution_count": 21,
   "id": "6b69d13a",
   "metadata": {
    "id": "6b69d13a",
    "outputId": "c5a75713-92e2-45e4-d0d3-6a8bb8f62d06"
   },
   "outputs": [
    {
     "name": "stdout",
     "output_type": "stream",
     "text": [
      "Tempo médio de execução 4.144185\n"
     ]
    }
   ],
   "source": [
    "# Média\n",
    "tempo_exec2_media = tempo_exec2[:,1].mean()\n",
    "print('Tempo médio de execução %f' %tempo_exec2_media)"
   ]
  },
  {
   "cell_type": "code",
   "execution_count": 22,
   "id": "9be0ccae",
   "metadata": {
    "id": "9be0ccae",
    "outputId": "df0d77b4-e47f-4245-fbc5-7202fe584704"
   },
   "outputs": [
    {
     "name": "stdout",
     "output_type": "stream",
     "text": [
      "Desvio padrão 0.1010\n"
     ]
    }
   ],
   "source": [
    "# Desvio Padrão\n",
    "tempo_exec2_std = tempo_exec2[:,1].std()\n",
    "print('Desvio padrão %.4f' %tempo_exec2_std)"
   ]
  },
  {
   "cell_type": "code",
   "execution_count": 23,
   "id": "c9c86821",
   "metadata": {
    "id": "c9c86821",
    "outputId": "d0a56a4e-6543-4d2e-d998-b31f70f39991"
   },
   "outputs": [
    {
     "name": "stdout",
     "output_type": "stream",
     "text": [
      "Tempo mediano de execuçao 4.1549\n"
     ]
    }
   ],
   "source": [
    "# Médiana\n",
    "tempo_exec2_mediana = np.median(tempo_exec2[:,1])\n",
    "print('Tempo mediano de execuçao %.4f' %tempo_exec2_mediana)"
   ]
  },
  {
   "attachments": {},
   "cell_type": "markdown",
   "id": "5a6abe11",
   "metadata": {
    "id": "5a6abe11"
   },
   "source": [
    "## Estatística - DISTRIBUIÇÕES DE PROBABILIDADE\n",
    "\n",
    "### Distribuição Normal\n",
    "\n",
    "#### Amostra (Média da População)"
   ]
  },
  {
   "cell_type": "code",
   "execution_count": 24,
   "id": "299c92e2",
   "metadata": {
    "id": "299c92e2"
   },
   "outputs": [],
   "source": [
    "# Parâmetros para uma media de amostragens\n",
    "tam_amost = 50\n",
    "qtd_amost = 200"
   ]
  },
  {
   "cell_type": "code",
   "execution_count": 25,
   "id": "1afa0264",
   "metadata": {
    "id": "1afa0264"
   },
   "outputs": [],
   "source": [
    "# Obtendo a media de amostragens\n",
    "amostra = []\n",
    "for i in range(qtd_amost):\n",
    "    amostra.append(np.random.choice(tempo_exec2[:,1], tam_amost).mean())\n",
    "amostra = np.array(amostra)"
   ]
  },
  {
   "cell_type": "code",
   "execution_count": 26,
   "id": "43f58fb4",
   "metadata": {
    "id": "43f58fb4",
    "outputId": "9ad16ecb-8a81-43a9-d4ab-f04ee6fffd0e"
   },
   "outputs": [
    {
     "name": "stdout",
     "output_type": "stream",
     "text": [
      "** Valores Centrais da Amostra **\n",
      "Média da amostra:       4.1449\n",
      "Desv.Padrão da amostra: 0.0159\n",
      "Mediana da amostra:     4.1447\n"
     ]
    }
   ],
   "source": [
    "# Valores Centrais da amostragem\n",
    "amostra_media   = amostra.mean()\n",
    "amostra_std     = amostra.std()\n",
    "amostra_mediana = np.median(amostra)\n",
    "print('** Valores Centrais da Amostra **')\n",
    "print('Média da amostra:       %.4f' %amostra_media)\n",
    "print('Desv.Padrão da amostra: %.4f' %amostra_std)\n",
    "print('Mediana da amostra:     %.4f' %amostra_mediana)"
   ]
  },
  {
   "cell_type": "code",
   "execution_count": 27,
   "id": "a0bf1d89",
   "metadata": {
    "id": "a0bf1d89",
    "outputId": "81f4d6f6-8ef1-42f4-9f3a-54ff5e458aee"
   },
   "outputs": [
    {
     "data": {
      "text/plain": [
       "0.0143"
      ]
     },
     "execution_count": 27,
     "metadata": {},
     "output_type": "execute_result"
    }
   ],
   "source": [
    "# Desvio Padrão de inferência calculado\n",
    "round(tempo_exec2_std / np.sqrt(tam_amost),4)"
   ]
  },
  {
   "cell_type": "code",
   "execution_count": 28,
   "id": "b2fe497f",
   "metadata": {
    "id": "b2fe497f",
    "outputId": "49cce5e5-d7d3-4d80-da46-49c4a3f4ae5b"
   },
   "outputs": [
    {
     "name": "stderr",
     "output_type": "stream",
     "text": [
      "No artists with labels found to put in legend.  Note that artists whose label start with an underscore are ignored when legend() is called with no argument.\n"
     ]
    },
    {
     "data": {
      "image/png": "[encoded data removed]",
      "text/plain": [
       "<Figure size 1000x700 with 1 Axes>"
      ]
     },
     "metadata": {},
     "output_type": "display_data"
    }
   ],
   "source": [
    "# Visualizando a amostra:\n",
    "plt.figure(figsize=(10,7))\n",
    "plt.hist(amostra, bins = k)\n",
    "plt.title('Histograma do Tempo de Execução')\n",
    "plt.ylabel('Frequência')\n",
    "plt.xlabel('Segundos')\n",
    "plt.legend()\n",
    "plt.grid()\n",
    "plt.show()"
   ]
  },
  {
   "cell_type": "code",
   "execution_count": 29,
   "id": "fe3e10b2",
   "metadata": {
    "id": "fe3e10b2"
   },
   "outputs": [
    {
     "name": "stderr",
     "output_type": "stream",
     "text": [
      "C:\\Users\\Thiago\\AppData\\Local\\Temp\\ipykernel_13920\\3257524375.py:2: DeprecationWarning: Use of keyword argument 'alpha' for method 'interval' is deprecated and wil be removed in SciPy 1.11.0. Use first positional argument or keyword argument 'confidence' instead.\n",
      "  intervalo = norm.interval(alpha = 0.99, loc = amostra_media, scale = amostra_std)\n"
     ]
    }
   ],
   "source": [
    "# Considerando a confiança de 99%\n",
    "intervalo = norm.interval(alpha = 0.99, loc = amostra_media, scale = amostra_std)"
   ]
  },
  {
   "cell_type": "code",
   "execution_count": 30,
   "id": "b4536ba9",
   "metadata": {
    "id": "b4536ba9",
    "outputId": "0e071b2c-f044-4dfa-c9b3-a48f0e881fcf"
   },
   "outputs": [
    {
     "name": "stderr",
     "output_type": "stream",
     "text": [
      "No artists with labels found to put in legend.  Note that artists whose label start with an underscore are ignored when legend() is called with no argument.\n"
     ]
    },
    {
     "data": {
      "image/png": "[encoded data removed]",
      "text/plain": [
       "<Figure size 1000x700 with 1 Axes>"
      ]
     },
     "metadata": {},
     "output_type": "display_data"
    }
   ],
   "source": [
    "# Visualizando a disperção de Pontos da Amostra\n",
    "plt.figure(figsize=(10,7))\n",
    "plt.scatter([i for i in range(qtd_amost)], amostra, marker='.')\n",
    "plt.hlines(y=intervalo[0], xmin=0, xmax=qtd_amost, color='red', linestyles='dashed')\n",
    "plt.hlines(y=intervalo[1], xmin=0, xmax=qtd_amost, color='red', linestyles='dashed')\n",
    "plt.hlines(y=amostra_media, xmin=0, xmax=qtd_amost, color='black', linestyles='dashed')\n",
    "plt.title('Gráfico de Disperção de pontos da amostra')\n",
    "plt.legend()\n",
    "plt.grid()\n",
    "plt.show()"
   ]
  },
  {
   "cell_type": "code",
   "execution_count": null,
   "id": "cbd78dc5",
   "metadata": {
    "id": "cbd78dc5"
   },
   "outputs": [],
   "source": []
  }
 ],
 "metadata": {
  "colab": {
   "provenance": []
  },
  "kernelspec": {
   "display_name": "Python 3 (ipykernel)",
   "language": "python",
   "name": "python3"
  },
  "language_info": {
   "codemirror_mode": {
    "name": "ipython",
    "version": 3
   },
   "file_extension": ".py",
   "mimetype": "text/x-python",
   "name": "python",
   "nbconvert_exporter": "python",
   "pygments_lexer": "ipython3",
   "version": "3.11.3"
  }
 },
 "nbformat": 4,
 "nbformat_minor": 5
}
